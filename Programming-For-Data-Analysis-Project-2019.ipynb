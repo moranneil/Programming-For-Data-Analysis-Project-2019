{
 "cells": [
  {
   "cell_type": "markdown",
   "metadata": {},
   "source": [
    "# Programming for Data Analysis Project 2019\n",
    "\n",
    "![Image](Images/pythonpandas.JPG \"Image\")\n"
   ]
  },
  {
   "cell_type": "markdown",
   "metadata": {},
   "source": [
    "## Problem Statement\n",
    "\n",
    "Create a dataset by simulating a real-word phenomenon. Rather than collect data associated with the choosen real-world phenomenon the data should be modeled and synthesise the data using Python **numpy.randon** package\n",
    "\n"
   ]
  },
  {
   "cell_type": "markdown",
   "metadata": {},
   "source": [
    "## Real World Phenomenon\n",
    "\n",
    "The real world phenomenon we will be simulating is the Irish Emergency Call Answering Service (ECAS). This is a 24hr 365 day a year call centre that answers emergency calls 112 or 999. \n",
    "\n",
    "When 112 or 999 is dialed from any PSTN phone in Ireland the call will be put through to an emergency front line operator in the ECAS call centre. The caller is then given the following options \n",
    "\n",
    "1. Garda \n",
    "2. Fire \n",
    "3. Ambulance\n",
    "4. Coast Guard \n",
    "\n",
    "Depending on the emergency the front line operator puts the call through to the appropiate emergency service, they continue to monitor the call until the emergency service takes responsibility for the call and responding to the emergency.\n",
    "\n",
    "They are also responsible for taking the location of the emergency call.\n",
    "\n",
    "From the call statistics published on the department of communications website the ECAS service answered over 1.8 million calls in 2017. This over 200 calls per hour. The average duration of calls were 7.57 secs \n",
    "\n",
    "References: \n",
    "https://www.dccae.gov.ie/en-ie/news-and-media/press-releases/Pages/Minister-Denis-Naughten-Publishes-New-Figures-on-Ireland%E2%80%99s-Emergency-Call-Answering-Service.aspx"
   ]
  },
  {
   "cell_type": "markdown",
   "metadata": {},
   "source": [
    "\n"
   ]
  },
  {
   "cell_type": "markdown",
   "metadata": {},
   "source": [
    "## Variables\n",
    "\n",
    "To simulate the ECAS call centre we will use Python **numpy.random** package The call centre will have the following variables and is open 24 hours 7 days a week and 365 days of the year.\n",
    "\n",
    "The first variable is a timeseries variable called **period** this will consist of a time period of one week in hourly intervals. This will give 145 rows in the Dataframe or dataset. \n",
    "\n",
    "1. period\n",
    "2. garda\n",
    "3. fire\n",
    "4. ambulance\n",
    "5. coast_guard\n",
    "6. total_calls\n",
    "\n",
    "To simulate the calls to the ECAS call center Numpy random.poisson distribution is used, garda, fire, ambulance and coast_guard calls all use Numpy random.poisson distrbution\n",
    "\n",
    "The total_calls variable is a sum total of calls for garda, fire, ambulance and coast_guard.\n",
    "\n",
    "References: \n",
    "https://en.wikipedia.org/wiki/Poisson_distribution\n"
   ]
  },
  {
   "cell_type": "markdown",
   "metadata": {},
   "source": [
    "## Building the Dataframe"
   ]
  },
  {
   "cell_type": "markdown",
   "metadata": {},
   "source": [
    "### Importing Python Packages"
   ]
  },
  {
   "cell_type": "markdown",
   "metadata": {},
   "source": [
    "The first step is to import the following Python packages. Numpy is imported to give the numpy random packages to simulate data for the dataset. Pandas constructs the actual dataframe consisting of rows and columns. Matplotlib.pyplot and seaborn are imported as graphic libraries to generate plots from the simulated data."
   ]
  },
  {
   "cell_type": "code",
   "execution_count": 1,
   "metadata": {},
   "outputs": [],
   "source": [
    "#The following Python packages are imported\n",
    "import numpy as np\n",
    "import pandas as pd\n",
    "import matplotlib.pyplot as plt\n",
    "import seaborn as sns"
   ]
  },
  {
   "cell_type": "markdown",
   "metadata": {},
   "source": [
    "### Defining the sampling start, end and frequency\n",
    "\n",
    "Once the packages Python packages are imported the first step is to define \n"
   ]
  },
  {
   "cell_type": "code",
   "execution_count": 2,
   "metadata": {},
   "outputs": [],
   "source": [
    "# The period of a week is choosen starting from the 1st January 2019, \n",
    "# the week is divided up in to hourly periods given 145 data points for the week.\n",
    "\n",
    "period =  pd.date_range('01-01-2017', '01-07-2017', freq='H')\n",
    "\n",
    "#Reference: \n",
    "#https://pandas.pydata.org/pandas-docs/stable/reference/api/pandas.date_range.html\n",
    "#https://jakevdp.github.io/PythonDataScienceHandbook/03.11-working-with-time-series.html"
   ]
  },
  {
   "cell_type": "code",
   "execution_count": 3,
   "metadata": {},
   "outputs": [
    {
     "data": {
      "text/plain": [
       "DatetimeIndex(['2017-01-01 00:00:00', '2017-01-01 01:00:00',\n",
       "               '2017-01-01 02:00:00', '2017-01-01 03:00:00',\n",
       "               '2017-01-01 04:00:00', '2017-01-01 05:00:00',\n",
       "               '2017-01-01 06:00:00', '2017-01-01 07:00:00',\n",
       "               '2017-01-01 08:00:00', '2017-01-01 09:00:00',\n",
       "               ...\n",
       "               '2017-01-06 15:00:00', '2017-01-06 16:00:00',\n",
       "               '2017-01-06 17:00:00', '2017-01-06 18:00:00',\n",
       "               '2017-01-06 19:00:00', '2017-01-06 20:00:00',\n",
       "               '2017-01-06 21:00:00', '2017-01-06 22:00:00',\n",
       "               '2017-01-06 23:00:00', '2017-01-07 00:00:00'],\n",
       "              dtype='datetime64[ns]', length=145, freq='H')"
      ]
     },
     "execution_count": 3,
     "metadata": {},
     "output_type": "execute_result"
    }
   ],
   "source": [
    "#period datetime index is printed out, the data type is datetime64 \n",
    "period"
   ]
  },
  {
   "cell_type": "markdown",
   "metadata": {},
   "source": [
    "### Defining ecas_garda dataframe\n",
    "\n",
    "The ecas_garda pandas dataframe is defined to capture garda emergency calls to the ECAS call centre for the period defined in the previous section, the ecas_garda dataframe consists of the datetime column and a Numpy random.poisson distribution for garda emergency calls, the poisson distrbution's $\\lambda$ is also a random integer.\n",
    "\n",
    "Defining the ecas_garda dataframe consists of two steps.\n",
    "\n",
    "1. Define the poisson distrbution's $\\lambda$ as a random integer\n",
    "2. Define the calls column as a Numpy **random.poisson** distrbution of the entire time period\n",
    "\n",
    "References:https://www.calvin.edu/~rpruim/courses/s341/S17/from-class/MathinRmd.html\n"
   ]
  },
  {
   "cell_type": "code",
   "execution_count": 4,
   "metadata": {},
   "outputs": [
    {
     "data": {
      "text/plain": [
       "82"
      ]
     },
     "execution_count": 4,
     "metadata": {},
     "output_type": "execute_result"
    }
   ],
   "source": [
    "#Define a random integer for the Poisson distrubution lamda value for calls for a garda emergency. \n",
    "#The random integer number is anywhere in the range of 45 to 185 calls per hour, this is a random range choosen.\n",
    "\n",
    "#The np.random.seed is used so that each run the same number is generated for lambda\n",
    "\n",
    "np.random.seed(1)\n",
    "garda_randomint = np.random.randint(45, 185)\n",
    "\n",
    "#The random integer is printed out below\n",
    "garda_randomint\n",
    "\n",
    "#Reference: https://docs.scipy.org/doc/numpy-1.15.1/reference/generated/numpy.random.randint.html"
   ]
  },
  {
   "cell_type": "markdown",
   "metadata": {},
   "source": [
    "Construct the **ecas_garda** dataframe using the **period** variable and label this column datetime. This dataframe will have the same number of rows as the period variable. The next line of code adds the **garda** column on to the new dataframe **ecas_garda** using a Numpy **random.poisson** function in Python. The resulting pandas dataframe has two columns, **datetime** and **garda**."
   ]
  },
  {
   "cell_type": "code",
   "execution_count": 5,
   "metadata": {},
   "outputs": [
    {
     "data": {
      "text/html": [
       "<div>\n",
       "<style scoped>\n",
       "    .dataframe tbody tr th:only-of-type {\n",
       "        vertical-align: middle;\n",
       "    }\n",
       "\n",
       "    .dataframe tbody tr th {\n",
       "        vertical-align: top;\n",
       "    }\n",
       "\n",
       "    .dataframe thead th {\n",
       "        text-align: right;\n",
       "    }\n",
       "</style>\n",
       "<table border=\"1\" class=\"dataframe\">\n",
       "  <thead>\n",
       "    <tr style=\"text-align: right;\">\n",
       "      <th></th>\n",
       "      <th>datetime</th>\n",
       "      <th>garda</th>\n",
       "    </tr>\n",
       "  </thead>\n",
       "  <tbody>\n",
       "    <tr>\n",
       "      <th>0</th>\n",
       "      <td>2017-01-01 00:00:00</td>\n",
       "      <td>80</td>\n",
       "    </tr>\n",
       "    <tr>\n",
       "      <th>1</th>\n",
       "      <td>2017-01-01 01:00:00</td>\n",
       "      <td>71</td>\n",
       "    </tr>\n",
       "    <tr>\n",
       "      <th>2</th>\n",
       "      <td>2017-01-01 02:00:00</td>\n",
       "      <td>73</td>\n",
       "    </tr>\n",
       "    <tr>\n",
       "      <th>3</th>\n",
       "      <td>2017-01-01 03:00:00</td>\n",
       "      <td>79</td>\n",
       "    </tr>\n",
       "    <tr>\n",
       "      <th>4</th>\n",
       "      <td>2017-01-01 04:00:00</td>\n",
       "      <td>80</td>\n",
       "    </tr>\n",
       "  </tbody>\n",
       "</table>\n",
       "</div>"
      ],
      "text/plain": [
       "             datetime  garda\n",
       "0 2017-01-01 00:00:00     80\n",
       "1 2017-01-01 01:00:00     71\n",
       "2 2017-01-01 02:00:00     73\n",
       "3 2017-01-01 03:00:00     79\n",
       "4 2017-01-01 04:00:00     80"
      ]
     },
     "execution_count": 5,
     "metadata": {},
     "output_type": "execute_result"
    }
   ],
   "source": [
    "#The np.random.seed is used so that each run the same values are generated on the poisson distribution\n",
    "#ecas_garda pandas Dataframe is constructed first with the period to produce a timeseries column of type timeseries labeling it 'datetime'\n",
    "#The datetime column is not an index to the dataframe and therefore can be in either the x or y axis of the plots.\n",
    "#The column garda is added on to the new dataframe using Numpy random.poisson distrbution function.\n",
    "#THe first 5 rows of the new dataframe is printed out.\n",
    "\n",
    "\n",
    "\n",
    "np.random.seed(1)\n",
    "ecas_garda = pd.DataFrame(period, columns=['datetime'])\n",
    "ecas_garda['garda'] = np.random.poisson(garda_randomint, len(period))\n",
    "ecas_garda.head()\n",
    "\n",
    "#Reference: \n",
    "#https://web.microsoftstream.com/video/db8801fe-9e42-4663-a508-5d6f38bb7327\n",
    "#https://docs.scipy.org/doc/numpy-1.15.1/reference/generated/numpy.random.poisson.html\n",
    "#https://www.dataquest.io/blog/tutorial-time-series-analysis-with-pandas/"
   ]
  },
  {
   "cell_type": "code",
   "execution_count": 6,
   "metadata": {},
   "outputs": [
    {
     "data": {
      "text/plain": [
       "datetime    datetime64[ns]\n",
       "garda                int32\n",
       "dtype: object"
      ]
     },
     "execution_count": 6,
     "metadata": {},
     "output_type": "execute_result"
    }
   ],
   "source": [
    "#This command verifies the data types in the ecas_garda dataframe. \n",
    "#The result is a datetime64 columns and an 32 bit integer column\n",
    "\n",
    "ecas_garda.dtypes\n",
    "\n",
    "#References:https://docs.scipy.org/doc/numpy-1.15.0/reference/arrays.datetime.html"
   ]
  },
  {
   "cell_type": "markdown",
   "metadata": {},
   "source": [
    "### Defining ecas_fire dataframe\n",
    "\n",
    "Again the ecas_fire pandas dataframe is defined to capture fire emergency calls to the ECAS call centre for the period defined in the previous section, the ecas_fire dataframe consists of the datetime column and a Numpy random.poisson distribution for emergency calls for the fire service, the poisson distrbution's $\\lambda$ is also a random integer.\n",
    "\n",
    "Defining the ecas_fire dataframe consists of two steps.\n",
    "\n",
    "1. Define the poisson distrbution's $\\lambda$ as a random integer\n",
    "2. Define the calls column as a Numpy **random.poisson** distrbution of the entire time period.\n",
    "\n",
    "References:https://www.calvin.edu/~rpruim/courses/s341/S17/from-class/MathinRmd.html"
   ]
  },
  {
   "cell_type": "code",
   "execution_count": 7,
   "metadata": {},
   "outputs": [
    {
     "data": {
      "text/plain": [
       "156"
      ]
     },
     "execution_count": 7,
     "metadata": {},
     "output_type": "execute_result"
    }
   ],
   "source": [
    "#Define a random integer for the Poisson distribution lamda value for calls for a fire emergency. \n",
    "#The random integer number is anywhere in the range of 50 to 160 calls per hour, this is a random range choosen.\n",
    "#The np.random.seed is used so that each run the same number is generated for lambda\n",
    "\n",
    "np.random.seed(3)\n",
    "fire_randomint = np.random.randint(50,160)\n",
    "\n",
    "# The random integer is printed out.\n",
    "fire_randomint\n",
    "\n",
    "#Reference: https://docs.scipy.org/doc/numpy-1.15.1/reference/generated/numpy.random.randint.html"
   ]
  },
  {
   "cell_type": "markdown",
   "metadata": {},
   "source": [
    "Construct the **ecas_fire** dataframe using the **period** variable and label this column datetime. This dataframe will have the same number of rows as the period variable. The next line of code adds the **fire** column on to the new dataframe **ecas_fire** using a Numpy **random.poisson** function in Python. The resulting pandas dataframe has two columns, **datetime** and **fire**."
   ]
  },
  {
   "cell_type": "code",
   "execution_count": 8,
   "metadata": {},
   "outputs": [
    {
     "data": {
      "text/html": [
       "<div>\n",
       "<style scoped>\n",
       "    .dataframe tbody tr th:only-of-type {\n",
       "        vertical-align: middle;\n",
       "    }\n",
       "\n",
       "    .dataframe tbody tr th {\n",
       "        vertical-align: top;\n",
       "    }\n",
       "\n",
       "    .dataframe thead th {\n",
       "        text-align: right;\n",
       "    }\n",
       "</style>\n",
       "<table border=\"1\" class=\"dataframe\">\n",
       "  <thead>\n",
       "    <tr style=\"text-align: right;\">\n",
       "      <th></th>\n",
       "      <th>datetime</th>\n",
       "      <th>fire</th>\n",
       "    </tr>\n",
       "  </thead>\n",
       "  <tbody>\n",
       "    <tr>\n",
       "      <th>0</th>\n",
       "      <td>2017-01-01 00:00:00</td>\n",
       "      <td>153</td>\n",
       "    </tr>\n",
       "    <tr>\n",
       "      <th>1</th>\n",
       "      <td>2017-01-01 01:00:00</td>\n",
       "      <td>141</td>\n",
       "    </tr>\n",
       "    <tr>\n",
       "      <th>2</th>\n",
       "      <td>2017-01-01 02:00:00</td>\n",
       "      <td>143</td>\n",
       "    </tr>\n",
       "    <tr>\n",
       "      <th>3</th>\n",
       "      <td>2017-01-01 03:00:00</td>\n",
       "      <td>152</td>\n",
       "    </tr>\n",
       "    <tr>\n",
       "      <th>4</th>\n",
       "      <td>2017-01-01 04:00:00</td>\n",
       "      <td>153</td>\n",
       "    </tr>\n",
       "  </tbody>\n",
       "</table>\n",
       "</div>"
      ],
      "text/plain": [
       "             datetime  fire\n",
       "0 2017-01-01 00:00:00   153\n",
       "1 2017-01-01 01:00:00   141\n",
       "2 2017-01-01 02:00:00   143\n",
       "3 2017-01-01 03:00:00   152\n",
       "4 2017-01-01 04:00:00   153"
      ]
     },
     "execution_count": 8,
     "metadata": {},
     "output_type": "execute_result"
    }
   ],
   "source": [
    "#The np.random.seed is used so that each run the same values are generated on the poisson distrbution\n",
    "#ecas_fire pandas Dataframe is constructed first with the period to produce a timeseries column of type timeseries labeling it 'datetime'\n",
    "#The datetime column is not an index to the dataframe and therefore can be in either the x or y axis of the plots.\n",
    "#The column fire is added on to the new dataframe using Numpy random.poisson distrbution function.\n",
    "#The first 5 rows of the new dataframe is printed out.\n",
    "\n",
    "\n",
    "np.random.seed(1)\n",
    "ecas_fire = pd.DataFrame(period, columns=['datetime'])\n",
    "ecas_fire['fire'] = np.random.poisson(fire_randomint, len(period))\n",
    "ecas_fire.head()\n",
    "\n",
    "#Reference: \n",
    "#https://web.microsoftstream.com/video/db8801fe-9e42-4663-a508-5d6f38bb7327\n",
    "#https://docs.scipy.org/doc/numpy-1.15.1/reference/generated/numpy.random.poisson.html\n",
    "#https://www.dataquest.io/blog/tutorial-time-series-analysis-with-pandas/"
   ]
  },
  {
   "cell_type": "code",
   "execution_count": 9,
   "metadata": {},
   "outputs": [
    {
     "data": {
      "text/plain": [
       "datetime    datetime64[ns]\n",
       "fire                 int32\n",
       "dtype: object"
      ]
     },
     "execution_count": 9,
     "metadata": {},
     "output_type": "execute_result"
    }
   ],
   "source": [
    "#This command verifies the data types in the ecas_fire dataframe. \n",
    "#The result is a datetime64 columns and an 32 bit integer column\n",
    "\n",
    "ecas_fire.dtypes\n",
    "\n",
    "#References:https://docs.scipy.org/doc/numpy-1.15.0/reference/arrays.datetime.html"
   ]
  },
  {
   "cell_type": "markdown",
   "metadata": {},
   "source": [
    "### Defining ecas_ambulance dataframe\n",
    "\n",
    "The ecas_ambulance pandas dataframe is defined to capture ambulance emergency calls to the ECAS call centre for the period defined in the previous section, the ecas_ambulance dataframe consists of the datetime column and a Numpy random.poisson distribution for the ambulance calls, the poisson distrbution's $\\lambda$ is also a random integer.\n",
    "\n",
    "Defining the ecas_ambulance dataframe consists of two steps.\n",
    "\n",
    "1. Define the poisson distrbution's $\\lambda$ as a random integer\n",
    "2. Define the calls column as a Numpy **random.poisson** distrbution of the entire time period.\n",
    "\n",
    "References:https://www.calvin.edu/~rpruim/courses/s341/S17/from-class/MathinRmd.html"
   ]
  },
  {
   "cell_type": "code",
   "execution_count": 10,
   "metadata": {},
   "outputs": [
    {
     "data": {
      "text/plain": [
       "210"
      ]
     },
     "execution_count": 10,
     "metadata": {},
     "output_type": "execute_result"
    }
   ],
   "source": [
    "#Define a random integer for the Poisson distrubution lamda value for calls for a ambulance emergency call. \n",
    "#The random integer number is anywhere in the range of 35 to 270 calls per hour, this is a random range choosen.\n",
    "#The np.random.seed is used so that each run the same number is generated for lambda\n",
    "\n",
    "np.random.seed(7)\n",
    "ambulance_randomint = np.random.randint(35,270)\n",
    "ambulance_randomint\n",
    "\n",
    "#Reference: https://docs.scipy.org/doc/numpy-1.15.1/reference/generated/numpy.random.randint.html"
   ]
  },
  {
   "cell_type": "markdown",
   "metadata": {},
   "source": [
    "Construct the **ecas_ambulance** dataframe using the **period** variable and label this column datetime. This dataframe will have the same number of rows as the period variable. The next line of code adds the **ambulance** column on to the new dataframe **ecas_ambulance** using a Numpy **random.poisson** function in Python. The resulting pandas dataframe has two columns, **datetime** and **ambulance**."
   ]
  },
  {
   "cell_type": "code",
   "execution_count": 11,
   "metadata": {},
   "outputs": [
    {
     "data": {
      "text/html": [
       "<div>\n",
       "<style scoped>\n",
       "    .dataframe tbody tr th:only-of-type {\n",
       "        vertical-align: middle;\n",
       "    }\n",
       "\n",
       "    .dataframe tbody tr th {\n",
       "        vertical-align: top;\n",
       "    }\n",
       "\n",
       "    .dataframe thead th {\n",
       "        text-align: right;\n",
       "    }\n",
       "</style>\n",
       "<table border=\"1\" class=\"dataframe\">\n",
       "  <thead>\n",
       "    <tr style=\"text-align: right;\">\n",
       "      <th></th>\n",
       "      <th>datetime</th>\n",
       "      <th>ambulance</th>\n",
       "    </tr>\n",
       "  </thead>\n",
       "  <tbody>\n",
       "    <tr>\n",
       "      <th>0</th>\n",
       "      <td>2017-01-01 00:00:00</td>\n",
       "      <td>206</td>\n",
       "    </tr>\n",
       "    <tr>\n",
       "      <th>1</th>\n",
       "      <td>2017-01-01 01:00:00</td>\n",
       "      <td>192</td>\n",
       "    </tr>\n",
       "    <tr>\n",
       "      <th>2</th>\n",
       "      <td>2017-01-01 02:00:00</td>\n",
       "      <td>195</td>\n",
       "    </tr>\n",
       "    <tr>\n",
       "      <th>3</th>\n",
       "      <td>2017-01-01 03:00:00</td>\n",
       "      <td>206</td>\n",
       "    </tr>\n",
       "    <tr>\n",
       "      <th>4</th>\n",
       "      <td>2017-01-01 04:00:00</td>\n",
       "      <td>207</td>\n",
       "    </tr>\n",
       "  </tbody>\n",
       "</table>\n",
       "</div>"
      ],
      "text/plain": [
       "             datetime  ambulance\n",
       "0 2017-01-01 00:00:00        206\n",
       "1 2017-01-01 01:00:00        192\n",
       "2 2017-01-01 02:00:00        195\n",
       "3 2017-01-01 03:00:00        206\n",
       "4 2017-01-01 04:00:00        207"
      ]
     },
     "execution_count": 11,
     "metadata": {},
     "output_type": "execute_result"
    }
   ],
   "source": [
    "#The np.random.seed is used so that each run the same values are generated on the poisson distribution\n",
    "#ecas_ambulance pandas Dataframe is constructed first with the period to produce a timeseries column of type timeseries labeling it 'datetime'\n",
    "#The datetime column is not an index to the dataframe and therefore can be in either the x or y axis of the plots.\n",
    "#The column fire is added on to the new dataframe using Numpy random.poisson distrbution function.\n",
    "#The first 5 rows of the new dataframe is printed out.\n",
    "\n",
    "np.random.seed(1)\n",
    "ecas_ambulance = pd.DataFrame(period, columns=['datetime'])\n",
    "ecas_ambulance['ambulance'] = np.random.poisson(ambulance_randomint, len(period))\n",
    "ecas_ambulance.head()\n",
    "\n",
    "#Reference: \n",
    "#https://web.microsoftstream.com/video/db8801fe-9e42-4663-a508-5d6f38bb7327\n",
    "#https://docs.scipy.org/doc/numpy-1.15.1/reference/generated/numpy.random.poisson.html\n",
    "#https://www.dataquest.io/blog/tutorial-time-series-analysis-with-pandas/"
   ]
  },
  {
   "cell_type": "code",
   "execution_count": 12,
   "metadata": {},
   "outputs": [
    {
     "data": {
      "text/plain": [
       "datetime     datetime64[ns]\n",
       "ambulance             int32\n",
       "dtype: object"
      ]
     },
     "execution_count": 12,
     "metadata": {},
     "output_type": "execute_result"
    }
   ],
   "source": [
    "#This command verifies the data types in the ecas_ambulance dataframe. \n",
    "#The result is a datetime64 columns and a 32 bit integer column\n",
    "\n",
    "ecas_ambulance.dtypes\n",
    "\n",
    "#References:https://docs.scipy.org/doc/numpy-1.15.0/reference/arrays.datetime.html"
   ]
  },
  {
   "cell_type": "markdown",
   "metadata": {},
   "source": [
    "### Defining ecas_coast_guard dataframe\n",
    "\n",
    "The ecas_coast_guard pandas dataframe is defined to capture coast_guard emergency calls to the ECAS call centre for the period defined in the previous section, the ecas_coast_guard dataframe consists of the datetime column and a Numpy random.poisson distribution for emergency calls for the fire service, the poisson distrbution's $\\lambda$ is also a random integer.\n",
    "\n",
    "Defining the ecas_coast_guard dataframe consists of two steps.\n",
    "\n",
    "1. Define the poisson distrbution's $\\lambda$ as a random integer\n",
    "2. Define the calls column as a Numpy **random.poisson** distrbution of the entire time period.\n",
    "\n",
    "References:https://www.calvin.edu/~rpruim/courses/s341/S17/from-class/MathinRmd.html"
   ]
  },
  {
   "cell_type": "code",
   "execution_count": 13,
   "metadata": {},
   "outputs": [
    {
     "data": {
      "text/plain": [
       "112"
      ]
     },
     "execution_count": 13,
     "metadata": {},
     "output_type": "execute_result"
    }
   ],
   "source": [
    "#Define a random integer for the Poisson distribution lamda value for calls for a coast_guard emergency call.\n",
    "#The random integer number is anywhere in the range of 30 to 265 calls per hour, this is a random range choosen.\n",
    "#The np.random.seed is used so that each run the same number is generated for lambda\n",
    "\n",
    "np.random.seed(13)\n",
    "coast_guard_randomint = np.random.randint(30, 265)\n",
    "coast_guard_randomint\n",
    "\n",
    "#Reference: https://docs.scipy.org/doc/numpy-1.15.1/reference/generated/numpy.random.randint.html"
   ]
  },
  {
   "cell_type": "markdown",
   "metadata": {},
   "source": [
    "Construct the **ecas_coast_guard** dataframe using the **period** variable and label this column datetime. This dataframe will have the same number of rows as the period variable. The next line of code adds the **coast_guard** column on to the new dataframe **ecas_coast_guard** using a Numpy **random.poisson** function in Python. The resulting pandas dataframe has two columns, **datetime** and **coast_guard**."
   ]
  },
  {
   "cell_type": "code",
   "execution_count": 14,
   "metadata": {},
   "outputs": [
    {
     "data": {
      "text/html": [
       "<div>\n",
       "<style scoped>\n",
       "    .dataframe tbody tr th:only-of-type {\n",
       "        vertical-align: middle;\n",
       "    }\n",
       "\n",
       "    .dataframe tbody tr th {\n",
       "        vertical-align: top;\n",
       "    }\n",
       "\n",
       "    .dataframe thead th {\n",
       "        text-align: right;\n",
       "    }\n",
       "</style>\n",
       "<table border=\"1\" class=\"dataframe\">\n",
       "  <thead>\n",
       "    <tr style=\"text-align: right;\">\n",
       "      <th></th>\n",
       "      <th>datetime</th>\n",
       "      <th>coast_guard</th>\n",
       "    </tr>\n",
       "  </thead>\n",
       "  <tbody>\n",
       "    <tr>\n",
       "      <th>0</th>\n",
       "      <td>2017-01-01 00:00:00</td>\n",
       "      <td>109</td>\n",
       "    </tr>\n",
       "    <tr>\n",
       "      <th>1</th>\n",
       "      <td>2017-01-01 01:00:00</td>\n",
       "      <td>99</td>\n",
       "    </tr>\n",
       "    <tr>\n",
       "      <th>2</th>\n",
       "      <td>2017-01-01 02:00:00</td>\n",
       "      <td>101</td>\n",
       "    </tr>\n",
       "    <tr>\n",
       "      <th>3</th>\n",
       "      <td>2017-01-01 03:00:00</td>\n",
       "      <td>109</td>\n",
       "    </tr>\n",
       "    <tr>\n",
       "      <th>4</th>\n",
       "      <td>2017-01-01 04:00:00</td>\n",
       "      <td>109</td>\n",
       "    </tr>\n",
       "  </tbody>\n",
       "</table>\n",
       "</div>"
      ],
      "text/plain": [
       "             datetime  coast_guard\n",
       "0 2017-01-01 00:00:00          109\n",
       "1 2017-01-01 01:00:00           99\n",
       "2 2017-01-01 02:00:00          101\n",
       "3 2017-01-01 03:00:00          109\n",
       "4 2017-01-01 04:00:00          109"
      ]
     },
     "execution_count": 14,
     "metadata": {},
     "output_type": "execute_result"
    }
   ],
   "source": [
    "#The np.random.seed is used so that each run the same values are generated on the poisson distribution\n",
    "#ecas_coast_guard pandas Dataframe is constructed first with the period to produce a timeseries column of type timeseries labeling it 'datetime'\n",
    "#The datetime column is not an index to the dataframe and therefore can be in either the x or y axis of the plots.\n",
    "#The column fire is added on to the new dataframe using Numpy random.poisson distrbution function.\n",
    "#The first 5 rows of the new dataframe is printed out.\n",
    "\n",
    "np.random.seed(1)\n",
    "ecas_coast_guard = pd.DataFrame(period, columns=['datetime'])\n",
    "ecas_coast_guard['coast_guard'] = np.random.poisson(coast_guard_randomint, len(period))\n",
    "ecas_coast_guard.head()\n",
    "\n",
    "#Reference: \n",
    "#https://web.microsoftstream.com/video/db8801fe-9e42-4663-a508-5d6f38bb7327\n",
    "#https://docs.scipy.org/doc/numpy-1.15.1/reference/generated/numpy.random.poisson.html\n",
    "#https://www.dataquest.io/blog/tutorial-time-series-analysis-with-pandas/"
   ]
  },
  {
   "cell_type": "code",
   "execution_count": 15,
   "metadata": {},
   "outputs": [
    {
     "data": {
      "text/plain": [
       "datetime       datetime64[ns]\n",
       "coast_guard             int32\n",
       "dtype: object"
      ]
     },
     "execution_count": 15,
     "metadata": {},
     "output_type": "execute_result"
    }
   ],
   "source": [
    "#This command verifies the data types in the ecas_coast_guard dataframe. \n",
    "#The result is a datetime64 columns and a 32 bit integer column\n",
    "\n",
    "ecas_coast_guard.dtypes\n",
    "\n",
    "#References:https://docs.scipy.org/doc/numpy-1.15.0/reference/arrays.datetime.html"
   ]
  },
  {
   "cell_type": "markdown",
   "metadata": {},
   "source": [
    "### Joining the dataframes together to make ecas dataframe\n",
    "\n",
    "We now have the following four dataframes for calls to each of the respective emergency service\n",
    "\n",
    "1. ecas_garda\n",
    "2. ecas_fire\n",
    "3. ecas_ambulance\n",
    "4. ecas_coast_guard\n",
    "\n",
    "Each of the dataframes above have the same **datetime** column. We will extract the calls column values from each dataframe and use them to define a new dataframe **ecas** and add a total_calls column to sum all calls to the ECAS call centre for the period defined. We can also still reference the individual dataframes to analyse each emergency calls category separately."
   ]
  },
  {
   "cell_type": "markdown",
   "metadata": {},
   "source": [
    "The first step in joining the pandas dataframes is to define a new dataframe ecas, then add the column values to the new dataframe. The ecas_garda dataframe is used to define the initial dataframe, note any of the four dataframe could have been used."
   ]
  },
  {
   "cell_type": "code",
   "execution_count": 16,
   "metadata": {},
   "outputs": [
    {
     "data": {
      "text/html": [
       "<div>\n",
       "<style scoped>\n",
       "    .dataframe tbody tr th:only-of-type {\n",
       "        vertical-align: middle;\n",
       "    }\n",
       "\n",
       "    .dataframe tbody tr th {\n",
       "        vertical-align: top;\n",
       "    }\n",
       "\n",
       "    .dataframe thead th {\n",
       "        text-align: right;\n",
       "    }\n",
       "</style>\n",
       "<table border=\"1\" class=\"dataframe\">\n",
       "  <thead>\n",
       "    <tr style=\"text-align: right;\">\n",
       "      <th></th>\n",
       "      <th>datetime</th>\n",
       "      <th>garda</th>\n",
       "    </tr>\n",
       "  </thead>\n",
       "  <tbody>\n",
       "    <tr>\n",
       "      <th>0</th>\n",
       "      <td>2017-01-01 00:00:00</td>\n",
       "      <td>80</td>\n",
       "    </tr>\n",
       "    <tr>\n",
       "      <th>1</th>\n",
       "      <td>2017-01-01 01:00:00</td>\n",
       "      <td>71</td>\n",
       "    </tr>\n",
       "    <tr>\n",
       "      <th>2</th>\n",
       "      <td>2017-01-01 02:00:00</td>\n",
       "      <td>73</td>\n",
       "    </tr>\n",
       "    <tr>\n",
       "      <th>3</th>\n",
       "      <td>2017-01-01 03:00:00</td>\n",
       "      <td>79</td>\n",
       "    </tr>\n",
       "    <tr>\n",
       "      <th>4</th>\n",
       "      <td>2017-01-01 04:00:00</td>\n",
       "      <td>80</td>\n",
       "    </tr>\n",
       "  </tbody>\n",
       "</table>\n",
       "</div>"
      ],
      "text/plain": [
       "             datetime  garda\n",
       "0 2017-01-01 00:00:00     80\n",
       "1 2017-01-01 01:00:00     71\n",
       "2 2017-01-01 02:00:00     73\n",
       "3 2017-01-01 03:00:00     79\n",
       "4 2017-01-01 04:00:00     80"
      ]
     },
     "execution_count": 16,
     "metadata": {},
     "output_type": "execute_result"
    }
   ],
   "source": [
    "#Define the new dataframe to equal ecas_garda dataframe\n",
    "\n",
    "ecas = ecas_garda\n",
    "\n",
    "#Print the first 5 rows of the new ecas dataframe\n",
    "ecas.head()\n"
   ]
  },
  {
   "cell_type": "markdown",
   "metadata": {},
   "source": [
    "The next few commands display the values in the columns that we want to add to the new pandas dataframe **ecas**."
   ]
  },
  {
   "cell_type": "code",
   "execution_count": 17,
   "metadata": {},
   "outputs": [
    {
     "data": {
      "text/plain": [
       "array([153, 141, 143, 152, 153, 144, 153, 140, 149, 135, 142, 137, 187,\n",
       "       163, 163, 148, 137, 176, 148, 145, 156, 159, 159, 137, 163, 128,\n",
       "       162, 182, 175, 140, 152, 179, 166, 173, 166, 147, 153, 162, 154,\n",
       "       153, 175, 149, 174, 176, 142, 180, 132, 164, 171, 158, 139, 159,\n",
       "       158, 168, 168, 172, 158, 131, 126, 145, 158, 158, 146, 144, 146,\n",
       "       160, 141, 133, 160, 159, 158, 162, 132, 161, 166, 147, 144, 157,\n",
       "       147, 165, 160, 184, 177, 152, 160, 178, 152, 143, 140, 169, 143,\n",
       "       140, 150, 159, 170, 154, 168, 156, 154, 149, 159, 167, 129, 160,\n",
       "       159, 148, 166, 166, 172, 162, 152, 152, 160, 144, 150, 162, 146,\n",
       "       157, 159, 157, 158, 150, 151, 163, 142, 150, 159, 177, 147, 144,\n",
       "       165, 146, 153, 146, 156, 141, 158, 141, 145, 167, 149, 170, 169,\n",
       "       137, 164])"
      ]
     },
     "execution_count": 17,
     "metadata": {},
     "output_type": "execute_result"
    }
   ],
   "source": [
    "# Creating an array of values from the Dataframe ecas_fire\n",
    "# Reference: https://stackoverflow.com/questions/46396257/adding-a-new-column-in-pandas-dataframe-from-another-dataframe-with-differing-in\n",
    "\n",
    "ecas_fire['fire'].values"
   ]
  },
  {
   "cell_type": "code",
   "execution_count": 18,
   "metadata": {},
   "outputs": [
    {
     "data": {
      "text/plain": [
       "array([206, 192, 195, 206, 207, 196, 206, 192, 202, 229, 186, 194, 188,\n",
       "       246, 218, 218, 200, 188, 233, 201, 197, 210, 213, 214, 188, 218,\n",
       "       177, 217, 241, 232, 192, 206, 236, 221, 230, 221, 200, 207, 217,\n",
       "       190, 208, 206, 232, 202, 230, 233, 194, 237, 182, 219, 228, 212,\n",
       "       191, 212, 224, 224, 228, 212, 181, 175, 197, 212, 213, 199, 196,\n",
       "       198, 215, 193, 183, 214, 213, 212, 217, 182, 215, 221, 199, 196,\n",
       "       211, 199, 220, 233, 215, 243, 234, 205, 214, 236, 206, 194, 191,\n",
       "       226, 195, 191, 203, 213, 208, 224, 210, 207, 202, 213, 223, 179,\n",
       "       218, 205, 214, 213, 201, 221, 221, 228, 217, 205, 206, 215, 196,\n",
       "       203, 217, 199, 211, 213, 211, 213, 203, 205, 218, 194, 203, 214,\n",
       "       234, 199, 196, 220, 199, 206, 198, 211, 193, 212, 192, 197, 223,\n",
       "       202, 227])"
      ]
     },
     "execution_count": 18,
     "metadata": {},
     "output_type": "execute_result"
    }
   ],
   "source": [
    "# Creating an array of values from the Dataframe ecas_ambulance\n",
    "# Reference: https://stackoverflow.com/questions/46396257/adding-a-new-column-in-pandas-dataframe-from-another-dataframe-with-differing-in\n",
    "\n",
    "ecas_ambulance['ambulance'].values"
   ]
  },
  {
   "cell_type": "code",
   "execution_count": 19,
   "metadata": {},
   "outputs": [
    {
     "data": {
      "text/plain": [
       "array([109,  99, 101, 109, 109, 102, 109,  99, 106, 126,  94,  96, 138,\n",
       "       118, 118, 105,  96, 129, 105, 102, 112, 114, 115,  96, 118,  88,\n",
       "       117, 134, 128,  99, 109, 131, 120, 127, 120, 104, 110, 117, 110,\n",
       "       109, 128, 106, 127, 129, 100, 132,  92, 119, 125, 114,  98, 114,\n",
       "       122, 122, 125, 114,  90,  86, 103, 114, 114, 104, 102, 103, 116,\n",
       "       100,  92, 115, 114, 113, 117,  92, 116, 120, 104, 101, 113, 104,\n",
       "       120, 136, 130, 109, 115, 131, 109, 101,  98, 123, 101,  98, 107,\n",
       "       114, 111, 122, 112, 110, 106, 114, 122,  89, 108, 115, 114, 105,\n",
       "       120, 120, 125, 117, 108, 109, 116, 102, 107, 126, 117, 104, 113,\n",
       "       114, 113, 114, 107, 108, 118, 100, 107, 115, 104, 101, 119, 104,\n",
       "       109, 103, 112,  99, 113,  99, 103, 122, 106, 124, 123,  96, 118,\n",
       "       122, 121])"
      ]
     },
     "execution_count": 19,
     "metadata": {},
     "output_type": "execute_result"
    }
   ],
   "source": [
    "# Creating an array of values from the Dataframe ecas_coast_guard\n",
    "# Reference: https://stackoverflow.com/questions/46396257/adding-a-new-column-in-pandas-dataframe-from-another-dataframe-with-differing-in\n",
    "ecas_coast_guard['coast_guard'].values"
   ]
  },
  {
   "cell_type": "markdown",
   "metadata": {},
   "source": [
    "The next few commands below add in the extracted column values as a new column to the new dataframe **ecas**"
   ]
  },
  {
   "cell_type": "code",
   "execution_count": 20,
   "metadata": {},
   "outputs": [
    {
     "data": {
      "text/html": [
       "<div>\n",
       "<style scoped>\n",
       "    .dataframe tbody tr th:only-of-type {\n",
       "        vertical-align: middle;\n",
       "    }\n",
       "\n",
       "    .dataframe tbody tr th {\n",
       "        vertical-align: top;\n",
       "    }\n",
       "\n",
       "    .dataframe thead th {\n",
       "        text-align: right;\n",
       "    }\n",
       "</style>\n",
       "<table border=\"1\" class=\"dataframe\">\n",
       "  <thead>\n",
       "    <tr style=\"text-align: right;\">\n",
       "      <th></th>\n",
       "      <th>datetime</th>\n",
       "      <th>garda</th>\n",
       "      <th>fire</th>\n",
       "    </tr>\n",
       "  </thead>\n",
       "  <tbody>\n",
       "    <tr>\n",
       "      <th>0</th>\n",
       "      <td>2017-01-01 00:00:00</td>\n",
       "      <td>80</td>\n",
       "      <td>153</td>\n",
       "    </tr>\n",
       "    <tr>\n",
       "      <th>1</th>\n",
       "      <td>2017-01-01 01:00:00</td>\n",
       "      <td>71</td>\n",
       "      <td>141</td>\n",
       "    </tr>\n",
       "    <tr>\n",
       "      <th>2</th>\n",
       "      <td>2017-01-01 02:00:00</td>\n",
       "      <td>73</td>\n",
       "      <td>143</td>\n",
       "    </tr>\n",
       "    <tr>\n",
       "      <th>3</th>\n",
       "      <td>2017-01-01 03:00:00</td>\n",
       "      <td>79</td>\n",
       "      <td>152</td>\n",
       "    </tr>\n",
       "    <tr>\n",
       "      <th>4</th>\n",
       "      <td>2017-01-01 04:00:00</td>\n",
       "      <td>80</td>\n",
       "      <td>153</td>\n",
       "    </tr>\n",
       "  </tbody>\n",
       "</table>\n",
       "</div>"
      ],
      "text/plain": [
       "             datetime  garda  fire\n",
       "0 2017-01-01 00:00:00     80   153\n",
       "1 2017-01-01 01:00:00     71   141\n",
       "2 2017-01-01 02:00:00     73   143\n",
       "3 2017-01-01 03:00:00     79   152\n",
       "4 2017-01-01 04:00:00     80   153"
      ]
     },
     "execution_count": 20,
     "metadata": {},
     "output_type": "execute_result"
    }
   ],
   "source": [
    "# The command below adds the fire column values from the ecas_fire dataframe to the ecas dataframe and labels it fire\n",
    "# Reference: https://stackoverflow.com/questions/46396257/adding-a-new-column-in-pandas-dataframe-from-another-dataframe-with-differing-in\n",
    "\n",
    "ecas['fire'] = ecas_fire['fire'].values\n",
    "\n",
    "#The new dataframe is printed\n",
    "ecas.head()"
   ]
  },
  {
   "cell_type": "code",
   "execution_count": 21,
   "metadata": {},
   "outputs": [
    {
     "data": {
      "text/html": [
       "<div>\n",
       "<style scoped>\n",
       "    .dataframe tbody tr th:only-of-type {\n",
       "        vertical-align: middle;\n",
       "    }\n",
       "\n",
       "    .dataframe tbody tr th {\n",
       "        vertical-align: top;\n",
       "    }\n",
       "\n",
       "    .dataframe thead th {\n",
       "        text-align: right;\n",
       "    }\n",
       "</style>\n",
       "<table border=\"1\" class=\"dataframe\">\n",
       "  <thead>\n",
       "    <tr style=\"text-align: right;\">\n",
       "      <th></th>\n",
       "      <th>datetime</th>\n",
       "      <th>garda</th>\n",
       "      <th>fire</th>\n",
       "      <th>ambulance</th>\n",
       "    </tr>\n",
       "  </thead>\n",
       "  <tbody>\n",
       "    <tr>\n",
       "      <th>0</th>\n",
       "      <td>2017-01-01 00:00:00</td>\n",
       "      <td>80</td>\n",
       "      <td>153</td>\n",
       "      <td>206</td>\n",
       "    </tr>\n",
       "    <tr>\n",
       "      <th>1</th>\n",
       "      <td>2017-01-01 01:00:00</td>\n",
       "      <td>71</td>\n",
       "      <td>141</td>\n",
       "      <td>192</td>\n",
       "    </tr>\n",
       "    <tr>\n",
       "      <th>2</th>\n",
       "      <td>2017-01-01 02:00:00</td>\n",
       "      <td>73</td>\n",
       "      <td>143</td>\n",
       "      <td>195</td>\n",
       "    </tr>\n",
       "    <tr>\n",
       "      <th>3</th>\n",
       "      <td>2017-01-01 03:00:00</td>\n",
       "      <td>79</td>\n",
       "      <td>152</td>\n",
       "      <td>206</td>\n",
       "    </tr>\n",
       "    <tr>\n",
       "      <th>4</th>\n",
       "      <td>2017-01-01 04:00:00</td>\n",
       "      <td>80</td>\n",
       "      <td>153</td>\n",
       "      <td>207</td>\n",
       "    </tr>\n",
       "  </tbody>\n",
       "</table>\n",
       "</div>"
      ],
      "text/plain": [
       "             datetime  garda  fire  ambulance\n",
       "0 2017-01-01 00:00:00     80   153        206\n",
       "1 2017-01-01 01:00:00     71   141        192\n",
       "2 2017-01-01 02:00:00     73   143        195\n",
       "3 2017-01-01 03:00:00     79   152        206\n",
       "4 2017-01-01 04:00:00     80   153        207"
      ]
     },
     "execution_count": 21,
     "metadata": {},
     "output_type": "execute_result"
    }
   ],
   "source": [
    "# The command below adds the ambulance column values from the ecas_ambulance dataframe to the ecas dataframe and labels it ambulance\n",
    "# Reference: https://stackoverflow.com/questions/46396257/adding-a-new-column-in-pandas-dataframe-from-another-dataframe-with-differing-in\n",
    "\n",
    "ecas['ambulance'] = ecas_ambulance['ambulance'].values\n",
    "\n",
    "#The new dataframe is printed\n",
    "ecas.head()"
   ]
  },
  {
   "cell_type": "code",
   "execution_count": 22,
   "metadata": {},
   "outputs": [
    {
     "data": {
      "text/html": [
       "<div>\n",
       "<style scoped>\n",
       "    .dataframe tbody tr th:only-of-type {\n",
       "        vertical-align: middle;\n",
       "    }\n",
       "\n",
       "    .dataframe tbody tr th {\n",
       "        vertical-align: top;\n",
       "    }\n",
       "\n",
       "    .dataframe thead th {\n",
       "        text-align: right;\n",
       "    }\n",
       "</style>\n",
       "<table border=\"1\" class=\"dataframe\">\n",
       "  <thead>\n",
       "    <tr style=\"text-align: right;\">\n",
       "      <th></th>\n",
       "      <th>datetime</th>\n",
       "      <th>garda</th>\n",
       "      <th>fire</th>\n",
       "      <th>ambulance</th>\n",
       "      <th>coast_guard</th>\n",
       "    </tr>\n",
       "  </thead>\n",
       "  <tbody>\n",
       "    <tr>\n",
       "      <th>0</th>\n",
       "      <td>2017-01-01 00:00:00</td>\n",
       "      <td>80</td>\n",
       "      <td>153</td>\n",
       "      <td>206</td>\n",
       "      <td>109</td>\n",
       "    </tr>\n",
       "    <tr>\n",
       "      <th>1</th>\n",
       "      <td>2017-01-01 01:00:00</td>\n",
       "      <td>71</td>\n",
       "      <td>141</td>\n",
       "      <td>192</td>\n",
       "      <td>99</td>\n",
       "    </tr>\n",
       "    <tr>\n",
       "      <th>2</th>\n",
       "      <td>2017-01-01 02:00:00</td>\n",
       "      <td>73</td>\n",
       "      <td>143</td>\n",
       "      <td>195</td>\n",
       "      <td>101</td>\n",
       "    </tr>\n",
       "    <tr>\n",
       "      <th>3</th>\n",
       "      <td>2017-01-01 03:00:00</td>\n",
       "      <td>79</td>\n",
       "      <td>152</td>\n",
       "      <td>206</td>\n",
       "      <td>109</td>\n",
       "    </tr>\n",
       "    <tr>\n",
       "      <th>4</th>\n",
       "      <td>2017-01-01 04:00:00</td>\n",
       "      <td>80</td>\n",
       "      <td>153</td>\n",
       "      <td>207</td>\n",
       "      <td>109</td>\n",
       "    </tr>\n",
       "  </tbody>\n",
       "</table>\n",
       "</div>"
      ],
      "text/plain": [
       "             datetime  garda  fire  ambulance  coast_guard\n",
       "0 2017-01-01 00:00:00     80   153        206          109\n",
       "1 2017-01-01 01:00:00     71   141        192           99\n",
       "2 2017-01-01 02:00:00     73   143        195          101\n",
       "3 2017-01-01 03:00:00     79   152        206          109\n",
       "4 2017-01-01 04:00:00     80   153        207          109"
      ]
     },
     "execution_count": 22,
     "metadata": {},
     "output_type": "execute_result"
    }
   ],
   "source": [
    "# The command below adds the coast_guard column values from the ecas_coast_guard dataframe to the ecas dataframe and labels it coiast_guard\n",
    "# Reference: https://stackoverflow.com/questions/46396257/adding-a-new-column-in-pandas-dataframe-from-another-dataframe-with-differing-in\n",
    "\n",
    "ecas['coast_guard'] = ecas_coast_guard['coast_guard'].values\n",
    "\n",
    "#The new dataframe is printed\n",
    "ecas.head()"
   ]
  },
  {
   "cell_type": "markdown",
   "metadata": {},
   "source": [
    "The column **total_calls** is defined as the sum of all the columns values for each hourly period. The columns summed to give **total_calls** are **garda**, **fire**, **ambulance**, and **coast_guard** "
   ]
  },
  {
   "cell_type": "code",
   "execution_count": 23,
   "metadata": {
    "scrolled": true
   },
   "outputs": [
    {
     "data": {
      "text/html": [
       "<div>\n",
       "<style scoped>\n",
       "    .dataframe tbody tr th:only-of-type {\n",
       "        vertical-align: middle;\n",
       "    }\n",
       "\n",
       "    .dataframe tbody tr th {\n",
       "        vertical-align: top;\n",
       "    }\n",
       "\n",
       "    .dataframe thead th {\n",
       "        text-align: right;\n",
       "    }\n",
       "</style>\n",
       "<table border=\"1\" class=\"dataframe\">\n",
       "  <thead>\n",
       "    <tr style=\"text-align: right;\">\n",
       "      <th></th>\n",
       "      <th>datetime</th>\n",
       "      <th>garda</th>\n",
       "      <th>fire</th>\n",
       "      <th>ambulance</th>\n",
       "      <th>coast_guard</th>\n",
       "      <th>total_calls</th>\n",
       "    </tr>\n",
       "  </thead>\n",
       "  <tbody>\n",
       "    <tr>\n",
       "      <th>0</th>\n",
       "      <td>2017-01-01 00:00:00</td>\n",
       "      <td>80</td>\n",
       "      <td>153</td>\n",
       "      <td>206</td>\n",
       "      <td>109</td>\n",
       "      <td>548</td>\n",
       "    </tr>\n",
       "    <tr>\n",
       "      <th>1</th>\n",
       "      <td>2017-01-01 01:00:00</td>\n",
       "      <td>71</td>\n",
       "      <td>141</td>\n",
       "      <td>192</td>\n",
       "      <td>99</td>\n",
       "      <td>503</td>\n",
       "    </tr>\n",
       "    <tr>\n",
       "      <th>2</th>\n",
       "      <td>2017-01-01 02:00:00</td>\n",
       "      <td>73</td>\n",
       "      <td>143</td>\n",
       "      <td>195</td>\n",
       "      <td>101</td>\n",
       "      <td>512</td>\n",
       "    </tr>\n",
       "    <tr>\n",
       "      <th>3</th>\n",
       "      <td>2017-01-01 03:00:00</td>\n",
       "      <td>79</td>\n",
       "      <td>152</td>\n",
       "      <td>206</td>\n",
       "      <td>109</td>\n",
       "      <td>546</td>\n",
       "    </tr>\n",
       "    <tr>\n",
       "      <th>4</th>\n",
       "      <td>2017-01-01 04:00:00</td>\n",
       "      <td>80</td>\n",
       "      <td>153</td>\n",
       "      <td>207</td>\n",
       "      <td>109</td>\n",
       "      <td>549</td>\n",
       "    </tr>\n",
       "  </tbody>\n",
       "</table>\n",
       "</div>"
      ],
      "text/plain": [
       "             datetime  garda  fire  ambulance  coast_guard  total_calls\n",
       "0 2017-01-01 00:00:00     80   153        206          109          548\n",
       "1 2017-01-01 01:00:00     71   141        192           99          503\n",
       "2 2017-01-01 02:00:00     73   143        195          101          512\n",
       "3 2017-01-01 03:00:00     79   152        206          109          546\n",
       "4 2017-01-01 04:00:00     80   153        207          109          549"
      ]
     },
     "execution_count": 23,
     "metadata": {},
     "output_type": "execute_result"
    }
   ],
   "source": [
    "# Sum columns garda, fire, ambulance, coast_guard to give a new column total_calls\n",
    "# Reference: https://stackoverflow.com/questions/34023918/make-new-column-in-panda-dataframe-by-adding-values-from-other-columns/34023971\n",
    "\n",
    "ecas['total_calls'] = ecas['garda'] + ecas['fire'] + ecas['ambulance'] + ecas['coast_guard']\n",
    "\n",
    "#The first 5 rows of the new dataframe ecas is printed\n",
    "ecas.head()"
   ]
  },
  {
   "cell_type": "code",
   "execution_count": 24,
   "metadata": {},
   "outputs": [
    {
     "data": {
      "text/plain": [
       "80753"
      ]
     },
     "execution_count": 24,
     "metadata": {},
     "output_type": "execute_result"
    }
   ],
   "source": [
    "ecas['total_calls'].sum()"
   ]
  },
  {
   "cell_type": "code",
   "execution_count": 25,
   "metadata": {},
   "outputs": [
    {
     "data": {
      "text/plain": [
       "datetime       datetime64[ns]\n",
       "garda                   int32\n",
       "fire                    int32\n",
       "ambulance               int32\n",
       "coast_guard             int32\n",
       "total_calls             int32\n",
       "dtype: object"
      ]
     },
     "execution_count": 25,
     "metadata": {},
     "output_type": "execute_result"
    }
   ],
   "source": [
    "ecas.dtypes"
   ]
  },
  {
   "cell_type": "markdown",
   "metadata": {},
   "source": [
    "### Average Call Duration\n",
    "\n",
    "The average ECAS call duration is 7.57 in 2017 according to the Department of environment website below.\n",
    "\n",
    "There is another variable to be added to the ecas dataframe\n",
    "\n",
    "1. total_avg_talk_time\n",
    "\n",
    "Reference: \n",
    "https://www.dccae.gov.ie/en-ie/news-and-media/press-releases/Pages/Minister-Denis-Naughten-Publishes-New-Figures-on-Ireland%E2%80%99s-Emergency-Call-Answering-Service.aspx"
   ]
  },
  {
   "cell_type": "markdown",
   "metadata": {},
   "source": [
    "## Analysing the Dataset\n",
    "\n",
    "In this section the dataset that was simulated in the previous section will be analysed. The analysis can be performed on the following pandas dataframes.\n",
    "\n",
    "1. ecas_garda\n",
    "2. ecas_fire\n",
    "3. ecas_ambulance\n",
    "4. ecas_coast_guard\n",
    "5. ecas\n",
    "\n",
    "\n"
   ]
  },
  {
   "cell_type": "code",
   "execution_count": 26,
   "metadata": {},
   "outputs": [
    {
     "data": {
      "text/html": [
       "<div>\n",
       "<style scoped>\n",
       "    .dataframe tbody tr th:only-of-type {\n",
       "        vertical-align: middle;\n",
       "    }\n",
       "\n",
       "    .dataframe tbody tr th {\n",
       "        vertical-align: top;\n",
       "    }\n",
       "\n",
       "    .dataframe thead th {\n",
       "        text-align: right;\n",
       "    }\n",
       "</style>\n",
       "<table border=\"1\" class=\"dataframe\">\n",
       "  <thead>\n",
       "    <tr style=\"text-align: right;\">\n",
       "      <th></th>\n",
       "      <th>garda</th>\n",
       "      <th>fire</th>\n",
       "      <th>ambulance</th>\n",
       "      <th>coast_guard</th>\n",
       "      <th>total_calls</th>\n",
       "    </tr>\n",
       "  </thead>\n",
       "  <tbody>\n",
       "    <tr>\n",
       "      <th>count</th>\n",
       "      <td>145.000000</td>\n",
       "      <td>145.000000</td>\n",
       "      <td>145.000000</td>\n",
       "      <td>145.000000</td>\n",
       "      <td>145.000000</td>\n",
       "    </tr>\n",
       "    <tr>\n",
       "      <th>mean</th>\n",
       "      <td>81.427586</td>\n",
       "      <td>155.151724</td>\n",
       "      <td>208.986207</td>\n",
       "      <td>111.351724</td>\n",
       "      <td>556.917241</td>\n",
       "    </tr>\n",
       "    <tr>\n",
       "      <th>std</th>\n",
       "      <td>9.178587</td>\n",
       "      <td>12.639407</td>\n",
       "      <td>14.712516</td>\n",
       "      <td>10.722854</td>\n",
       "      <td>29.267327</td>\n",
       "    </tr>\n",
       "    <tr>\n",
       "      <th>min</th>\n",
       "      <td>60.000000</td>\n",
       "      <td>126.000000</td>\n",
       "      <td>175.000000</td>\n",
       "      <td>86.000000</td>\n",
       "      <td>484.000000</td>\n",
       "    </tr>\n",
       "    <tr>\n",
       "      <th>25%</th>\n",
       "      <td>75.000000</td>\n",
       "      <td>146.000000</td>\n",
       "      <td>198.000000</td>\n",
       "      <td>104.000000</td>\n",
       "      <td>539.000000</td>\n",
       "    </tr>\n",
       "    <tr>\n",
       "      <th>50%</th>\n",
       "      <td>82.000000</td>\n",
       "      <td>156.000000</td>\n",
       "      <td>210.000000</td>\n",
       "      <td>112.000000</td>\n",
       "      <td>555.000000</td>\n",
       "    </tr>\n",
       "    <tr>\n",
       "      <th>75%</th>\n",
       "      <td>87.000000</td>\n",
       "      <td>163.000000</td>\n",
       "      <td>218.000000</td>\n",
       "      <td>118.000000</td>\n",
       "      <td>574.000000</td>\n",
       "    </tr>\n",
       "    <tr>\n",
       "      <th>max</th>\n",
       "      <td>104.000000</td>\n",
       "      <td>187.000000</td>\n",
       "      <td>246.000000</td>\n",
       "      <td>138.000000</td>\n",
       "      <td>629.000000</td>\n",
       "    </tr>\n",
       "  </tbody>\n",
       "</table>\n",
       "</div>"
      ],
      "text/plain": [
       "            garda        fire   ambulance  coast_guard  total_calls\n",
       "count  145.000000  145.000000  145.000000   145.000000   145.000000\n",
       "mean    81.427586  155.151724  208.986207   111.351724   556.917241\n",
       "std      9.178587   12.639407   14.712516    10.722854    29.267327\n",
       "min     60.000000  126.000000  175.000000    86.000000   484.000000\n",
       "25%     75.000000  146.000000  198.000000   104.000000   539.000000\n",
       "50%     82.000000  156.000000  210.000000   112.000000   555.000000\n",
       "75%     87.000000  163.000000  218.000000   118.000000   574.000000\n",
       "max    104.000000  187.000000  246.000000   138.000000   629.000000"
      ]
     },
     "execution_count": 26,
     "metadata": {},
     "output_type": "execute_result"
    }
   ],
   "source": [
    "# The command below gives a summary statics on the dataframe.\n",
    "\n",
    "ecas.describe()"
   ]
  },
  {
   "cell_type": "code",
   "execution_count": 27,
   "metadata": {},
   "outputs": [
    {
     "name": "stderr",
     "output_type": "stream",
     "text": [
      "C:\\Users\\User\\Anaconda3\\lib\\site-packages\\scipy\\stats\\stats.py:1713: FutureWarning: Using a non-tuple sequence for multidimensional indexing is deprecated; use `arr[tuple(seq)]` instead of `arr[seq]`. In the future this will be interpreted as an array index, `arr[np.array(seq)]`, which will result either in an error or a different result.\n",
      "  return np.add.reduce(sorted[indexer] * weights, axis=axis) / sumval\n"
     ]
    },
    {
     "data": {
      "image/png": "[encoded data removed]",
      "text/plain": [
       "<Figure size 720x720 with 1 Axes>"
      ]
     },
     "metadata": {
      "needs_background": "light"
     },
     "output_type": "display_data"
    }
   ],
   "source": [
    "# The four categories are plotted on one Seaborn histogram plot, each call category is coloured.\n",
    "plt.rcParams['figure.figsize'] = (10, 10)\n",
    "sns.distplot(ecas['garda'], hist=True, kde=False, label = 'garda' , color='blue')\n",
    "sns.distplot(ecas['fire'], hist=True, kde=False, label = 'fire' , color='red')\n",
    "sns.distplot(ecas['ambulance'], hist=True, kde=False, label = 'ambulance' , color='pink')\n",
    "sns.distplot(ecas['coast_guard'], hist=True, kde=False, label = 'coast_guard' , color='green')\n",
    "plt.title(\"Categories of Calls\")\n",
    "plt.xlabel('Calls')\n",
    "plt.ylabel('')\n",
    "plt.legend()\n",
    "plt.show()\n"
   ]
  },
  {
   "cell_type": "markdown",
   "metadata": {},
   "source": [
    "From the histogram above the spread of calls between the different emergency categories can be seen.\n",
    "\n",
    "Seed values were introduced to keep the values the same for notebook\n",
    "\n",
    "In this case the least amount of call received is **fire** calls. **garda** and **coast_guard**. The most amount of calls in this case were for the ambulance in this run. This will obviously vary every time the Numpy random.poisson functions are run for each of the categories.\n",
    "\n",
    "The histogram matches the descritive stats of the ecas dataframe. In this example the average number of calls for each caegory were as follows\n",
    "\n",
    "* garda = 127\n",
    "* fire = 59\n",
    "* ambulance = 210\n",
    "* coast_guard = 134\n",
    "\n",
    "This data matches the histogram peak bin values above."
   ]
  },
  {
   "cell_type": "code",
   "execution_count": 28,
   "metadata": {},
   "outputs": [
    {
     "data": {
      "text/plain": [
       "<matplotlib.axes._subplots.AxesSubplot at 0xcfcd071a20>"
      ]
     },
     "execution_count": 28,
     "metadata": {},
     "output_type": "execute_result"
    },
    {
     "data": {
      "image/png": "[encoded data removed]",
      "text/plain": [
       "<Figure size 720x720 with 1 Axes>"
      ]
     },
     "metadata": {
      "needs_background": "light"
     },
     "output_type": "display_data"
    }
   ],
   "source": [
    "plt.rcParams['figure.figsize'] = (10, 10)\n",
    "sns.lineplot(x=\"datetime\", y=\"garda\", data=ecas)"
   ]
  },
  {
   "cell_type": "code",
   "execution_count": 29,
   "metadata": {},
   "outputs": [
    {
     "data": {
      "text/plain": [
       "<matplotlib.axes._subplots.AxesSubplot at 0xcfcd46ca58>"
      ]
     },
     "execution_count": 29,
     "metadata": {},
     "output_type": "execute_result"
    },
    {
     "data": {
      "image/png": "[encoded data removed]",
      "text/plain": [
       "<Figure size 720x720 with 1 Axes>"
      ]
     },
     "metadata": {
      "needs_background": "light"
     },
     "output_type": "display_data"
    }
   ],
   "source": [
    "plt.rcParams['figure.figsize'] = (10, 10)\n",
    "sns.lineplot(x=\"datetime\", y=\"total_calls\", data=ecas)\n"
   ]
  },
  {
   "cell_type": "markdown",
   "metadata": {},
   "source": []
  },
  {
   "cell_type": "markdown",
   "metadata": {},
   "source": [
    "### Add talk_time and agent_required\n",
    "\n",
    "The next section of code will add in talk_time and agents_required to the ecas dataframe."
   ]
  },
  {
   "cell_type": "code",
   "execution_count": 30,
   "metadata": {},
   "outputs": [
    {
     "data": {
      "text/html": [
       "<div>\n",
       "<style scoped>\n",
       "    .dataframe tbody tr th:only-of-type {\n",
       "        vertical-align: middle;\n",
       "    }\n",
       "\n",
       "    .dataframe tbody tr th {\n",
       "        vertical-align: top;\n",
       "    }\n",
       "\n",
       "    .dataframe thead th {\n",
       "        text-align: right;\n",
       "    }\n",
       "</style>\n",
       "<table border=\"1\" class=\"dataframe\">\n",
       "  <thead>\n",
       "    <tr style=\"text-align: right;\">\n",
       "      <th></th>\n",
       "      <th>datetime</th>\n",
       "      <th>garda</th>\n",
       "      <th>fire</th>\n",
       "      <th>ambulance</th>\n",
       "      <th>coast_guard</th>\n",
       "      <th>total_calls</th>\n",
       "      <th>total_avg_talk_time</th>\n",
       "    </tr>\n",
       "  </thead>\n",
       "  <tbody>\n",
       "    <tr>\n",
       "      <th>0</th>\n",
       "      <td>2017-01-01 00:00:00</td>\n",
       "      <td>80</td>\n",
       "      <td>153</td>\n",
       "      <td>206</td>\n",
       "      <td>109</td>\n",
       "      <td>548</td>\n",
       "      <td>4384</td>\n",
       "    </tr>\n",
       "    <tr>\n",
       "      <th>1</th>\n",
       "      <td>2017-01-01 01:00:00</td>\n",
       "      <td>71</td>\n",
       "      <td>141</td>\n",
       "      <td>192</td>\n",
       "      <td>99</td>\n",
       "      <td>503</td>\n",
       "      <td>4024</td>\n",
       "    </tr>\n",
       "    <tr>\n",
       "      <th>2</th>\n",
       "      <td>2017-01-01 02:00:00</td>\n",
       "      <td>73</td>\n",
       "      <td>143</td>\n",
       "      <td>195</td>\n",
       "      <td>101</td>\n",
       "      <td>512</td>\n",
       "      <td>4096</td>\n",
       "    </tr>\n",
       "    <tr>\n",
       "      <th>3</th>\n",
       "      <td>2017-01-01 03:00:00</td>\n",
       "      <td>79</td>\n",
       "      <td>152</td>\n",
       "      <td>206</td>\n",
       "      <td>109</td>\n",
       "      <td>546</td>\n",
       "      <td>4368</td>\n",
       "    </tr>\n",
       "    <tr>\n",
       "      <th>4</th>\n",
       "      <td>2017-01-01 04:00:00</td>\n",
       "      <td>80</td>\n",
       "      <td>153</td>\n",
       "      <td>207</td>\n",
       "      <td>109</td>\n",
       "      <td>549</td>\n",
       "      <td>4392</td>\n",
       "    </tr>\n",
       "  </tbody>\n",
       "</table>\n",
       "</div>"
      ],
      "text/plain": [
       "             datetime  garda  fire  ambulance  coast_guard  total_calls  \\\n",
       "0 2017-01-01 00:00:00     80   153        206          109          548   \n",
       "1 2017-01-01 01:00:00     71   141        192           99          503   \n",
       "2 2017-01-01 02:00:00     73   143        195          101          512   \n",
       "3 2017-01-01 03:00:00     79   152        206          109          546   \n",
       "4 2017-01-01 04:00:00     80   153        207          109          549   \n",
       "\n",
       "   total_avg_talk_time  \n",
       "0                 4384  \n",
       "1                 4024  \n",
       "2                 4096  \n",
       "3                 4368  \n",
       "4                 4392  "
      ]
     },
     "execution_count": 30,
     "metadata": {},
     "output_type": "execute_result"
    }
   ],
   "source": [
    "ecas['total_avg_talk_time'] = ecas['total_calls'] * 8\n",
    "ecas.head()"
   ]
  },
  {
   "cell_type": "code",
   "execution_count": 31,
   "metadata": {},
   "outputs": [
    {
     "data": {
      "text/html": [
       "<div>\n",
       "<style scoped>\n",
       "    .dataframe tbody tr th:only-of-type {\n",
       "        vertical-align: middle;\n",
       "    }\n",
       "\n",
       "    .dataframe tbody tr th {\n",
       "        vertical-align: top;\n",
       "    }\n",
       "\n",
       "    .dataframe thead th {\n",
       "        text-align: right;\n",
       "    }\n",
       "</style>\n",
       "<table border=\"1\" class=\"dataframe\">\n",
       "  <thead>\n",
       "    <tr style=\"text-align: right;\">\n",
       "      <th></th>\n",
       "      <th>datetime</th>\n",
       "      <th>garda</th>\n",
       "      <th>fire</th>\n",
       "      <th>ambulance</th>\n",
       "      <th>coast_guard</th>\n",
       "      <th>total_calls</th>\n",
       "      <th>total_avg_talk_time</th>\n",
       "    </tr>\n",
       "  </thead>\n",
       "  <tbody>\n",
       "  </tbody>\n",
       "</table>\n",
       "</div>"
      ],
      "text/plain": [
       "Empty DataFrame\n",
       "Columns: [datetime, garda, fire, ambulance, coast_guard, total_calls, total_avg_talk_time]\n",
       "Index: []"
      ]
     },
     "execution_count": 31,
     "metadata": {},
     "output_type": "execute_result"
    }
   ],
   "source": [
    "ecas_jan = ecas.loc['2018-01-01':'2018-01-31']\n",
    "ecas_jan.head()"
   ]
  },
  {
   "cell_type": "code",
   "execution_count": 32,
   "metadata": {},
   "outputs": [
    {
     "data": {
      "text/plain": [
       "0"
      ]
     },
     "execution_count": 32,
     "metadata": {},
     "output_type": "execute_result"
    }
   ],
   "source": [
    "ecas_jan['total_calls'].sum()"
   ]
  },
  {
   "cell_type": "code",
   "execution_count": 33,
   "metadata": {},
   "outputs": [
    {
     "data": {
      "text/html": [
       "<div>\n",
       "<style scoped>\n",
       "    .dataframe tbody tr th:only-of-type {\n",
       "        vertical-align: middle;\n",
       "    }\n",
       "\n",
       "    .dataframe tbody tr th {\n",
       "        vertical-align: top;\n",
       "    }\n",
       "\n",
       "    .dataframe thead th {\n",
       "        text-align: right;\n",
       "    }\n",
       "</style>\n",
       "<table border=\"1\" class=\"dataframe\">\n",
       "  <thead>\n",
       "    <tr style=\"text-align: right;\">\n",
       "      <th></th>\n",
       "      <th>datetime</th>\n",
       "      <th>garda</th>\n",
       "      <th>fire</th>\n",
       "      <th>ambulance</th>\n",
       "      <th>coast_guard</th>\n",
       "      <th>total_calls</th>\n",
       "      <th>total_avg_talk_time</th>\n",
       "    </tr>\n",
       "  </thead>\n",
       "  <tbody>\n",
       "  </tbody>\n",
       "</table>\n",
       "</div>"
      ],
      "text/plain": [
       "Empty DataFrame\n",
       "Columns: [datetime, garda, fire, ambulance, coast_guard, total_calls, total_avg_talk_time]\n",
       "Index: []"
      ]
     },
     "execution_count": 33,
     "metadata": {},
     "output_type": "execute_result"
    }
   ],
   "source": [
    "ecas_jan.head()"
   ]
  },
  {
   "cell_type": "code",
   "execution_count": 34,
   "metadata": {},
   "outputs": [
    {
     "ename": "AttributeError",
     "evalue": "'RangeIndex' object has no attribute 'month'",
     "output_type": "error",
     "traceback": [
      "\u001b[1;31m---------------------------------------------------------------------------\u001b[0m",
      "\u001b[1;31mAttributeError\u001b[0m                            Traceback (most recent call last)",
      "\u001b[1;32m<ipython-input-34-2b0eda6f6384>\u001b[0m in \u001b[0;36m<module>\u001b[1;34m\u001b[0m\n\u001b[1;32m----> 1\u001b[1;33m \u001b[0mecas\u001b[0m\u001b[1;33m[\u001b[0m\u001b[0mecas\u001b[0m\u001b[1;33m.\u001b[0m\u001b[0mindex\u001b[0m\u001b[1;33m.\u001b[0m\u001b[0mmonth\u001b[0m \u001b[1;33m==\u001b[0m \u001b[1;36m1\u001b[0m\u001b[1;33m]\u001b[0m\u001b[1;33m[\u001b[0m\u001b[1;34m'total_calls'\u001b[0m\u001b[1;33m]\u001b[0m\u001b[1;33m.\u001b[0m\u001b[0msum\u001b[0m\u001b[1;33m(\u001b[0m\u001b[1;33m)\u001b[0m\u001b[1;33m\u001b[0m\u001b[1;33m\u001b[0m\u001b[0m\n\u001b[0m",
      "\u001b[1;31mAttributeError\u001b[0m: 'RangeIndex' object has no attribute 'month'"
     ]
    }
   ],
   "source": [
    "ecas[ecas.index.month == 1]['total_calls'].sum()"
   ]
  },
  {
   "cell_type": "code",
   "execution_count": null,
   "metadata": {},
   "outputs": [],
   "source": [
    "ecas[ecas.index == '2018-01-01 00:00:00']['total_calls'].values"
   ]
  },
  {
   "cell_type": "markdown",
   "metadata": {},
   "source": [
    "### Poisson Probability\n",
    "\n",
    "The poisson probability of a call arriving in a particular interval can be calculated as follows:\n"
   ]
  },
  {
   "cell_type": "code",
   "execution_count": null,
   "metadata": {},
   "outputs": [],
   "source": []
  },
  {
   "cell_type": "code",
   "execution_count": null,
   "metadata": {},
   "outputs": [],
   "source": [
    "\n",
    "from scipy.special import factorial\n",
    "\n",
    "time_p = '2018-01-01 00:00:00'\n",
    "\n",
    "calls_per_min = ecas[ecas.index == time_p]['total_calls'].values/60\n",
    "\n",
    "minutes = 5\n",
    "\n",
    "# Expected events\n",
    "#lam = calls_per_min[0] * minutes\n",
    "\n",
    "#k = 2\n",
    "#pk = np.exp(-lam) * np.power(lam, k) / factorial(k)\n",
    "#print(f'The probability of {k} calls in {minutes} minutes is {100*pk:.2f}% for the time period {time_p}')\n",
    "\n",
    "#Reference: https://github.com/WillKoehrsen/Data-Analysis/blob/master/poisson/poisson.ipynb"
   ]
  },
  {
   "cell_type": "code",
   "execution_count": null,
   "metadata": {},
   "outputs": [],
   "source": []
  }
 ],
 "metadata": {
  "kernelspec": {
   "display_name": "Python 3",
   "language": "python",
   "name": "python3"
  },
  "language_info": {
   "codemirror_mode": {
    "name": "ipython",
    "version": 3
   },
   "file_extension": ".py",
   "mimetype": "text/x-python",
   "name": "python",
   "nbconvert_exporter": "python",
   "pygments_lexer": "ipython3",
   "version": "3.7.1"
  }
 },
 "nbformat": 4,
 "nbformat_minor": 2
}
