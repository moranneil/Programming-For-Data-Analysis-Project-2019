{
 "cells": [
  {
   "cell_type": "markdown",
   "metadata": {},
   "source": [
    "# Programming for Data Analysis Project 2019\n",
    "\n",
    "![Image](Images/pythonpandas.JPG \"Image\")\n"
   ]
  },
  {
   "cell_type": "markdown",
   "metadata": {},
   "source": [
    "## Problem Statement\n",
    "\n",
    "Create a data set by simulating a real-word phenomenon. Rather than collect data associated with the choosen real-world phenomenon the data should be modeled and synthesise the data using Python **numpy.randon** package\n",
    "\n"
   ]
  },
  {
   "cell_type": "markdown",
   "metadata": {},
   "source": [
    "## Real World Phenomenon\n",
    "\n",
    "The real world phenomenon we will be siulating is the Irish Emergency Call Answering Service (ECAS). This is a 24hr 365 day a year call centre that answers emergency calls 112 or 999. \n",
    "\n",
    "When 112 or 999 is dialled from any PSTN phone in Ireland the call will be put through to an emergency front line operator in the ECAS call centre. The caller is then given the following options \n",
    "\n",
    "1. Garda \n",
    "2. Fire \n",
    "3. Ambulance\n",
    "4. Coast Guard \n",
    "\n",
    "Depending on the emergency the front line operator puts the call through to the appropiate emergency service, they continue to monitor the call until the emergency service takes responsibility for the call and responding to the emergency.\n",
    "\n",
    "They are also responsible for taking the location of the emergency call.\n",
    "\n",
    "From the call statistics published on the department of communications website the ECAS service answered over 1.8 million calls. This over 200 calls per hour. The average duration of calls were 7.57 secs \n",
    "\n",
    "References: \n",
    "https://www.dccae.gov.ie/en-ie/news-and-media/press-releases/Pages/Minister-Denis-Naughten-Publishes-New-Figures-on-Ireland%E2%80%99s-Emergency-Call-Answering-Service.aspx"
   ]
  },
  {
   "cell_type": "markdown",
   "metadata": {},
   "source": [
    "References\n",
    "https://towardsdatascience.com/learning-to-simulate-c53d8b393a56\n"
   ]
  },
  {
   "cell_type": "markdown",
   "metadata": {},
   "source": [
    "## Variables\n",
    "\n",
    "To simulate the ECAS call centre we will use Python **numpy.random** package The call centre will have the following variables and is open 24 hours 7 days a week and 365 days of the year.\n",
    "\n",
    "The first variable is a timeseries variable called 'period' this will consist of a time period of one week in hourly intervals. This will give 145 rows in the Dataframe or dataset. \n",
    "\n",
    "1. period\n",
    "2. garda\n",
    "3. fire\n",
    "4. ambulance\n",
    "5. coast_guard\n",
    "6. total_calls\n",
    "\n",
    "To simulate the calls to the ECAS call center Numpy random.poisson distribution is used, Garda, fire, ambulance and coast_guard calls all use Numpy random.poisson distrbution\n",
    "\n",
    "To simulate the call centre we are going to use the Poisson Distribution. This distrbution is used to model \n",
    "\n",
    "References: \n",
    "https://en.wikipedia.org/wiki/Poisson_distribution\n"
   ]
  },
  {
   "cell_type": "markdown",
   "metadata": {},
   "source": [
    "## Building the Dataframe"
   ]
  },
  {
   "cell_type": "markdown",
   "metadata": {},
   "source": [
    "The first step is to import the following Python packages. Numpy is imported to give the numpy random packages to simulate data for the dataset. Pandas constructs the actual dataframe consisting of rows and columns. Matplotlib.pyplot and seaborn are imported as graphic libraries to generate plots from the simulated data."
   ]
  },
  {
   "cell_type": "code",
   "execution_count": 1,
   "metadata": {},
   "outputs": [],
   "source": [
    "#The following Python packages are imported\n",
    "import numpy as np\n",
    "import pandas as pd\n",
    "import matplotlib.pyplot as plt\n",
    "import seaborn as sns"
   ]
  },
  {
   "cell_type": "markdown",
   "metadata": {},
   "source": [
    "Once the packages Python packages are imported the first step is to define "
   ]
  },
  {
   "cell_type": "code",
   "execution_count": 2,
   "metadata": {},
   "outputs": [],
   "source": [
    "# The period of a week is choosen starting from the 1st January 2019, the week is divided up in to hourly periods \n",
    "#given 145 data points for the week\n",
    "\n",
    "period =  pd.date_range('01-01-2017', '01-07-2017', freq='H')\n",
    "\n",
    "#Reference: \n",
    "#https://pandas.pydata.org/pandas-docs/stable/reference/api/pandas.date_range.html\n",
    "#https://jakevdp.github.io/PythonDataScienceHandbook/03.11-working-with-time-series.html"
   ]
  },
  {
   "cell_type": "code",
   "execution_count": 3,
   "metadata": {},
   "outputs": [
    {
     "data": {
      "text/plain": [
       "DatetimeIndex(['2017-01-01 00:00:00', '2017-01-01 01:00:00',\n",
       "               '2017-01-01 02:00:00', '2017-01-01 03:00:00',\n",
       "               '2017-01-01 04:00:00', '2017-01-01 05:00:00',\n",
       "               '2017-01-01 06:00:00', '2017-01-01 07:00:00',\n",
       "               '2017-01-01 08:00:00', '2017-01-01 09:00:00',\n",
       "               '2017-01-01 10:00:00', '2017-01-01 11:00:00',\n",
       "               '2017-01-01 12:00:00', '2017-01-01 13:00:00',\n",
       "               '2017-01-01 14:00:00', '2017-01-01 15:00:00',\n",
       "               '2017-01-01 16:00:00', '2017-01-01 17:00:00',\n",
       "               '2017-01-01 18:00:00', '2017-01-01 19:00:00',\n",
       "               '2017-01-01 20:00:00', '2017-01-01 21:00:00',\n",
       "               '2017-01-01 22:00:00', '2017-01-01 23:00:00',\n",
       "               '2017-01-02 00:00:00'],\n",
       "              dtype='datetime64[ns]', freq='H')"
      ]
     },
     "execution_count": 3,
     "metadata": {},
     "output_type": "execute_result"
    }
   ],
   "source": [
    "#period_week datetime index is printed out\n",
    "period"
   ]
  },
  {
   "cell_type": "code",
   "execution_count": 4,
   "metadata": {},
   "outputs": [],
   "source": [
    "#Normal distrbution example\n",
    "mu, sigma = 1.0 , 0.1 # mean and standard deviation\n",
    "s = np.random.normal(mu, sigma, 1000)"
   ]
  },
  {
   "cell_type": "code",
   "execution_count": 5,
   "metadata": {},
   "outputs": [
    {
     "data": {
      "text/plain": [
       "156"
      ]
     },
     "execution_count": 5,
     "metadata": {},
     "output_type": "execute_result"
    }
   ],
   "source": [
    "#Define a random integer for the Poisson distrubution lamda value for calls for a garda emergency.\n",
    "garda_randomint = np.random.randint(45, 185)\n",
    "garda_randomint\n",
    "\n",
    "#plt.hist(garda_randomint)\n",
    "\n",
    "#Reference: https://docs.scipy.org/doc/numpy-1.15.1/reference/generated/numpy.random.randint.html"
   ]
  },
  {
   "cell_type": "code",
   "execution_count": 6,
   "metadata": {},
   "outputs": [
    {
     "data": {
      "text/html": [
       "<div>\n",
       "<style scoped>\n",
       "    .dataframe tbody tr th:only-of-type {\n",
       "        vertical-align: middle;\n",
       "    }\n",
       "\n",
       "    .dataframe tbody tr th {\n",
       "        vertical-align: top;\n",
       "    }\n",
       "\n",
       "    .dataframe thead th {\n",
       "        text-align: right;\n",
       "    }\n",
       "</style>\n",
       "<table border=\"1\" class=\"dataframe\">\n",
       "  <thead>\n",
       "    <tr style=\"text-align: right;\">\n",
       "      <th></th>\n",
       "      <th>datetime</th>\n",
       "      <th>garda</th>\n",
       "    </tr>\n",
       "  </thead>\n",
       "  <tbody>\n",
       "    <tr>\n",
       "      <th>0</th>\n",
       "      <td>2017-01-01 00:00:00</td>\n",
       "      <td>143</td>\n",
       "    </tr>\n",
       "    <tr>\n",
       "      <th>1</th>\n",
       "      <td>2017-01-01 01:00:00</td>\n",
       "      <td>161</td>\n",
       "    </tr>\n",
       "    <tr>\n",
       "      <th>2</th>\n",
       "      <td>2017-01-01 02:00:00</td>\n",
       "      <td>145</td>\n",
       "    </tr>\n",
       "    <tr>\n",
       "      <th>3</th>\n",
       "      <td>2017-01-01 03:00:00</td>\n",
       "      <td>142</td>\n",
       "    </tr>\n",
       "    <tr>\n",
       "      <th>4</th>\n",
       "      <td>2017-01-01 04:00:00</td>\n",
       "      <td>161</td>\n",
       "    </tr>\n",
       "  </tbody>\n",
       "</table>\n",
       "</div>"
      ],
      "text/plain": [
       "             datetime  garda\n",
       "0 2017-01-01 00:00:00    143\n",
       "1 2017-01-01 01:00:00    161\n",
       "2 2017-01-01 02:00:00    145\n",
       "3 2017-01-01 03:00:00    142\n",
       "4 2017-01-01 04:00:00    161"
      ]
     },
     "execution_count": 6,
     "metadata": {},
     "output_type": "execute_result"
    }
   ],
   "source": [
    "#Construct the ecas_garda dataframe using Numpy random.poisson function in Python. The length of the dataframe is the amount\n",
    "#time intervals in the time_period defined above. The index of the Dataframe is again the time_period time index variable.\n",
    "# The resulting poisson distribution values are labelled \"garda\"\n",
    "\n",
    "#df = pd.DataFrame(period, columns=['datetime'])\n",
    "#df['data'] = np.random.randint(0,100,size=(len(period)))\n",
    "\n",
    "ecas_garda = pd.DataFrame(period, columns=['datetime'])\n",
    "ecas_garda['garda'] = np.random.poisson(garda_randomint, len(period))\n",
    "ecas_garda.head()\n",
    "\n",
    "#df.dtypes\n",
    "\n",
    "#Reference: \n",
    "#https://web.microsoftstream.com/video/db8801fe-9e42-4663-a508-5d6f38bb7327\n",
    "#https://docs.scipy.org/doc/numpy-1.15.1/reference/generated/numpy.random.poisson.html"
   ]
  },
  {
   "cell_type": "code",
   "execution_count": null,
   "metadata": {},
   "outputs": [],
   "source": [
    "\n",
    "\n",
    "\n"
   ]
  },
  {
   "cell_type": "code",
   "execution_count": 7,
   "metadata": {},
   "outputs": [
    {
     "data": {
      "text/plain": [
       "59"
      ]
     },
     "execution_count": 7,
     "metadata": {},
     "output_type": "execute_result"
    }
   ],
   "source": [
    "#Define a random integer for the Poisson distribution lamda value for calls for a fire emergency call.\n",
    "fire_randomint = np.random.randint(50,160)\n",
    "fire_randomint\n",
    "\n",
    "#Reference: https://docs.scipy.org/doc/numpy-1.15.1/reference/generated/numpy.random.randint.html"
   ]
  },
  {
   "cell_type": "code",
   "execution_count": 8,
   "metadata": {},
   "outputs": [
    {
     "data": {
      "text/html": [
       "<div>\n",
       "<style scoped>\n",
       "    .dataframe tbody tr th:only-of-type {\n",
       "        vertical-align: middle;\n",
       "    }\n",
       "\n",
       "    .dataframe tbody tr th {\n",
       "        vertical-align: top;\n",
       "    }\n",
       "\n",
       "    .dataframe thead th {\n",
       "        text-align: right;\n",
       "    }\n",
       "</style>\n",
       "<table border=\"1\" class=\"dataframe\">\n",
       "  <thead>\n",
       "    <tr style=\"text-align: right;\">\n",
       "      <th></th>\n",
       "      <th>fire</th>\n",
       "    </tr>\n",
       "  </thead>\n",
       "  <tbody>\n",
       "    <tr>\n",
       "      <th>2017-01-01 00:00:00</th>\n",
       "      <td>75</td>\n",
       "    </tr>\n",
       "    <tr>\n",
       "      <th>2017-01-01 01:00:00</th>\n",
       "      <td>55</td>\n",
       "    </tr>\n",
       "    <tr>\n",
       "      <th>2017-01-01 02:00:00</th>\n",
       "      <td>51</td>\n",
       "    </tr>\n",
       "    <tr>\n",
       "      <th>2017-01-01 03:00:00</th>\n",
       "      <td>65</td>\n",
       "    </tr>\n",
       "    <tr>\n",
       "      <th>2017-01-01 04:00:00</th>\n",
       "      <td>55</td>\n",
       "    </tr>\n",
       "  </tbody>\n",
       "</table>\n",
       "</div>"
      ],
      "text/plain": [
       "                     fire\n",
       "2017-01-01 00:00:00    75\n",
       "2017-01-01 01:00:00    55\n",
       "2017-01-01 02:00:00    51\n",
       "2017-01-01 03:00:00    65\n",
       "2017-01-01 04:00:00    55"
      ]
     },
     "execution_count": 8,
     "metadata": {},
     "output_type": "execute_result"
    }
   ],
   "source": [
    "#Construct the ecas_fire dataframe using Numpy random.poisson function in Python. The length of the dataframe is the amount\n",
    "#time intervals in the time_period defined above. The index of the Dataframe is again the time_period time index variable.\n",
    "# The resulting poisson distribution values are labelled \"fire\"\n",
    "ecas_fire = pd.DataFrame(np.random.poisson(fire_randomint, len(period)), index=period, columns=[\"fire\"])\n",
    "ecas_fire.head()\n",
    "\n",
    "#Reference: \n",
    "#https://web.microsoftstream.com/video/db8801fe-9e42-4663-a508-5d6f38bb7327\n",
    "#https://docs.scipy.org/doc/numpy-1.15.1/reference/generated/numpy.random.poisson.html"
   ]
  },
  {
   "cell_type": "code",
   "execution_count": 9,
   "metadata": {},
   "outputs": [
    {
     "data": {
      "text/plain": [
       "173"
      ]
     },
     "execution_count": 9,
     "metadata": {},
     "output_type": "execute_result"
    }
   ],
   "source": [
    "#Define a random integer for the Poisson distrubution lamda value for calls for a ambulance emergency call.\n",
    "ambulance_randomint = np.random.randint(35,270)\n",
    "ambulance_randomint\n",
    "\n",
    "#Reference: https://docs.scipy.org/doc/numpy-1.15.1/reference/generated/numpy.random.randint.html"
   ]
  },
  {
   "cell_type": "code",
   "execution_count": 10,
   "metadata": {},
   "outputs": [
    {
     "data": {
      "text/html": [
       "<div>\n",
       "<style scoped>\n",
       "    .dataframe tbody tr th:only-of-type {\n",
       "        vertical-align: middle;\n",
       "    }\n",
       "\n",
       "    .dataframe tbody tr th {\n",
       "        vertical-align: top;\n",
       "    }\n",
       "\n",
       "    .dataframe thead th {\n",
       "        text-align: right;\n",
       "    }\n",
       "</style>\n",
       "<table border=\"1\" class=\"dataframe\">\n",
       "  <thead>\n",
       "    <tr style=\"text-align: right;\">\n",
       "      <th></th>\n",
       "      <th>ambulance</th>\n",
       "    </tr>\n",
       "  </thead>\n",
       "  <tbody>\n",
       "    <tr>\n",
       "      <th>2017-01-01 00:00:00</th>\n",
       "      <td>165</td>\n",
       "    </tr>\n",
       "    <tr>\n",
       "      <th>2017-01-01 01:00:00</th>\n",
       "      <td>176</td>\n",
       "    </tr>\n",
       "    <tr>\n",
       "      <th>2017-01-01 02:00:00</th>\n",
       "      <td>180</td>\n",
       "    </tr>\n",
       "    <tr>\n",
       "      <th>2017-01-01 03:00:00</th>\n",
       "      <td>183</td>\n",
       "    </tr>\n",
       "    <tr>\n",
       "      <th>2017-01-01 04:00:00</th>\n",
       "      <td>178</td>\n",
       "    </tr>\n",
       "  </tbody>\n",
       "</table>\n",
       "</div>"
      ],
      "text/plain": [
       "                     ambulance\n",
       "2017-01-01 00:00:00        165\n",
       "2017-01-01 01:00:00        176\n",
       "2017-01-01 02:00:00        180\n",
       "2017-01-01 03:00:00        183\n",
       "2017-01-01 04:00:00        178"
      ]
     },
     "execution_count": 10,
     "metadata": {},
     "output_type": "execute_result"
    }
   ],
   "source": [
    "#Construct the ecas_ambulance dataframe using Numpy random.poisson function in Python. The length of the dataframe is the amount\n",
    "#time intervals in the time_period defined above. The index of the Dataframe is the time_period time index variable.\n",
    "# The resulting poisson distribution values are labelled \"ambulance\"\n",
    "ecas_ambulance = pd.DataFrame(np.random.poisson(ambulance_randomint, len(period)), index=period, columns=[\"ambulance\"])\n",
    "ecas_ambulance.head()\n",
    "\n",
    "#Reference: \n",
    "#https://web.microsoftstream.com/video/db8801fe-9e42-4663-a508-5d6f38bb7327\n",
    "#https://docs.scipy.org/doc/numpy-1.15.1/reference/generated/numpy.random.poisson.html"
   ]
  },
  {
   "cell_type": "code",
   "execution_count": 11,
   "metadata": {},
   "outputs": [
    {
     "data": {
      "text/plain": [
       "128"
      ]
     },
     "execution_count": 11,
     "metadata": {},
     "output_type": "execute_result"
    }
   ],
   "source": [
    "#Define a random integer for the Poisson distrubution lamda value for calls for a coast_guard emergency call.\n",
    "coast_guard_randomint = np.random.randint(30, 265)\n",
    "coast_guard_randomint\n",
    "\n",
    "#Reference: https://docs.scipy.org/doc/numpy-1.15.1/reference/generated/numpy.random.randint.html"
   ]
  },
  {
   "cell_type": "code",
   "execution_count": 12,
   "metadata": {},
   "outputs": [
    {
     "data": {
      "text/html": [
       "<div>\n",
       "<style scoped>\n",
       "    .dataframe tbody tr th:only-of-type {\n",
       "        vertical-align: middle;\n",
       "    }\n",
       "\n",
       "    .dataframe tbody tr th {\n",
       "        vertical-align: top;\n",
       "    }\n",
       "\n",
       "    .dataframe thead th {\n",
       "        text-align: right;\n",
       "    }\n",
       "</style>\n",
       "<table border=\"1\" class=\"dataframe\">\n",
       "  <thead>\n",
       "    <tr style=\"text-align: right;\">\n",
       "      <th></th>\n",
       "      <th>coast_guard</th>\n",
       "    </tr>\n",
       "  </thead>\n",
       "  <tbody>\n",
       "    <tr>\n",
       "      <th>2017-01-01 00:00:00</th>\n",
       "      <td>133</td>\n",
       "    </tr>\n",
       "    <tr>\n",
       "      <th>2017-01-01 01:00:00</th>\n",
       "      <td>120</td>\n",
       "    </tr>\n",
       "    <tr>\n",
       "      <th>2017-01-01 02:00:00</th>\n",
       "      <td>142</td>\n",
       "    </tr>\n",
       "    <tr>\n",
       "      <th>2017-01-01 03:00:00</th>\n",
       "      <td>134</td>\n",
       "    </tr>\n",
       "    <tr>\n",
       "      <th>2017-01-01 04:00:00</th>\n",
       "      <td>138</td>\n",
       "    </tr>\n",
       "  </tbody>\n",
       "</table>\n",
       "</div>"
      ],
      "text/plain": [
       "                     coast_guard\n",
       "2017-01-01 00:00:00          133\n",
       "2017-01-01 01:00:00          120\n",
       "2017-01-01 02:00:00          142\n",
       "2017-01-01 03:00:00          134\n",
       "2017-01-01 04:00:00          138"
      ]
     },
     "execution_count": 12,
     "metadata": {},
     "output_type": "execute_result"
    }
   ],
   "source": [
    "#Construct the ecas_coast_guard dataframe using Numpy random.poisson function in Python. The length of the dataframe is the amount\n",
    "#time intervals in the time_period defined above. The index of the Dataframe is the time_period time index variable.\n",
    "# The resulting poisson distribution values are labelled \"coast_guard\"\n",
    "ecas_coast_guard = pd.DataFrame(np.random.poisson(coast_guard_randomint, len(period)), index=period, columns=[\"coast_guard\"])\n",
    "ecas_coast_guard.head()\n",
    "\n",
    "#Reference: \n",
    "#https://web.microsoftstream.com/video/db8801fe-9e42-4663-a508-5d6f38bb7327\n",
    "#https://docs.scipy.org/doc/numpy-1.15.1/reference/generated/numpy.random.poisson.html"
   ]
  },
  {
   "cell_type": "code",
   "execution_count": 13,
   "metadata": {},
   "outputs": [
    {
     "data": {
      "text/html": [
       "<div>\n",
       "<style scoped>\n",
       "    .dataframe tbody tr th:only-of-type {\n",
       "        vertical-align: middle;\n",
       "    }\n",
       "\n",
       "    .dataframe tbody tr th {\n",
       "        vertical-align: top;\n",
       "    }\n",
       "\n",
       "    .dataframe thead th {\n",
       "        text-align: right;\n",
       "    }\n",
       "</style>\n",
       "<table border=\"1\" class=\"dataframe\">\n",
       "  <thead>\n",
       "    <tr style=\"text-align: right;\">\n",
       "      <th></th>\n",
       "      <th>datetime</th>\n",
       "      <th>garda</th>\n",
       "    </tr>\n",
       "  </thead>\n",
       "  <tbody>\n",
       "    <tr>\n",
       "      <th>0</th>\n",
       "      <td>2017-01-01 00:00:00</td>\n",
       "      <td>143</td>\n",
       "    </tr>\n",
       "    <tr>\n",
       "      <th>1</th>\n",
       "      <td>2017-01-01 01:00:00</td>\n",
       "      <td>161</td>\n",
       "    </tr>\n",
       "    <tr>\n",
       "      <th>2</th>\n",
       "      <td>2017-01-01 02:00:00</td>\n",
       "      <td>145</td>\n",
       "    </tr>\n",
       "    <tr>\n",
       "      <th>3</th>\n",
       "      <td>2017-01-01 03:00:00</td>\n",
       "      <td>142</td>\n",
       "    </tr>\n",
       "    <tr>\n",
       "      <th>4</th>\n",
       "      <td>2017-01-01 04:00:00</td>\n",
       "      <td>161</td>\n",
       "    </tr>\n",
       "  </tbody>\n",
       "</table>\n",
       "</div>"
      ],
      "text/plain": [
       "             datetime  garda\n",
       "0 2017-01-01 00:00:00    143\n",
       "1 2017-01-01 01:00:00    161\n",
       "2 2017-01-01 02:00:00    145\n",
       "3 2017-01-01 03:00:00    142\n",
       "4 2017-01-01 04:00:00    161"
      ]
     },
     "execution_count": 13,
     "metadata": {},
     "output_type": "execute_result"
    }
   ],
   "source": [
    "ecas = ecas_garda\n",
    "ecas.head()"
   ]
  },
  {
   "cell_type": "code",
   "execution_count": 14,
   "metadata": {},
   "outputs": [
    {
     "data": {
      "text/plain": [
       "array([75, 55, 51, 65, 55, 55, 51, 70, 58, 54, 62, 65, 65, 59, 75, 47, 66,\n",
       "       57, 66, 67, 54, 70, 65, 40, 58])"
      ]
     },
     "execution_count": 14,
     "metadata": {},
     "output_type": "execute_result"
    }
   ],
   "source": [
    "# Creating an array of values from the Dataframe ecas_fire\n",
    "# Reference: https://stackoverflow.com/questions/46396257/adding-a-new-column-in-pandas-dataframe-from-another-dataframe-with-differing-in\n",
    "ecas_fire['fire'].values"
   ]
  },
  {
   "cell_type": "code",
   "execution_count": 15,
   "metadata": {},
   "outputs": [
    {
     "data": {
      "text/plain": [
       "array([165, 176, 180, 183, 178, 166, 165, 169, 190, 171, 184, 185, 154,\n",
       "       174, 196, 142, 178, 156, 182, 171, 166, 177, 173, 179, 169])"
      ]
     },
     "execution_count": 15,
     "metadata": {},
     "output_type": "execute_result"
    }
   ],
   "source": [
    "ecas_ambulance['ambulance'].values"
   ]
  },
  {
   "cell_type": "code",
   "execution_count": 16,
   "metadata": {},
   "outputs": [
    {
     "data": {
      "text/html": [
       "<div>\n",
       "<style scoped>\n",
       "    .dataframe tbody tr th:only-of-type {\n",
       "        vertical-align: middle;\n",
       "    }\n",
       "\n",
       "    .dataframe tbody tr th {\n",
       "        vertical-align: top;\n",
       "    }\n",
       "\n",
       "    .dataframe thead th {\n",
       "        text-align: right;\n",
       "    }\n",
       "</style>\n",
       "<table border=\"1\" class=\"dataframe\">\n",
       "  <thead>\n",
       "    <tr style=\"text-align: right;\">\n",
       "      <th></th>\n",
       "      <th>datetime</th>\n",
       "      <th>garda</th>\n",
       "      <th>fire</th>\n",
       "    </tr>\n",
       "  </thead>\n",
       "  <tbody>\n",
       "    <tr>\n",
       "      <th>0</th>\n",
       "      <td>2017-01-01 00:00:00</td>\n",
       "      <td>143</td>\n",
       "      <td>75</td>\n",
       "    </tr>\n",
       "    <tr>\n",
       "      <th>1</th>\n",
       "      <td>2017-01-01 01:00:00</td>\n",
       "      <td>161</td>\n",
       "      <td>55</td>\n",
       "    </tr>\n",
       "    <tr>\n",
       "      <th>2</th>\n",
       "      <td>2017-01-01 02:00:00</td>\n",
       "      <td>145</td>\n",
       "      <td>51</td>\n",
       "    </tr>\n",
       "    <tr>\n",
       "      <th>3</th>\n",
       "      <td>2017-01-01 03:00:00</td>\n",
       "      <td>142</td>\n",
       "      <td>65</td>\n",
       "    </tr>\n",
       "    <tr>\n",
       "      <th>4</th>\n",
       "      <td>2017-01-01 04:00:00</td>\n",
       "      <td>161</td>\n",
       "      <td>55</td>\n",
       "    </tr>\n",
       "  </tbody>\n",
       "</table>\n",
       "</div>"
      ],
      "text/plain": [
       "             datetime  garda  fire\n",
       "0 2017-01-01 00:00:00    143    75\n",
       "1 2017-01-01 01:00:00    161    55\n",
       "2 2017-01-01 02:00:00    145    51\n",
       "3 2017-01-01 03:00:00    142    65\n",
       "4 2017-01-01 04:00:00    161    55"
      ]
     },
     "execution_count": 16,
     "metadata": {},
     "output_type": "execute_result"
    }
   ],
   "source": [
    "# Adding the fire columns to the ecas Dataframe, the ecas columns will consist of police and fire\n",
    "ecas['fire'] = ecas_fire['fire'].values\n",
    "ecas.head()"
   ]
  },
  {
   "cell_type": "code",
   "execution_count": 17,
   "metadata": {},
   "outputs": [
    {
     "data": {
      "text/html": [
       "<div>\n",
       "<style scoped>\n",
       "    .dataframe tbody tr th:only-of-type {\n",
       "        vertical-align: middle;\n",
       "    }\n",
       "\n",
       "    .dataframe tbody tr th {\n",
       "        vertical-align: top;\n",
       "    }\n",
       "\n",
       "    .dataframe thead th {\n",
       "        text-align: right;\n",
       "    }\n",
       "</style>\n",
       "<table border=\"1\" class=\"dataframe\">\n",
       "  <thead>\n",
       "    <tr style=\"text-align: right;\">\n",
       "      <th></th>\n",
       "      <th>datetime</th>\n",
       "      <th>garda</th>\n",
       "      <th>fire</th>\n",
       "      <th>ambulance</th>\n",
       "    </tr>\n",
       "  </thead>\n",
       "  <tbody>\n",
       "    <tr>\n",
       "      <th>0</th>\n",
       "      <td>2017-01-01 00:00:00</td>\n",
       "      <td>143</td>\n",
       "      <td>75</td>\n",
       "      <td>165</td>\n",
       "    </tr>\n",
       "    <tr>\n",
       "      <th>1</th>\n",
       "      <td>2017-01-01 01:00:00</td>\n",
       "      <td>161</td>\n",
       "      <td>55</td>\n",
       "      <td>176</td>\n",
       "    </tr>\n",
       "    <tr>\n",
       "      <th>2</th>\n",
       "      <td>2017-01-01 02:00:00</td>\n",
       "      <td>145</td>\n",
       "      <td>51</td>\n",
       "      <td>180</td>\n",
       "    </tr>\n",
       "    <tr>\n",
       "      <th>3</th>\n",
       "      <td>2017-01-01 03:00:00</td>\n",
       "      <td>142</td>\n",
       "      <td>65</td>\n",
       "      <td>183</td>\n",
       "    </tr>\n",
       "    <tr>\n",
       "      <th>4</th>\n",
       "      <td>2017-01-01 04:00:00</td>\n",
       "      <td>161</td>\n",
       "      <td>55</td>\n",
       "      <td>178</td>\n",
       "    </tr>\n",
       "  </tbody>\n",
       "</table>\n",
       "</div>"
      ],
      "text/plain": [
       "             datetime  garda  fire  ambulance\n",
       "0 2017-01-01 00:00:00    143    75        165\n",
       "1 2017-01-01 01:00:00    161    55        176\n",
       "2 2017-01-01 02:00:00    145    51        180\n",
       "3 2017-01-01 03:00:00    142    65        183\n",
       "4 2017-01-01 04:00:00    161    55        178"
      ]
     },
     "execution_count": 17,
     "metadata": {},
     "output_type": "execute_result"
    }
   ],
   "source": [
    "# Creating an array of values from the Dataframe ecas_ambulance\n",
    "# Reference: https://stackoverflow.com/questions/46396257/adding-a-new-column-in-pandas-dataframe-from-another-dataframe-with-differing-in\n",
    "ecas['ambulance'] = ecas_ambulance['ambulance'].values\n",
    "ecas.head()"
   ]
  },
  {
   "cell_type": "code",
   "execution_count": 18,
   "metadata": {},
   "outputs": [
    {
     "data": {
      "text/html": [
       "<div>\n",
       "<style scoped>\n",
       "    .dataframe tbody tr th:only-of-type {\n",
       "        vertical-align: middle;\n",
       "    }\n",
       "\n",
       "    .dataframe tbody tr th {\n",
       "        vertical-align: top;\n",
       "    }\n",
       "\n",
       "    .dataframe thead th {\n",
       "        text-align: right;\n",
       "    }\n",
       "</style>\n",
       "<table border=\"1\" class=\"dataframe\">\n",
       "  <thead>\n",
       "    <tr style=\"text-align: right;\">\n",
       "      <th></th>\n",
       "      <th>datetime</th>\n",
       "      <th>garda</th>\n",
       "      <th>fire</th>\n",
       "      <th>ambulance</th>\n",
       "    </tr>\n",
       "  </thead>\n",
       "  <tbody>\n",
       "    <tr>\n",
       "      <th>0</th>\n",
       "      <td>2017-01-01 00:00:00</td>\n",
       "      <td>143</td>\n",
       "      <td>75</td>\n",
       "      <td>165</td>\n",
       "    </tr>\n",
       "    <tr>\n",
       "      <th>1</th>\n",
       "      <td>2017-01-01 01:00:00</td>\n",
       "      <td>161</td>\n",
       "      <td>55</td>\n",
       "      <td>176</td>\n",
       "    </tr>\n",
       "    <tr>\n",
       "      <th>2</th>\n",
       "      <td>2017-01-01 02:00:00</td>\n",
       "      <td>145</td>\n",
       "      <td>51</td>\n",
       "      <td>180</td>\n",
       "    </tr>\n",
       "    <tr>\n",
       "      <th>3</th>\n",
       "      <td>2017-01-01 03:00:00</td>\n",
       "      <td>142</td>\n",
       "      <td>65</td>\n",
       "      <td>183</td>\n",
       "    </tr>\n",
       "    <tr>\n",
       "      <th>4</th>\n",
       "      <td>2017-01-01 04:00:00</td>\n",
       "      <td>161</td>\n",
       "      <td>55</td>\n",
       "      <td>178</td>\n",
       "    </tr>\n",
       "  </tbody>\n",
       "</table>\n",
       "</div>"
      ],
      "text/plain": [
       "             datetime  garda  fire  ambulance\n",
       "0 2017-01-01 00:00:00    143    75        165\n",
       "1 2017-01-01 01:00:00    161    55        176\n",
       "2 2017-01-01 02:00:00    145    51        180\n",
       "3 2017-01-01 03:00:00    142    65        183\n",
       "4 2017-01-01 04:00:00    161    55        178"
      ]
     },
     "execution_count": 18,
     "metadata": {},
     "output_type": "execute_result"
    }
   ],
   "source": [
    "# Adding the ambulance columns to the ecas Dataframe, the ecas columns will consist of garda, fire and ambulance\n",
    "ecas['ambulance'] = ecas_ambulance['ambulance'].values\n",
    "ecas.head()"
   ]
  },
  {
   "cell_type": "code",
   "execution_count": 19,
   "metadata": {},
   "outputs": [
    {
     "data": {
      "text/plain": [
       "array([133, 120, 142, 134, 138, 127, 132, 118, 138, 141, 116, 123, 138,\n",
       "       124, 125, 121, 135, 136, 122, 138, 124, 122, 107, 137, 128])"
      ]
     },
     "execution_count": 19,
     "metadata": {},
     "output_type": "execute_result"
    }
   ],
   "source": [
    "# Creating an array of values from the Dataframe ecas_coast_guard\n",
    "# Reference: https://stackoverflow.com/questions/46396257/adding-a-new-column-in-pandas-dataframe-from-another-dataframe-with-differing-in\n",
    "ecas_coast_guard['coast_guard'].values"
   ]
  },
  {
   "cell_type": "code",
   "execution_count": 20,
   "metadata": {},
   "outputs": [
    {
     "data": {
      "text/html": [
       "<div>\n",
       "<style scoped>\n",
       "    .dataframe tbody tr th:only-of-type {\n",
       "        vertical-align: middle;\n",
       "    }\n",
       "\n",
       "    .dataframe tbody tr th {\n",
       "        vertical-align: top;\n",
       "    }\n",
       "\n",
       "    .dataframe thead th {\n",
       "        text-align: right;\n",
       "    }\n",
       "</style>\n",
       "<table border=\"1\" class=\"dataframe\">\n",
       "  <thead>\n",
       "    <tr style=\"text-align: right;\">\n",
       "      <th></th>\n",
       "      <th>datetime</th>\n",
       "      <th>garda</th>\n",
       "      <th>fire</th>\n",
       "      <th>ambulance</th>\n",
       "      <th>coast_guard</th>\n",
       "    </tr>\n",
       "  </thead>\n",
       "  <tbody>\n",
       "    <tr>\n",
       "      <th>0</th>\n",
       "      <td>2017-01-01 00:00:00</td>\n",
       "      <td>143</td>\n",
       "      <td>75</td>\n",
       "      <td>165</td>\n",
       "      <td>133</td>\n",
       "    </tr>\n",
       "    <tr>\n",
       "      <th>1</th>\n",
       "      <td>2017-01-01 01:00:00</td>\n",
       "      <td>161</td>\n",
       "      <td>55</td>\n",
       "      <td>176</td>\n",
       "      <td>120</td>\n",
       "    </tr>\n",
       "    <tr>\n",
       "      <th>2</th>\n",
       "      <td>2017-01-01 02:00:00</td>\n",
       "      <td>145</td>\n",
       "      <td>51</td>\n",
       "      <td>180</td>\n",
       "      <td>142</td>\n",
       "    </tr>\n",
       "    <tr>\n",
       "      <th>3</th>\n",
       "      <td>2017-01-01 03:00:00</td>\n",
       "      <td>142</td>\n",
       "      <td>65</td>\n",
       "      <td>183</td>\n",
       "      <td>134</td>\n",
       "    </tr>\n",
       "    <tr>\n",
       "      <th>4</th>\n",
       "      <td>2017-01-01 04:00:00</td>\n",
       "      <td>161</td>\n",
       "      <td>55</td>\n",
       "      <td>178</td>\n",
       "      <td>138</td>\n",
       "    </tr>\n",
       "  </tbody>\n",
       "</table>\n",
       "</div>"
      ],
      "text/plain": [
       "             datetime  garda  fire  ambulance  coast_guard\n",
       "0 2017-01-01 00:00:00    143    75        165          133\n",
       "1 2017-01-01 01:00:00    161    55        176          120\n",
       "2 2017-01-01 02:00:00    145    51        180          142\n",
       "3 2017-01-01 03:00:00    142    65        183          134\n",
       "4 2017-01-01 04:00:00    161    55        178          138"
      ]
     },
     "execution_count": 20,
     "metadata": {},
     "output_type": "execute_result"
    }
   ],
   "source": [
    "# Adding the coast_guard column to the ecas Dataframe, the ecas columns will consist of garda, fire, ambulance and coast_guard\n",
    "ecas['coast_guard'] = ecas_coast_guard['coast_guard'].values\n",
    "ecas.head()"
   ]
  },
  {
   "cell_type": "code",
   "execution_count": 21,
   "metadata": {
    "scrolled": true
   },
   "outputs": [
    {
     "data": {
      "text/html": [
       "<div>\n",
       "<style scoped>\n",
       "    .dataframe tbody tr th:only-of-type {\n",
       "        vertical-align: middle;\n",
       "    }\n",
       "\n",
       "    .dataframe tbody tr th {\n",
       "        vertical-align: top;\n",
       "    }\n",
       "\n",
       "    .dataframe thead th {\n",
       "        text-align: right;\n",
       "    }\n",
       "</style>\n",
       "<table border=\"1\" class=\"dataframe\">\n",
       "  <thead>\n",
       "    <tr style=\"text-align: right;\">\n",
       "      <th></th>\n",
       "      <th>datetime</th>\n",
       "      <th>garda</th>\n",
       "      <th>fire</th>\n",
       "      <th>ambulance</th>\n",
       "      <th>coast_guard</th>\n",
       "      <th>total_calls</th>\n",
       "    </tr>\n",
       "  </thead>\n",
       "  <tbody>\n",
       "    <tr>\n",
       "      <th>0</th>\n",
       "      <td>2017-01-01 00:00:00</td>\n",
       "      <td>143</td>\n",
       "      <td>75</td>\n",
       "      <td>165</td>\n",
       "      <td>133</td>\n",
       "      <td>516</td>\n",
       "    </tr>\n",
       "    <tr>\n",
       "      <th>1</th>\n",
       "      <td>2017-01-01 01:00:00</td>\n",
       "      <td>161</td>\n",
       "      <td>55</td>\n",
       "      <td>176</td>\n",
       "      <td>120</td>\n",
       "      <td>512</td>\n",
       "    </tr>\n",
       "    <tr>\n",
       "      <th>2</th>\n",
       "      <td>2017-01-01 02:00:00</td>\n",
       "      <td>145</td>\n",
       "      <td>51</td>\n",
       "      <td>180</td>\n",
       "      <td>142</td>\n",
       "      <td>518</td>\n",
       "    </tr>\n",
       "    <tr>\n",
       "      <th>3</th>\n",
       "      <td>2017-01-01 03:00:00</td>\n",
       "      <td>142</td>\n",
       "      <td>65</td>\n",
       "      <td>183</td>\n",
       "      <td>134</td>\n",
       "      <td>524</td>\n",
       "    </tr>\n",
       "    <tr>\n",
       "      <th>4</th>\n",
       "      <td>2017-01-01 04:00:00</td>\n",
       "      <td>161</td>\n",
       "      <td>55</td>\n",
       "      <td>178</td>\n",
       "      <td>138</td>\n",
       "      <td>532</td>\n",
       "    </tr>\n",
       "    <tr>\n",
       "      <th>5</th>\n",
       "      <td>2017-01-01 05:00:00</td>\n",
       "      <td>152</td>\n",
       "      <td>55</td>\n",
       "      <td>166</td>\n",
       "      <td>127</td>\n",
       "      <td>500</td>\n",
       "    </tr>\n",
       "    <tr>\n",
       "      <th>6</th>\n",
       "      <td>2017-01-01 06:00:00</td>\n",
       "      <td>158</td>\n",
       "      <td>51</td>\n",
       "      <td>165</td>\n",
       "      <td>132</td>\n",
       "      <td>506</td>\n",
       "    </tr>\n",
       "    <tr>\n",
       "      <th>7</th>\n",
       "      <td>2017-01-01 07:00:00</td>\n",
       "      <td>151</td>\n",
       "      <td>70</td>\n",
       "      <td>169</td>\n",
       "      <td>118</td>\n",
       "      <td>508</td>\n",
       "    </tr>\n",
       "    <tr>\n",
       "      <th>8</th>\n",
       "      <td>2017-01-01 08:00:00</td>\n",
       "      <td>162</td>\n",
       "      <td>58</td>\n",
       "      <td>190</td>\n",
       "      <td>138</td>\n",
       "      <td>548</td>\n",
       "    </tr>\n",
       "    <tr>\n",
       "      <th>9</th>\n",
       "      <td>2017-01-01 09:00:00</td>\n",
       "      <td>163</td>\n",
       "      <td>54</td>\n",
       "      <td>171</td>\n",
       "      <td>141</td>\n",
       "      <td>529</td>\n",
       "    </tr>\n",
       "    <tr>\n",
       "      <th>10</th>\n",
       "      <td>2017-01-01 10:00:00</td>\n",
       "      <td>173</td>\n",
       "      <td>62</td>\n",
       "      <td>184</td>\n",
       "      <td>116</td>\n",
       "      <td>535</td>\n",
       "    </tr>\n",
       "    <tr>\n",
       "      <th>11</th>\n",
       "      <td>2017-01-01 11:00:00</td>\n",
       "      <td>165</td>\n",
       "      <td>65</td>\n",
       "      <td>185</td>\n",
       "      <td>123</td>\n",
       "      <td>538</td>\n",
       "    </tr>\n",
       "    <tr>\n",
       "      <th>12</th>\n",
       "      <td>2017-01-01 12:00:00</td>\n",
       "      <td>154</td>\n",
       "      <td>65</td>\n",
       "      <td>154</td>\n",
       "      <td>138</td>\n",
       "      <td>511</td>\n",
       "    </tr>\n",
       "    <tr>\n",
       "      <th>13</th>\n",
       "      <td>2017-01-01 13:00:00</td>\n",
       "      <td>161</td>\n",
       "      <td>59</td>\n",
       "      <td>174</td>\n",
       "      <td>124</td>\n",
       "      <td>518</td>\n",
       "    </tr>\n",
       "    <tr>\n",
       "      <th>14</th>\n",
       "      <td>2017-01-01 14:00:00</td>\n",
       "      <td>163</td>\n",
       "      <td>75</td>\n",
       "      <td>196</td>\n",
       "      <td>125</td>\n",
       "      <td>559</td>\n",
       "    </tr>\n",
       "    <tr>\n",
       "      <th>15</th>\n",
       "      <td>2017-01-01 15:00:00</td>\n",
       "      <td>151</td>\n",
       "      <td>47</td>\n",
       "      <td>142</td>\n",
       "      <td>121</td>\n",
       "      <td>461</td>\n",
       "    </tr>\n",
       "    <tr>\n",
       "      <th>16</th>\n",
       "      <td>2017-01-01 16:00:00</td>\n",
       "      <td>171</td>\n",
       "      <td>66</td>\n",
       "      <td>178</td>\n",
       "      <td>135</td>\n",
       "      <td>550</td>\n",
       "    </tr>\n",
       "    <tr>\n",
       "      <th>17</th>\n",
       "      <td>2017-01-01 17:00:00</td>\n",
       "      <td>130</td>\n",
       "      <td>57</td>\n",
       "      <td>156</td>\n",
       "      <td>136</td>\n",
       "      <td>479</td>\n",
       "    </tr>\n",
       "    <tr>\n",
       "      <th>18</th>\n",
       "      <td>2017-01-01 18:00:00</td>\n",
       "      <td>146</td>\n",
       "      <td>66</td>\n",
       "      <td>182</td>\n",
       "      <td>122</td>\n",
       "      <td>516</td>\n",
       "    </tr>\n",
       "    <tr>\n",
       "      <th>19</th>\n",
       "      <td>2017-01-01 19:00:00</td>\n",
       "      <td>154</td>\n",
       "      <td>67</td>\n",
       "      <td>171</td>\n",
       "      <td>138</td>\n",
       "      <td>530</td>\n",
       "    </tr>\n",
       "    <tr>\n",
       "      <th>20</th>\n",
       "      <td>2017-01-01 20:00:00</td>\n",
       "      <td>176</td>\n",
       "      <td>54</td>\n",
       "      <td>166</td>\n",
       "      <td>124</td>\n",
       "      <td>520</td>\n",
       "    </tr>\n",
       "    <tr>\n",
       "      <th>21</th>\n",
       "      <td>2017-01-01 21:00:00</td>\n",
       "      <td>145</td>\n",
       "      <td>70</td>\n",
       "      <td>177</td>\n",
       "      <td>122</td>\n",
       "      <td>514</td>\n",
       "    </tr>\n",
       "    <tr>\n",
       "      <th>22</th>\n",
       "      <td>2017-01-01 22:00:00</td>\n",
       "      <td>145</td>\n",
       "      <td>65</td>\n",
       "      <td>173</td>\n",
       "      <td>107</td>\n",
       "      <td>490</td>\n",
       "    </tr>\n",
       "    <tr>\n",
       "      <th>23</th>\n",
       "      <td>2017-01-01 23:00:00</td>\n",
       "      <td>140</td>\n",
       "      <td>40</td>\n",
       "      <td>179</td>\n",
       "      <td>137</td>\n",
       "      <td>496</td>\n",
       "    </tr>\n",
       "    <tr>\n",
       "      <th>24</th>\n",
       "      <td>2017-01-02 00:00:00</td>\n",
       "      <td>169</td>\n",
       "      <td>58</td>\n",
       "      <td>169</td>\n",
       "      <td>128</td>\n",
       "      <td>524</td>\n",
       "    </tr>\n",
       "  </tbody>\n",
       "</table>\n",
       "</div>"
      ],
      "text/plain": [
       "              datetime  garda  fire  ambulance  coast_guard  total_calls\n",
       "0  2017-01-01 00:00:00    143    75        165          133          516\n",
       "1  2017-01-01 01:00:00    161    55        176          120          512\n",
       "2  2017-01-01 02:00:00    145    51        180          142          518\n",
       "3  2017-01-01 03:00:00    142    65        183          134          524\n",
       "4  2017-01-01 04:00:00    161    55        178          138          532\n",
       "5  2017-01-01 05:00:00    152    55        166          127          500\n",
       "6  2017-01-01 06:00:00    158    51        165          132          506\n",
       "7  2017-01-01 07:00:00    151    70        169          118          508\n",
       "8  2017-01-01 08:00:00    162    58        190          138          548\n",
       "9  2017-01-01 09:00:00    163    54        171          141          529\n",
       "10 2017-01-01 10:00:00    173    62        184          116          535\n",
       "11 2017-01-01 11:00:00    165    65        185          123          538\n",
       "12 2017-01-01 12:00:00    154    65        154          138          511\n",
       "13 2017-01-01 13:00:00    161    59        174          124          518\n",
       "14 2017-01-01 14:00:00    163    75        196          125          559\n",
       "15 2017-01-01 15:00:00    151    47        142          121          461\n",
       "16 2017-01-01 16:00:00    171    66        178          135          550\n",
       "17 2017-01-01 17:00:00    130    57        156          136          479\n",
       "18 2017-01-01 18:00:00    146    66        182          122          516\n",
       "19 2017-01-01 19:00:00    154    67        171          138          530\n",
       "20 2017-01-01 20:00:00    176    54        166          124          520\n",
       "21 2017-01-01 21:00:00    145    70        177          122          514\n",
       "22 2017-01-01 22:00:00    145    65        173          107          490\n",
       "23 2017-01-01 23:00:00    140    40        179          137          496\n",
       "24 2017-01-02 00:00:00    169    58        169          128          524"
      ]
     },
     "execution_count": 21,
     "metadata": {},
     "output_type": "execute_result"
    }
   ],
   "source": [
    "# Sum columns garda, fire, ambulance, coast_guard to give a new column total_calls\n",
    "# Reference: https://stackoverflow.com/questions/34023918/make-new-column-in-panda-dataframe-by-adding-values-from-other-columns/34023971\n",
    "ecas['total_calls'] = ecas['garda'] + ecas['fire'] + ecas['ambulance'] + ecas['coast_guard']\n",
    "\n",
    "ecas"
   ]
  },
  {
   "cell_type": "code",
   "execution_count": 22,
   "metadata": {},
   "outputs": [
    {
     "data": {
      "text/plain": [
       "12934"
      ]
     },
     "execution_count": 22,
     "metadata": {},
     "output_type": "execute_result"
    }
   ],
   "source": [
    "ecas['total_calls'].sum()"
   ]
  },
  {
   "cell_type": "code",
   "execution_count": 23,
   "metadata": {},
   "outputs": [
    {
     "data": {
      "text/plain": [
       "datetime       datetime64[ns]\n",
       "garda                   int32\n",
       "fire                    int32\n",
       "ambulance               int32\n",
       "coast_guard             int32\n",
       "total_calls             int32\n",
       "dtype: object"
      ]
     },
     "execution_count": 23,
     "metadata": {},
     "output_type": "execute_result"
    }
   ],
   "source": [
    "ecas.dtypes"
   ]
  },
  {
   "cell_type": "code",
   "execution_count": 24,
   "metadata": {},
   "outputs": [
    {
     "data": {
      "text/html": [
       "<div>\n",
       "<style scoped>\n",
       "    .dataframe tbody tr th:only-of-type {\n",
       "        vertical-align: middle;\n",
       "    }\n",
       "\n",
       "    .dataframe tbody tr th {\n",
       "        vertical-align: top;\n",
       "    }\n",
       "\n",
       "    .dataframe thead th {\n",
       "        text-align: right;\n",
       "    }\n",
       "</style>\n",
       "<table border=\"1\" class=\"dataframe\">\n",
       "  <thead>\n",
       "    <tr style=\"text-align: right;\">\n",
       "      <th></th>\n",
       "      <th>garda</th>\n",
       "      <th>fire</th>\n",
       "      <th>ambulance</th>\n",
       "      <th>coast_guard</th>\n",
       "      <th>total_calls</th>\n",
       "    </tr>\n",
       "  </thead>\n",
       "  <tbody>\n",
       "    <tr>\n",
       "      <th>count</th>\n",
       "      <td>25.000000</td>\n",
       "      <td>25.000000</td>\n",
       "      <td>25.000000</td>\n",
       "      <td>25.000000</td>\n",
       "      <td>25.000000</td>\n",
       "    </tr>\n",
       "    <tr>\n",
       "      <th>mean</th>\n",
       "      <td>155.240000</td>\n",
       "      <td>60.200000</td>\n",
       "      <td>173.160000</td>\n",
       "      <td>128.760000</td>\n",
       "      <td>517.360000</td>\n",
       "    </tr>\n",
       "    <tr>\n",
       "      <th>std</th>\n",
       "      <td>11.540797</td>\n",
       "      <td>8.587782</td>\n",
       "      <td>11.728455</td>\n",
       "      <td>9.033641</td>\n",
       "      <td>21.923883</td>\n",
       "    </tr>\n",
       "    <tr>\n",
       "      <th>min</th>\n",
       "      <td>130.000000</td>\n",
       "      <td>40.000000</td>\n",
       "      <td>142.000000</td>\n",
       "      <td>107.000000</td>\n",
       "      <td>461.000000</td>\n",
       "    </tr>\n",
       "    <tr>\n",
       "      <th>25%</th>\n",
       "      <td>145.000000</td>\n",
       "      <td>55.000000</td>\n",
       "      <td>166.000000</td>\n",
       "      <td>122.000000</td>\n",
       "      <td>508.000000</td>\n",
       "    </tr>\n",
       "    <tr>\n",
       "      <th>50%</th>\n",
       "      <td>154.000000</td>\n",
       "      <td>59.000000</td>\n",
       "      <td>174.000000</td>\n",
       "      <td>128.000000</td>\n",
       "      <td>518.000000</td>\n",
       "    </tr>\n",
       "    <tr>\n",
       "      <th>75%</th>\n",
       "      <td>163.000000</td>\n",
       "      <td>66.000000</td>\n",
       "      <td>180.000000</td>\n",
       "      <td>137.000000</td>\n",
       "      <td>530.000000</td>\n",
       "    </tr>\n",
       "    <tr>\n",
       "      <th>max</th>\n",
       "      <td>176.000000</td>\n",
       "      <td>75.000000</td>\n",
       "      <td>196.000000</td>\n",
       "      <td>142.000000</td>\n",
       "      <td>559.000000</td>\n",
       "    </tr>\n",
       "  </tbody>\n",
       "</table>\n",
       "</div>"
      ],
      "text/plain": [
       "            garda       fire   ambulance  coast_guard  total_calls\n",
       "count   25.000000  25.000000   25.000000    25.000000    25.000000\n",
       "mean   155.240000  60.200000  173.160000   128.760000   517.360000\n",
       "std     11.540797   8.587782   11.728455     9.033641    21.923883\n",
       "min    130.000000  40.000000  142.000000   107.000000   461.000000\n",
       "25%    145.000000  55.000000  166.000000   122.000000   508.000000\n",
       "50%    154.000000  59.000000  174.000000   128.000000   518.000000\n",
       "75%    163.000000  66.000000  180.000000   137.000000   530.000000\n",
       "max    176.000000  75.000000  196.000000   142.000000   559.000000"
      ]
     },
     "execution_count": 24,
     "metadata": {},
     "output_type": "execute_result"
    }
   ],
   "source": [
    "ecas.describe()"
   ]
  },
  {
   "cell_type": "code",
   "execution_count": 25,
   "metadata": {},
   "outputs": [
    {
     "name": "stderr",
     "output_type": "stream",
     "text": [
      "C:\\Users\\User\\Anaconda3\\lib\\site-packages\\scipy\\stats\\stats.py:1713: FutureWarning: Using a non-tuple sequence for multidimensional indexing is deprecated; use `arr[tuple(seq)]` instead of `arr[seq]`. In the future this will be interpreted as an array index, `arr[np.array(seq)]`, which will result either in an error or a different result.\n",
      "  return np.add.reduce(sorted[indexer] * weights, axis=axis) / sumval\n"
     ]
    },
    {
     "data": {
      "text/plain": [
       "<matplotlib.legend.Legend at 0x66a960b160>"
      ]
     },
     "execution_count": 25,
     "metadata": {},
     "output_type": "execute_result"
    },
    {
     "data": {
      "image/png": "[encoded data removed]",
      "text/plain": [
       "<Figure size 720x720 with 1 Axes>"
      ]
     },
     "metadata": {
      "needs_background": "light"
     },
     "output_type": "display_data"
    }
   ],
   "source": [
    "#sns.distplot(ecas['total_calls'], hist=True, kde=False, label = 'Total Calls', color='yellow')\n",
    "plt.rcParams['figure.figsize'] = (10, 10)\n",
    "sns.distplot(ecas['garda'], hist=True, kde=False, label = 'garda' , color='blue')\n",
    "sns.distplot(ecas['fire'], hist=True, kde=False, label = 'fire' , color='red')\n",
    "sns.distplot(ecas['ambulance'], hist=True, kde=False, label = 'ambulance' , color='pink')\n",
    "sns.distplot(ecas['coast_guard'], hist=True, kde=False, label = 'coast_guard' , color='green')\n",
    "plt.legend()"
   ]
  },
  {
   "cell_type": "code",
   "execution_count": 26,
   "metadata": {},
   "outputs": [
    {
     "data": {
      "text/plain": [
       "<matplotlib.axes._subplots.AxesSubplot at 0x66a962e6a0>"
      ]
     },
     "execution_count": 26,
     "metadata": {},
     "output_type": "execute_result"
    },
    {
     "data": {
      "image/png": "[encoded data removed]",
      "text/plain": [
       "<Figure size 720x720 with 1 Axes>"
      ]
     },
     "metadata": {
      "needs_background": "light"
     },
     "output_type": "display_data"
    }
   ],
   "source": [
    "plt.rcParams['figure.figsize'] = (10, 10)\n",
    "sns.lineplot(x=\"datetime\", y=\"garda\", data=ecas)"
   ]
  },
  {
   "cell_type": "code",
   "execution_count": 27,
   "metadata": {},
   "outputs": [
    {
     "data": {
      "text/plain": [
       "<matplotlib.axes._subplots.AxesSubplot at 0x66a969dc18>"
      ]
     },
     "execution_count": 27,
     "metadata": {},
     "output_type": "execute_result"
    },
    {
     "data": {
      "image/png": "[encoded data removed]",
      "text/plain": [
       "<Figure size 720x720 with 1 Axes>"
      ]
     },
     "metadata": {
      "needs_background": "light"
     },
     "output_type": "display_data"
    }
   ],
   "source": [
    "plt.rcParams['figure.figsize'] = (10, 10)\n",
    "sns.lineplot(x=\"datetime\", y=\"total_calls\", data=ecas)\n"
   ]
  },
  {
   "cell_type": "markdown",
   "metadata": {},
   "source": [
    "## Average Call Duration\n",
    "\n",
    "The average ECAS call duration is 7.57 in 2017 according to the Department of environment website below.\n",
    "\n",
    "In this section we will build this in to out model to simulate how many agents need to be available so that no call is queued. \n",
    "\n",
    "There will be two more variables added to the ecas dataframe\n",
    "\n",
    "1. total_avg_talk_time\n",
    "2. agents_required\n",
    "\n",
    "Reference: \n",
    "https://www.dccae.gov.ie/en-ie/news-and-media/press-releases/Pages/Minister-Denis-Naughten-Publishes-New-Figures-on-Ireland%E2%80%99s-Emergency-Call-Answering-Service.aspx"
   ]
  },
  {
   "cell_type": "markdown",
   "metadata": {},
   "source": [
    "### Add talk_time and agent_required\n",
    "\n",
    "The next section of code will add in talk_time and agents_required to the ecas dataframe."
   ]
  },
  {
   "cell_type": "code",
   "execution_count": 28,
   "metadata": {},
   "outputs": [
    {
     "data": {
      "text/html": [
       "<div>\n",
       "<style scoped>\n",
       "    .dataframe tbody tr th:only-of-type {\n",
       "        vertical-align: middle;\n",
       "    }\n",
       "\n",
       "    .dataframe tbody tr th {\n",
       "        vertical-align: top;\n",
       "    }\n",
       "\n",
       "    .dataframe thead th {\n",
       "        text-align: right;\n",
       "    }\n",
       "</style>\n",
       "<table border=\"1\" class=\"dataframe\">\n",
       "  <thead>\n",
       "    <tr style=\"text-align: right;\">\n",
       "      <th></th>\n",
       "      <th>datetime</th>\n",
       "      <th>garda</th>\n",
       "      <th>fire</th>\n",
       "      <th>ambulance</th>\n",
       "      <th>coast_guard</th>\n",
       "      <th>total_calls</th>\n",
       "      <th>total_avg_talk_time</th>\n",
       "    </tr>\n",
       "  </thead>\n",
       "  <tbody>\n",
       "    <tr>\n",
       "      <th>0</th>\n",
       "      <td>2017-01-01 00:00:00</td>\n",
       "      <td>143</td>\n",
       "      <td>75</td>\n",
       "      <td>165</td>\n",
       "      <td>133</td>\n",
       "      <td>516</td>\n",
       "      <td>4128</td>\n",
       "    </tr>\n",
       "    <tr>\n",
       "      <th>1</th>\n",
       "      <td>2017-01-01 01:00:00</td>\n",
       "      <td>161</td>\n",
       "      <td>55</td>\n",
       "      <td>176</td>\n",
       "      <td>120</td>\n",
       "      <td>512</td>\n",
       "      <td>4096</td>\n",
       "    </tr>\n",
       "    <tr>\n",
       "      <th>2</th>\n",
       "      <td>2017-01-01 02:00:00</td>\n",
       "      <td>145</td>\n",
       "      <td>51</td>\n",
       "      <td>180</td>\n",
       "      <td>142</td>\n",
       "      <td>518</td>\n",
       "      <td>4144</td>\n",
       "    </tr>\n",
       "    <tr>\n",
       "      <th>3</th>\n",
       "      <td>2017-01-01 03:00:00</td>\n",
       "      <td>142</td>\n",
       "      <td>65</td>\n",
       "      <td>183</td>\n",
       "      <td>134</td>\n",
       "      <td>524</td>\n",
       "      <td>4192</td>\n",
       "    </tr>\n",
       "    <tr>\n",
       "      <th>4</th>\n",
       "      <td>2017-01-01 04:00:00</td>\n",
       "      <td>161</td>\n",
       "      <td>55</td>\n",
       "      <td>178</td>\n",
       "      <td>138</td>\n",
       "      <td>532</td>\n",
       "      <td>4256</td>\n",
       "    </tr>\n",
       "  </tbody>\n",
       "</table>\n",
       "</div>"
      ],
      "text/plain": [
       "             datetime  garda  fire  ambulance  coast_guard  total_calls  \\\n",
       "0 2017-01-01 00:00:00    143    75        165          133          516   \n",
       "1 2017-01-01 01:00:00    161    55        176          120          512   \n",
       "2 2017-01-01 02:00:00    145    51        180          142          518   \n",
       "3 2017-01-01 03:00:00    142    65        183          134          524   \n",
       "4 2017-01-01 04:00:00    161    55        178          138          532   \n",
       "\n",
       "   total_avg_talk_time  \n",
       "0                 4128  \n",
       "1                 4096  \n",
       "2                 4144  \n",
       "3                 4192  \n",
       "4                 4256  "
      ]
     },
     "execution_count": 28,
     "metadata": {},
     "output_type": "execute_result"
    }
   ],
   "source": [
    "ecas['total_avg_talk_time'] = ecas['total_calls'] * 8\n",
    "ecas.head()"
   ]
  },
  {
   "cell_type": "code",
   "execution_count": 29,
   "metadata": {},
   "outputs": [
    {
     "data": {
      "text/html": [
       "<div>\n",
       "<style scoped>\n",
       "    .dataframe tbody tr th:only-of-type {\n",
       "        vertical-align: middle;\n",
       "    }\n",
       "\n",
       "    .dataframe tbody tr th {\n",
       "        vertical-align: top;\n",
       "    }\n",
       "\n",
       "    .dataframe thead th {\n",
       "        text-align: right;\n",
       "    }\n",
       "</style>\n",
       "<table border=\"1\" class=\"dataframe\">\n",
       "  <thead>\n",
       "    <tr style=\"text-align: right;\">\n",
       "      <th></th>\n",
       "      <th>datetime</th>\n",
       "      <th>garda</th>\n",
       "      <th>fire</th>\n",
       "      <th>ambulance</th>\n",
       "      <th>coast_guard</th>\n",
       "      <th>total_calls</th>\n",
       "      <th>total_avg_talk_time</th>\n",
       "    </tr>\n",
       "  </thead>\n",
       "  <tbody>\n",
       "  </tbody>\n",
       "</table>\n",
       "</div>"
      ],
      "text/plain": [
       "Empty DataFrame\n",
       "Columns: [datetime, garda, fire, ambulance, coast_guard, total_calls, total_avg_talk_time]\n",
       "Index: []"
      ]
     },
     "execution_count": 29,
     "metadata": {},
     "output_type": "execute_result"
    }
   ],
   "source": [
    "ecas_jan = ecas.loc['2018-01-01':'2018-01-31']\n",
    "ecas_jan.head()"
   ]
  },
  {
   "cell_type": "code",
   "execution_count": 30,
   "metadata": {},
   "outputs": [
    {
     "data": {
      "text/plain": [
       "0"
      ]
     },
     "execution_count": 30,
     "metadata": {},
     "output_type": "execute_result"
    }
   ],
   "source": [
    "ecas_jan['total_calls'].sum()"
   ]
  },
  {
   "cell_type": "code",
   "execution_count": 31,
   "metadata": {},
   "outputs": [
    {
     "data": {
      "text/html": [
       "<div>\n",
       "<style scoped>\n",
       "    .dataframe tbody tr th:only-of-type {\n",
       "        vertical-align: middle;\n",
       "    }\n",
       "\n",
       "    .dataframe tbody tr th {\n",
       "        vertical-align: top;\n",
       "    }\n",
       "\n",
       "    .dataframe thead th {\n",
       "        text-align: right;\n",
       "    }\n",
       "</style>\n",
       "<table border=\"1\" class=\"dataframe\">\n",
       "  <thead>\n",
       "    <tr style=\"text-align: right;\">\n",
       "      <th></th>\n",
       "      <th>datetime</th>\n",
       "      <th>garda</th>\n",
       "      <th>fire</th>\n",
       "      <th>ambulance</th>\n",
       "      <th>coast_guard</th>\n",
       "      <th>total_calls</th>\n",
       "      <th>total_avg_talk_time</th>\n",
       "    </tr>\n",
       "  </thead>\n",
       "  <tbody>\n",
       "  </tbody>\n",
       "</table>\n",
       "</div>"
      ],
      "text/plain": [
       "Empty DataFrame\n",
       "Columns: [datetime, garda, fire, ambulance, coast_guard, total_calls, total_avg_talk_time]\n",
       "Index: []"
      ]
     },
     "execution_count": 31,
     "metadata": {},
     "output_type": "execute_result"
    }
   ],
   "source": [
    "ecas_jan.head()"
   ]
  },
  {
   "cell_type": "code",
   "execution_count": 32,
   "metadata": {},
   "outputs": [
    {
     "ename": "AttributeError",
     "evalue": "'RangeIndex' object has no attribute 'month'",
     "output_type": "error",
     "traceback": [
      "\u001b[1;31m---------------------------------------------------------------------------\u001b[0m",
      "\u001b[1;31mAttributeError\u001b[0m                            Traceback (most recent call last)",
      "\u001b[1;32m<ipython-input-32-2b0eda6f6384>\u001b[0m in \u001b[0;36m<module>\u001b[1;34m\u001b[0m\n\u001b[1;32m----> 1\u001b[1;33m \u001b[0mecas\u001b[0m\u001b[1;33m[\u001b[0m\u001b[0mecas\u001b[0m\u001b[1;33m.\u001b[0m\u001b[0mindex\u001b[0m\u001b[1;33m.\u001b[0m\u001b[0mmonth\u001b[0m \u001b[1;33m==\u001b[0m \u001b[1;36m1\u001b[0m\u001b[1;33m]\u001b[0m\u001b[1;33m[\u001b[0m\u001b[1;34m'total_calls'\u001b[0m\u001b[1;33m]\u001b[0m\u001b[1;33m.\u001b[0m\u001b[0msum\u001b[0m\u001b[1;33m(\u001b[0m\u001b[1;33m)\u001b[0m\u001b[1;33m\u001b[0m\u001b[1;33m\u001b[0m\u001b[0m\n\u001b[0m",
      "\u001b[1;31mAttributeError\u001b[0m: 'RangeIndex' object has no attribute 'month'"
     ]
    }
   ],
   "source": [
    "ecas[ecas.index.month == 1]['total_calls'].sum()"
   ]
  },
  {
   "cell_type": "code",
   "execution_count": null,
   "metadata": {},
   "outputs": [],
   "source": [
    "ecas[ecas.index == '2018-01-01 00:00:00']['total_calls'].values"
   ]
  },
  {
   "cell_type": "markdown",
   "metadata": {},
   "source": [
    "### Poisson Probability\n",
    "\n",
    "The poisson probability of a call arriving in a particular interval can be calculated as follows:\n"
   ]
  },
  {
   "cell_type": "code",
   "execution_count": null,
   "metadata": {},
   "outputs": [],
   "source": []
  },
  {
   "cell_type": "code",
   "execution_count": null,
   "metadata": {},
   "outputs": [],
   "source": [
    "\n",
    "from scipy.special import factorial\n",
    "\n",
    "time_p = '2018-01-01 00:00:00'\n",
    "\n",
    "calls_per_min = ecas[ecas.index == time_p]['total_calls'].values/60\n",
    "\n",
    "minutes = 5\n",
    "\n",
    "# Expected events\n",
    "#lam = calls_per_min[0] * minutes\n",
    "\n",
    "#k = 2\n",
    "#pk = np.exp(-lam) * np.power(lam, k) / factorial(k)\n",
    "#print(f'The probability of {k} calls in {minutes} minutes is {100*pk:.2f}% for the time period {time_p}')\n",
    "\n",
    "#Reference: https://github.com/WillKoehrsen/Data-Analysis/blob/master/poisson/poisson.ipynb"
   ]
  },
  {
   "cell_type": "code",
   "execution_count": null,
   "metadata": {},
   "outputs": [],
   "source": []
  }
 ],
 "metadata": {
  "kernelspec": {
   "display_name": "Python 3",
   "language": "python",
   "name": "python3"
  },
  "language_info": {
   "codemirror_mode": {
    "name": "ipython",
    "version": 3
   },
   "file_extension": ".py",
   "mimetype": "text/x-python",
   "name": "python",
   "nbconvert_exporter": "python",
   "pygments_lexer": "ipython3",
   "version": "3.7.1"
  }
 },
 "nbformat": 4,
 "nbformat_minor": 2
}
