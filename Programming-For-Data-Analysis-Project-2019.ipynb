{
 "cells": [
  {
   "cell_type": "markdown",
   "metadata": {},
   "source": [
    "# Programming for Data Analysis Project 2019\n",
    "\n"
   ]
  },
  {
   "cell_type": "markdown",
   "metadata": {},
   "source": [
    "## Problem Statement\n",
    "\n",
    "Create a data set by simulating a real-word phenomenon. Rather than collect data associated with the choosen real-world phenomenon the data should be modeled and synthesise the data using Python **numpy.randon** package\n",
    "\n"
   ]
  },
  {
   "cell_type": "markdown",
   "metadata": {},
   "source": [
    "References\n",
    "https://towardsdatascience.com/learning-to-simulate-c53d8b393a56\n"
   ]
  },
  {
   "cell_type": "markdown",
   "metadata": {},
   "source": [
    "## Real world phenomenon simulated\n",
    "\n",
    "The real-world pheomenon choose to simulate is a call centre. The call centre will have the following variables\n",
    "\n",
    "1. openhrs\n",
    "2. callsinbound\n",
    "3. agents\n",
    "4. callqueues\n",
    "\n"
   ]
  },
  {
   "cell_type": "code",
   "execution_count": 6,
   "metadata": {},
   "outputs": [],
   "source": [
    "#A number is Python packages are imported\n",
    "\n",
    "import numpy as np\n",
    "import pandas as pd\n",
    "import seaborn as sns"
   ]
  },
  {
   "cell_type": "code",
   "execution_count": 13,
   "metadata": {},
   "outputs": [
    {
     "data": {
      "text/plain": [
       "TimedeltaIndex(['09:00:00', '10:00:00', '11:00:00', '12:00:00', '13:00:00',\n",
       "                '14:00:00', '15:00:00', '16:00:00', '17:00:00'],\n",
       "               dtype='timedelta64[ns]', freq='H')"
      ]
     },
     "execution_count": 13,
     "metadata": {},
     "output_type": "execute_result"
    }
   ],
   "source": [
    "#Variable 1 is a timeseries variable \n",
    "\n",
    "timep = pd.timedelta_range('09:00:00', periods=9, freq=\"H\")\n",
    "\n",
    "# Reference: \n",
    "#https://pandas.pydata.org/pandas-docs/stable/reference/api/pandas.date_range.html\n",
    "#https://jakevdp.github.io/PythonDataScienceHandbook/03.11-working-with-time-series.html"
   ]
  },
  {
   "cell_type": "code",
   "execution_count": 35,
   "metadata": {},
   "outputs": [],
   "source": [
    "dates = pd.date_range('2019-12-01', periods=10, freq='B')\n"
   ]
  },
  {
   "cell_type": "code",
   "execution_count": 28,
   "metadata": {},
   "outputs": [
    {
     "data": {
      "text/plain": [
       "Timestamp('2019-12-02 00:00:00', freq='B')"
      ]
     },
     "execution_count": 28,
     "metadata": {},
     "output_type": "execute_result"
    }
   ],
   "source": [
    "dates[0]"
   ]
  },
  {
   "cell_type": "code",
   "execution_count": 41,
   "metadata": {},
   "outputs": [],
   "source": [
    "openhrs =  pd.date_range('2019-12-01', periods=168, freq='H')\n"
   ]
  },
  {
   "cell_type": "code",
   "execution_count": 43,
   "metadata": {},
   "outputs": [
    {
     "data": {
      "text/plain": [
       "DatetimeIndex(['2019-12-01 00:00:00', '2019-12-01 01:00:00',\n",
       "               '2019-12-01 02:00:00', '2019-12-01 03:00:00',\n",
       "               '2019-12-01 04:00:00', '2019-12-01 05:00:00',\n",
       "               '2019-12-01 06:00:00', '2019-12-01 07:00:00',\n",
       "               '2019-12-01 08:00:00', '2019-12-01 09:00:00',\n",
       "               ...\n",
       "               '2019-12-07 14:00:00', '2019-12-07 15:00:00',\n",
       "               '2019-12-07 16:00:00', '2019-12-07 17:00:00',\n",
       "               '2019-12-07 18:00:00', '2019-12-07 19:00:00',\n",
       "               '2019-12-07 20:00:00', '2019-12-07 21:00:00',\n",
       "               '2019-12-07 22:00:00', '2019-12-07 23:00:00'],\n",
       "              dtype='datetime64[ns]', length=168, freq='H')"
      ]
     },
     "execution_count": 43,
     "metadata": {},
     "output_type": "execute_result"
    }
   ],
   "source": [
    "openhrs"
   ]
  },
  {
   "cell_type": "code",
   "execution_count": 38,
   "metadata": {},
   "outputs": [
    {
     "ename": "AttributeError",
     "evalue": "'DatetimeIndex' object has no attribute 'between_time'",
     "output_type": "error",
     "traceback": [
      "\u001b[1;31m---------------------------------------------------------------------------\u001b[0m",
      "\u001b[1;31mAttributeError\u001b[0m                            Traceback (most recent call last)",
      "\u001b[1;32m<ipython-input-38-7089357a0b1c>\u001b[0m in \u001b[0;36m<module>\u001b[1;34m\u001b[0m\n\u001b[1;32m----> 1\u001b[1;33m \u001b[0mopen\u001b[0m \u001b[1;33m=\u001b[0m \u001b[0mopenhrs\u001b[0m\u001b[1;33m.\u001b[0m\u001b[0mbetween_time\u001b[0m\u001b[1;33m(\u001b[0m\u001b[1;34m\"9:00\"\u001b[0m\u001b[1;33m,\u001b[0m \u001b[1;34m\"17:00\"\u001b[0m\u001b[1;33m)\u001b[0m\u001b[1;33m\u001b[0m\u001b[1;33m\u001b[0m\u001b[0m\n\u001b[0m",
      "\u001b[1;31mAttributeError\u001b[0m: 'DatetimeIndex' object has no attribute 'between_time'"
     ]
    }
   ],
   "source": [
    "open = openhrs.between_time(\"9:00\", \"17:00\")"
   ]
  },
  {
   "cell_type": "code",
   "execution_count": null,
   "metadata": {},
   "outputs": [],
   "source": []
  }
 ],
 "metadata": {
  "kernelspec": {
   "display_name": "Python 3",
   "language": "python",
   "name": "python3"
  },
  "language_info": {
   "codemirror_mode": {
    "name": "ipython",
    "version": 3
   },
   "file_extension": ".py",
   "mimetype": "text/x-python",
   "name": "python",
   "nbconvert_exporter": "python",
   "pygments_lexer": "ipython3",
   "version": "3.7.1"
  }
 },
 "nbformat": 4,
 "nbformat_minor": 2
}
