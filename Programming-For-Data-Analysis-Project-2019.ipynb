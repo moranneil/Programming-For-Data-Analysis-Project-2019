{
 "cells": [
  {
   "cell_type": "markdown",
   "metadata": {},
   "source": [
    "# Programming for Data Analysis Project 2019\n",
    "\n",
    "![Image](Images/pythonpandas.JPG \"Image\")\n"
   ]
  },
  {
   "cell_type": "markdown",
   "metadata": {},
   "source": [
    "## Problem Statement\n",
    "\n",
    "Create a dataset by simulating a real-word phenomenon. Rather than collect data associated with the choosen real-world phenomenon the data should be modeled and synthesise the data using Python **numpy.randon** package\n",
    "\n"
   ]
  },
  {
   "cell_type": "markdown",
   "metadata": {},
   "source": [
    "## Real World Phenomenon\n",
    "\n",
    "The real world phenomenon we will be simulating is the Irish Emergency Call Answering Service (ECAS). This is a 24hr 365 day a year call centre that answers emergency calls 112 or 999. \n",
    "\n",
    "When 112 or 999 is dialed from any PSTN phone in Ireland the call will be put through to an emergency front line operator in the ECAS call centre. The caller is then given the following options \n",
    "\n",
    "1. Garda \n",
    "2. Fire \n",
    "3. Ambulance\n",
    "4. Coast Guard \n",
    "\n",
    "Depending on the emergency the front line operator puts the call through to the appropiate emergency service, they continue to monitor the call until the emergency service takes responsibility for the call and responding to the emergency.\n",
    "\n",
    "They are also responsible for taking the location of the emergency call.\n",
    "\n",
    "From the call statistics published on the department of communications website the ECAS service answered over 1.8 million calls in 2017. This over 200 calls per hour. The average duration of calls were 7.57 secs \n",
    "\n",
    "References: \n",
    "https://www.dccae.gov.ie/en-ie/news-and-media/press-releases/Pages/Minister-Denis-Naughten-Publishes-New-Figures-on-Ireland%E2%80%99s-Emergency-Call-Answering-Service.aspx"
   ]
  },
  {
   "cell_type": "markdown",
   "metadata": {},
   "source": [
    "\n"
   ]
  },
  {
   "cell_type": "markdown",
   "metadata": {},
   "source": [
    "## Variables\n",
    "\n",
    "To simulate the ECAS call centre we will use Python **numpy.random** package The call centre will have the following variables and is open 24 hours 7 days a week and 365 days of the year.\n",
    "\n",
    "The first variable is a timeseries variable called **period** this will consist of a time period of one week in hourly intervals. This will give 145 rows in the Dataframe or dataset. \n",
    "\n",
    "1. period\n",
    "2. garda\n",
    "3. fire\n",
    "4. ambulance\n",
    "5. coast_guard\n",
    "6. total_calls\n",
    "\n",
    "To simulate the calls to the ECAS call center Numpy random.poisson distribution is used, garda, fire, ambulance and coast_guard calls all use Numpy random.poisson distrbution\n",
    "\n",
    "The total_calls variable is a sum total of calls for garda, fire, ambulance and coast_guard.\n",
    "\n",
    "References: \n",
    "https://en.wikipedia.org/wiki/Poisson_distribution\n"
   ]
  },
  {
   "cell_type": "markdown",
   "metadata": {},
   "source": [
    "## Building the Dataframe"
   ]
  },
  {
   "cell_type": "markdown",
   "metadata": {},
   "source": [
    "### Importing Python Packages"
   ]
  },
  {
   "cell_type": "markdown",
   "metadata": {},
   "source": [
    "The first step is to import the following Python packages. Numpy is imported to give the numpy random packages to simulate data for the dataset. Pandas constructs the actual dataframe consisting of rows and columns. Matplotlib.pyplot and seaborn are imported as graphic libraries to generate plots from the simulated data."
   ]
  },
  {
   "cell_type": "code",
   "execution_count": 1,
   "metadata": {},
   "outputs": [],
   "source": [
    "#The following Python packages are imported\n",
    "import numpy as np\n",
    "import pandas as pd\n",
    "import matplotlib.pyplot as plt\n",
    "import seaborn as sns"
   ]
  },
  {
   "cell_type": "markdown",
   "metadata": {},
   "source": [
    "### Defining the sampling start, end and frequency\n",
    "\n",
    "Once the packages Python packages are imported the first step is to define \n"
   ]
  },
  {
   "cell_type": "code",
   "execution_count": 2,
   "metadata": {},
   "outputs": [],
   "source": [
    "# The period of a week is choosen starting from the 1st January 2019, \n",
    "# the week is divided up in to hourly periods given 145 data points for the week.\n",
    "\n",
    "period =  pd.date_range('01-01-2017', '01-07-2017', freq='H')\n",
    "\n",
    "#Reference: \n",
    "#https://pandas.pydata.org/pandas-docs/stable/reference/api/pandas.date_range.html\n",
    "#https://jakevdp.github.io/PythonDataScienceHandbook/03.11-working-with-time-series.html"
   ]
  },
  {
   "cell_type": "code",
   "execution_count": 3,
   "metadata": {},
   "outputs": [
    {
     "data": {
      "text/plain": [
       "DatetimeIndex(['2017-01-01 00:00:00', '2017-01-01 01:00:00',\n",
       "               '2017-01-01 02:00:00', '2017-01-01 03:00:00',\n",
       "               '2017-01-01 04:00:00', '2017-01-01 05:00:00',\n",
       "               '2017-01-01 06:00:00', '2017-01-01 07:00:00',\n",
       "               '2017-01-01 08:00:00', '2017-01-01 09:00:00',\n",
       "               ...\n",
       "               '2017-01-06 15:00:00', '2017-01-06 16:00:00',\n",
       "               '2017-01-06 17:00:00', '2017-01-06 18:00:00',\n",
       "               '2017-01-06 19:00:00', '2017-01-06 20:00:00',\n",
       "               '2017-01-06 21:00:00', '2017-01-06 22:00:00',\n",
       "               '2017-01-06 23:00:00', '2017-01-07 00:00:00'],\n",
       "              dtype='datetime64[ns]', length=145, freq='H')"
      ]
     },
     "execution_count": 3,
     "metadata": {},
     "output_type": "execute_result"
    }
   ],
   "source": [
    "#period datetime index is printed out, the data type is datetime64 \n",
    "period"
   ]
  },
  {
   "cell_type": "markdown",
   "metadata": {},
   "source": [
    "### Defining ecas_garda dataframe\n",
    "\n",
    "The ecas_garda pandas dataframe is defined to capture garda emergency calls to the ECAS call centre for the period defined in the previous section, the ecas_garda dataframe consists of the datetime column and a Numpy random.poisson distribution for garda emergency calls, the poisson distrbution's $\\lambda$ is also a random integer.\n",
    "\n",
    "Defining the ecas_garda dataframe consists of two steps.\n",
    "\n",
    "1. Define the poisson distrbution's $\\lambda$ as a random integer\n",
    "2. Define the calls column as a Numpy **random.poisson** distrbution of the entire time period\n",
    "\n",
    "References:https://www.calvin.edu/~rpruim/courses/s341/S17/from-class/MathinRmd.html\n"
   ]
  },
  {
   "cell_type": "code",
   "execution_count": 4,
   "metadata": {},
   "outputs": [
    {
     "data": {
      "text/plain": [
       "100"
      ]
     },
     "execution_count": 4,
     "metadata": {},
     "output_type": "execute_result"
    }
   ],
   "source": [
    "#Define a random integer for the Poisson distrubution lamda value for calls for a garda emergency. \n",
    "#The random integer number is anywhere in the range of 45 to 185 calls per hour, this is a random range choosen.\n",
    "garda_randomint = np.random.randint(45, 185)\n",
    "\n",
    "#The random integer is printed out below\n",
    "garda_randomint\n",
    "\n",
    "#Reference: https://docs.scipy.org/doc/numpy-1.15.1/reference/generated/numpy.random.randint.html"
   ]
  },
  {
   "cell_type": "markdown",
   "metadata": {},
   "source": [
    "Construct the **ecas_garda** dataframe using the **period** variable and label this column datetime. This dataframe will have the same number of rows as the period variable. The next line of code adds the **garda** column on to the new dataframe **ecas_garda** using a Numpy **random.poisson** function in Python. The resulting pandas dataframe has two columns, **datetime** and **garda**."
   ]
  },
  {
   "cell_type": "code",
   "execution_count": 5,
   "metadata": {},
   "outputs": [
    {
     "data": {
      "text/html": [
       "<div>\n",
       "<style scoped>\n",
       "    .dataframe tbody tr th:only-of-type {\n",
       "        vertical-align: middle;\n",
       "    }\n",
       "\n",
       "    .dataframe tbody tr th {\n",
       "        vertical-align: top;\n",
       "    }\n",
       "\n",
       "    .dataframe thead th {\n",
       "        text-align: right;\n",
       "    }\n",
       "</style>\n",
       "<table border=\"1\" class=\"dataframe\">\n",
       "  <thead>\n",
       "    <tr style=\"text-align: right;\">\n",
       "      <th></th>\n",
       "      <th>datetime</th>\n",
       "      <th>garda</th>\n",
       "    </tr>\n",
       "  </thead>\n",
       "  <tbody>\n",
       "    <tr>\n",
       "      <th>0</th>\n",
       "      <td>2017-01-01 00:00:00</td>\n",
       "      <td>94</td>\n",
       "    </tr>\n",
       "    <tr>\n",
       "      <th>1</th>\n",
       "      <td>2017-01-01 01:00:00</td>\n",
       "      <td>102</td>\n",
       "    </tr>\n",
       "    <tr>\n",
       "      <th>2</th>\n",
       "      <td>2017-01-01 02:00:00</td>\n",
       "      <td>100</td>\n",
       "    </tr>\n",
       "    <tr>\n",
       "      <th>3</th>\n",
       "      <td>2017-01-01 03:00:00</td>\n",
       "      <td>87</td>\n",
       "    </tr>\n",
       "    <tr>\n",
       "      <th>4</th>\n",
       "      <td>2017-01-01 04:00:00</td>\n",
       "      <td>89</td>\n",
       "    </tr>\n",
       "  </tbody>\n",
       "</table>\n",
       "</div>"
      ],
      "text/plain": [
       "             datetime  garda\n",
       "0 2017-01-01 00:00:00     94\n",
       "1 2017-01-01 01:00:00    102\n",
       "2 2017-01-01 02:00:00    100\n",
       "3 2017-01-01 03:00:00     87\n",
       "4 2017-01-01 04:00:00     89"
      ]
     },
     "execution_count": 5,
     "metadata": {},
     "output_type": "execute_result"
    }
   ],
   "source": [
    "#ecas_garda pandas Dataframe is constructed first with the period to produce a timeseries column of type timeseries labeling it 'datetime'\n",
    "#The datetime column is not an index to the dataframe and therefore can be in either the x or y axis of the plots.\n",
    "#The column garda is added on to the new dataframe using Numpy random.poisson distrbution function.\n",
    "#THe first 5 rows of the new dataframe is printed out.\n",
    "\n",
    "ecas_garda = pd.DataFrame(period, columns=['datetime'])\n",
    "ecas_garda['garda'] = np.random.poisson(garda_randomint, len(period))\n",
    "ecas_garda.head()\n",
    "\n",
    "#Reference: \n",
    "#https://web.microsoftstream.com/video/db8801fe-9e42-4663-a508-5d6f38bb7327\n",
    "#https://docs.scipy.org/doc/numpy-1.15.1/reference/generated/numpy.random.poisson.html\n",
    "#https://www.dataquest.io/blog/tutorial-time-series-analysis-with-pandas/"
   ]
  },
  {
   "cell_type": "code",
   "execution_count": 6,
   "metadata": {},
   "outputs": [
    {
     "data": {
      "text/plain": [
       "datetime    datetime64[ns]\n",
       "garda                int32\n",
       "dtype: object"
      ]
     },
     "execution_count": 6,
     "metadata": {},
     "output_type": "execute_result"
    }
   ],
   "source": [
    "#This command verifies the data types in the ecas_garda dataframe. \n",
    "#The result is a datetime64 columns and an 32 bit integer column\n",
    "\n",
    "ecas_garda.dtypes\n",
    "\n",
    "#References:https://docs.scipy.org/doc/numpy-1.15.0/reference/arrays.datetime.html"
   ]
  },
  {
   "cell_type": "markdown",
   "metadata": {},
   "source": [
    "### Defining ecas_fire dataframe\n",
    "\n",
    "Again the ecas_fire pandas dataframe is defined to capture fire emergency calls to the ECAS call centre for the period defined in the previous section, the ecas_fire dataframe consists of the datetime column and a Numpy random.poisson distribution for emergency calls for the fire service, the poisson distrbution's $\\lambda$ is also a random integer.\n",
    "\n",
    "Defining the ecas_fire dataframe consists of two steps.\n",
    "\n",
    "1. Define the poisson distrbution's $\\lambda$ as a random integer\n",
    "2. Define the calls column as a Numpy **random.poisson** distrbution of the entire time period.\n",
    "\n",
    "References:https://www.calvin.edu/~rpruim/courses/s341/S17/from-class/MathinRmd.html"
   ]
  },
  {
   "cell_type": "code",
   "execution_count": 7,
   "metadata": {},
   "outputs": [
    {
     "data": {
      "text/plain": [
       "58"
      ]
     },
     "execution_count": 7,
     "metadata": {},
     "output_type": "execute_result"
    }
   ],
   "source": [
    "#Define a random integer for the Poisson distribution lamda value for calls for a fire emergency. \n",
    "#The random integer number is anywhere in the range of 50 to 160 calls per hour, this is a random range choosen.\n",
    "\n",
    "fire_randomint = np.random.randint(50,160)\n",
    "\n",
    "# The random integer is printed out.\n",
    "fire_randomint\n",
    "\n",
    "#Reference: https://docs.scipy.org/doc/numpy-1.15.1/reference/generated/numpy.random.randint.html"
   ]
  },
  {
   "cell_type": "markdown",
   "metadata": {},
   "source": [
    "Construct the **ecas_fire** dataframe using the **period** variable and label this column datetime. This dataframe will have the same number of rows as the period variable. The next line of code adds the **fire** column on to the new dataframe **ecas_fire** using a Numpy **random.poisson** function in Python. The resulting pandas dataframe has two columns, **datetime** and **fire**."
   ]
  },
  {
   "cell_type": "code",
   "execution_count": 8,
   "metadata": {},
   "outputs": [
    {
     "data": {
      "text/html": [
       "<div>\n",
       "<style scoped>\n",
       "    .dataframe tbody tr th:only-of-type {\n",
       "        vertical-align: middle;\n",
       "    }\n",
       "\n",
       "    .dataframe tbody tr th {\n",
       "        vertical-align: top;\n",
       "    }\n",
       "\n",
       "    .dataframe thead th {\n",
       "        text-align: right;\n",
       "    }\n",
       "</style>\n",
       "<table border=\"1\" class=\"dataframe\">\n",
       "  <thead>\n",
       "    <tr style=\"text-align: right;\">\n",
       "      <th></th>\n",
       "      <th>datetime</th>\n",
       "      <th>fire</th>\n",
       "    </tr>\n",
       "  </thead>\n",
       "  <tbody>\n",
       "    <tr>\n",
       "      <th>0</th>\n",
       "      <td>2017-01-01 00:00:00</td>\n",
       "      <td>60</td>\n",
       "    </tr>\n",
       "    <tr>\n",
       "      <th>1</th>\n",
       "      <td>2017-01-01 01:00:00</td>\n",
       "      <td>59</td>\n",
       "    </tr>\n",
       "    <tr>\n",
       "      <th>2</th>\n",
       "      <td>2017-01-01 02:00:00</td>\n",
       "      <td>67</td>\n",
       "    </tr>\n",
       "    <tr>\n",
       "      <th>3</th>\n",
       "      <td>2017-01-01 03:00:00</td>\n",
       "      <td>53</td>\n",
       "    </tr>\n",
       "    <tr>\n",
       "      <th>4</th>\n",
       "      <td>2017-01-01 04:00:00</td>\n",
       "      <td>50</td>\n",
       "    </tr>\n",
       "  </tbody>\n",
       "</table>\n",
       "</div>"
      ],
      "text/plain": [
       "             datetime  fire\n",
       "0 2017-01-01 00:00:00    60\n",
       "1 2017-01-01 01:00:00    59\n",
       "2 2017-01-01 02:00:00    67\n",
       "3 2017-01-01 03:00:00    53\n",
       "4 2017-01-01 04:00:00    50"
      ]
     },
     "execution_count": 8,
     "metadata": {},
     "output_type": "execute_result"
    }
   ],
   "source": [
    "#ecas_fire pandas Dataframe is constructed first with the period to produce a timeseries column of type timeseries labeling it 'datetime'\n",
    "#The datetime column is not an index to the dataframe and therefore can be in either the x or y axis of the plots.\n",
    "#The column fire is added on to the new dataframe using Numpy random.poisson distrbution function.\n",
    "#The first 5 rows of the new dataframe is printed out.\n",
    "\n",
    "ecas_fire = pd.DataFrame(period, columns=['datetime'])\n",
    "ecas_fire['fire'] = np.random.poisson(fire_randomint, len(period))\n",
    "ecas_fire.head()\n",
    "\n",
    "#Reference: \n",
    "#https://web.microsoftstream.com/video/db8801fe-9e42-4663-a508-5d6f38bb7327\n",
    "#https://docs.scipy.org/doc/numpy-1.15.1/reference/generated/numpy.random.poisson.html\n",
    "#https://www.dataquest.io/blog/tutorial-time-series-analysis-with-pandas/"
   ]
  },
  {
   "cell_type": "code",
   "execution_count": 9,
   "metadata": {},
   "outputs": [
    {
     "data": {
      "text/plain": [
       "datetime    datetime64[ns]\n",
       "fire                 int32\n",
       "dtype: object"
      ]
     },
     "execution_count": 9,
     "metadata": {},
     "output_type": "execute_result"
    }
   ],
   "source": [
    "#This command verifies the data types in the ecas_fire dataframe. \n",
    "#The result is a datetime64 columns and an 32 bit integer column\n",
    "\n",
    "ecas_fire.dtypes\n",
    "\n",
    "#References:https://docs.scipy.org/doc/numpy-1.15.0/reference/arrays.datetime.html"
   ]
  },
  {
   "cell_type": "markdown",
   "metadata": {},
   "source": [
    "### Defining ecas_ambulance dataframe\n",
    "\n",
    "The ecas_ambulance pandas dataframe is defined to capture ambulance emergency calls to the ECAS call centre for the period defined in the previous section, the ecas_ambulance dataframe consists of the datetime column and a Numpy random.poisson distribution for the ambulance calls, the poisson distrbution's $\\lambda$ is also a random integer.\n",
    "\n",
    "Defining the ecas_ambulance dataframe consists of two steps.\n",
    "\n",
    "1. Define the poisson distrbution's $\\lambda$ as a random integer\n",
    "2. Define the calls column as a Numpy **random.poisson** distrbution of the entire time period.\n",
    "\n",
    "References:https://www.calvin.edu/~rpruim/courses/s341/S17/from-class/MathinRmd.html"
   ]
  },
  {
   "cell_type": "code",
   "execution_count": 10,
   "metadata": {},
   "outputs": [
    {
     "data": {
      "text/plain": [
       "112"
      ]
     },
     "execution_count": 10,
     "metadata": {},
     "output_type": "execute_result"
    }
   ],
   "source": [
    "#Define a random integer for the Poisson distrubution lamda value for calls for a ambulance emergency call. \n",
    "#The random integer number is anywhere in the range of 35 to 270 calls per hour, this is a random range choosen.\n",
    "\n",
    "ambulance_randomint = np.random.randint(35,270)\n",
    "ambulance_randomint\n",
    "\n",
    "#Reference: https://docs.scipy.org/doc/numpy-1.15.1/reference/generated/numpy.random.randint.html"
   ]
  },
  {
   "cell_type": "markdown",
   "metadata": {},
   "source": [
    "Construct the **ecas_ambulance** dataframe using the **period** variable and label this column datetime. This dataframe will have the same number of rows as the period variable. The next line of code adds the **ambulance** column on to the new dataframe **ecas_ambulance** using a Numpy **random.poisson** function in Python. The resulting pandas dataframe has two columns, **datetime** and **ambulance**."
   ]
  },
  {
   "cell_type": "code",
   "execution_count": 11,
   "metadata": {},
   "outputs": [
    {
     "data": {
      "text/html": [
       "<div>\n",
       "<style scoped>\n",
       "    .dataframe tbody tr th:only-of-type {\n",
       "        vertical-align: middle;\n",
       "    }\n",
       "\n",
       "    .dataframe tbody tr th {\n",
       "        vertical-align: top;\n",
       "    }\n",
       "\n",
       "    .dataframe thead th {\n",
       "        text-align: right;\n",
       "    }\n",
       "</style>\n",
       "<table border=\"1\" class=\"dataframe\">\n",
       "  <thead>\n",
       "    <tr style=\"text-align: right;\">\n",
       "      <th></th>\n",
       "      <th>datetime</th>\n",
       "      <th>ambulance</th>\n",
       "    </tr>\n",
       "  </thead>\n",
       "  <tbody>\n",
       "    <tr>\n",
       "      <th>0</th>\n",
       "      <td>2017-01-01 00:00:00</td>\n",
       "      <td>105</td>\n",
       "    </tr>\n",
       "    <tr>\n",
       "      <th>1</th>\n",
       "      <td>2017-01-01 01:00:00</td>\n",
       "      <td>90</td>\n",
       "    </tr>\n",
       "    <tr>\n",
       "      <th>2</th>\n",
       "      <td>2017-01-01 02:00:00</td>\n",
       "      <td>117</td>\n",
       "    </tr>\n",
       "    <tr>\n",
       "      <th>3</th>\n",
       "      <td>2017-01-01 03:00:00</td>\n",
       "      <td>99</td>\n",
       "    </tr>\n",
       "    <tr>\n",
       "      <th>4</th>\n",
       "      <td>2017-01-01 04:00:00</td>\n",
       "      <td>101</td>\n",
       "    </tr>\n",
       "  </tbody>\n",
       "</table>\n",
       "</div>"
      ],
      "text/plain": [
       "             datetime  ambulance\n",
       "0 2017-01-01 00:00:00        105\n",
       "1 2017-01-01 01:00:00         90\n",
       "2 2017-01-01 02:00:00        117\n",
       "3 2017-01-01 03:00:00         99\n",
       "4 2017-01-01 04:00:00        101"
      ]
     },
     "execution_count": 11,
     "metadata": {},
     "output_type": "execute_result"
    }
   ],
   "source": [
    "#ecas_ambulance pandas Dataframe is constructed first with the period to produce a timeseries column of type timeseries labeling it 'datetime'\n",
    "#The datetime column is not an index to the dataframe and therefore can be in either the x or y axis of the plots.\n",
    "#The column fire is added on to the new dataframe using Numpy random.poisson distrbution function.\n",
    "#The first 5 rows of the new dataframe is printed out.\n",
    "\n",
    "ecas_ambulance = pd.DataFrame(period, columns=['datetime'])\n",
    "ecas_ambulance['ambulance'] = np.random.poisson(ambulance_randomint, len(period))\n",
    "ecas_ambulance.head()\n",
    "\n",
    "#Reference: \n",
    "#https://web.microsoftstream.com/video/db8801fe-9e42-4663-a508-5d6f38bb7327\n",
    "#https://docs.scipy.org/doc/numpy-1.15.1/reference/generated/numpy.random.poisson.html\n",
    "#https://www.dataquest.io/blog/tutorial-time-series-analysis-with-pandas/"
   ]
  },
  {
   "cell_type": "code",
   "execution_count": 12,
   "metadata": {},
   "outputs": [
    {
     "data": {
      "text/plain": [
       "datetime     datetime64[ns]\n",
       "ambulance             int32\n",
       "dtype: object"
      ]
     },
     "execution_count": 12,
     "metadata": {},
     "output_type": "execute_result"
    }
   ],
   "source": [
    "#This command verifies the data types in the ecas_ambulance dataframe. \n",
    "#The result is a datetime64 columns and a 32 bit integer column\n",
    "\n",
    "ecas_ambulance.dtypes\n",
    "\n",
    "#References:https://docs.scipy.org/doc/numpy-1.15.0/reference/arrays.datetime.html"
   ]
  },
  {
   "cell_type": "markdown",
   "metadata": {},
   "source": [
    "### Defining ecas_coast_guard dataframe\n",
    "\n",
    "The ecas_coast_guard pandas dataframe is defined to capture coast_guard emergency calls to the ECAS call centre for the period defined in the previous section, the ecas_coast_guard dataframe consists of the datetime column and a Numpy random.poisson distribution for emergency calls for the fire service, the poisson distrbution's $\\lambda$ is also a random integer.\n",
    "\n",
    "Defining the ecas_coast_guard dataframe consists of two steps.\n",
    "\n",
    "1. Define the poisson distrbution's $\\lambda$ as a random integer\n",
    "2. Define the calls column as a Numpy **random.poisson** distrbution of the entire time period.\n",
    "\n",
    "References:https://www.calvin.edu/~rpruim/courses/s341/S17/from-class/MathinRmd.html"
   ]
  },
  {
   "cell_type": "code",
   "execution_count": 13,
   "metadata": {},
   "outputs": [
    {
     "data": {
      "text/plain": [
       "179"
      ]
     },
     "execution_count": 13,
     "metadata": {},
     "output_type": "execute_result"
    }
   ],
   "source": [
    "#Define a random integer for the Poisson distribution lamda value for calls for a coast_guard emergency call.\n",
    "#The random integer number is anywhere in the range of 30 to 265 calls per hour, this is a random range choosen.\n",
    "\n",
    "coast_guard_randomint = np.random.randint(30, 265)\n",
    "coast_guard_randomint\n",
    "\n",
    "#Reference: https://docs.scipy.org/doc/numpy-1.15.1/reference/generated/numpy.random.randint.html"
   ]
  },
  {
   "cell_type": "markdown",
   "metadata": {},
   "source": [
    "Construct the **ecas_coast_guard** dataframe using the **period** variable and label this column datetime. This dataframe will have the same number of rows as the period variable. The next line of code adds the **coast_guard** column on to the new dataframe **ecas_coast_guard** using a Numpy **random.poisson** function in Python. The resulting pandas dataframe has two columns, **datetime** and **coast_guard**."
   ]
  },
  {
   "cell_type": "code",
   "execution_count": 14,
   "metadata": {},
   "outputs": [
    {
     "data": {
      "text/html": [
       "<div>\n",
       "<style scoped>\n",
       "    .dataframe tbody tr th:only-of-type {\n",
       "        vertical-align: middle;\n",
       "    }\n",
       "\n",
       "    .dataframe tbody tr th {\n",
       "        vertical-align: top;\n",
       "    }\n",
       "\n",
       "    .dataframe thead th {\n",
       "        text-align: right;\n",
       "    }\n",
       "</style>\n",
       "<table border=\"1\" class=\"dataframe\">\n",
       "  <thead>\n",
       "    <tr style=\"text-align: right;\">\n",
       "      <th></th>\n",
       "      <th>datetime</th>\n",
       "      <th>coast_guard</th>\n",
       "    </tr>\n",
       "  </thead>\n",
       "  <tbody>\n",
       "    <tr>\n",
       "      <th>0</th>\n",
       "      <td>2017-01-01 00:00:00</td>\n",
       "      <td>172</td>\n",
       "    </tr>\n",
       "    <tr>\n",
       "      <th>1</th>\n",
       "      <td>2017-01-01 01:00:00</td>\n",
       "      <td>186</td>\n",
       "    </tr>\n",
       "    <tr>\n",
       "      <th>2</th>\n",
       "      <td>2017-01-01 02:00:00</td>\n",
       "      <td>188</td>\n",
       "    </tr>\n",
       "    <tr>\n",
       "      <th>3</th>\n",
       "      <td>2017-01-01 03:00:00</td>\n",
       "      <td>167</td>\n",
       "    </tr>\n",
       "    <tr>\n",
       "      <th>4</th>\n",
       "      <td>2017-01-01 04:00:00</td>\n",
       "      <td>185</td>\n",
       "    </tr>\n",
       "  </tbody>\n",
       "</table>\n",
       "</div>"
      ],
      "text/plain": [
       "             datetime  coast_guard\n",
       "0 2017-01-01 00:00:00          172\n",
       "1 2017-01-01 01:00:00          186\n",
       "2 2017-01-01 02:00:00          188\n",
       "3 2017-01-01 03:00:00          167\n",
       "4 2017-01-01 04:00:00          185"
      ]
     },
     "execution_count": 14,
     "metadata": {},
     "output_type": "execute_result"
    }
   ],
   "source": [
    "#ecas_coast_guard pandas Dataframe is constructed first with the period to produce a timeseries column of type timeseries labeling it 'datetime'\n",
    "#The datetime column is not an index to the dataframe and therefore can be in either the x or y axis of the plots.\n",
    "#The column fire is added on to the new dataframe using Numpy random.poisson distrbution function.\n",
    "#The first 5 rows of the new dataframe is printed out.\n",
    "\n",
    "ecas_coast_guard = pd.DataFrame(period, columns=['datetime'])\n",
    "ecas_coast_guard['coast_guard'] = np.random.poisson(coast_guard_randomint, len(period))\n",
    "ecas_coast_guard.head()\n",
    "\n",
    "#Reference: \n",
    "#https://web.microsoftstream.com/video/db8801fe-9e42-4663-a508-5d6f38bb7327\n",
    "#https://docs.scipy.org/doc/numpy-1.15.1/reference/generated/numpy.random.poisson.html\n",
    "#https://www.dataquest.io/blog/tutorial-time-series-analysis-with-pandas/"
   ]
  },
  {
   "cell_type": "code",
   "execution_count": 15,
   "metadata": {},
   "outputs": [
    {
     "data": {
      "text/plain": [
       "datetime       datetime64[ns]\n",
       "coast_guard             int32\n",
       "dtype: object"
      ]
     },
     "execution_count": 15,
     "metadata": {},
     "output_type": "execute_result"
    }
   ],
   "source": [
    "#This command verifies the data types in the ecas_coast_guard dataframe. \n",
    "#The result is a datetime64 columns and a 32 bit integer column\n",
    "\n",
    "ecas_coast_guard.dtypes\n",
    "\n",
    "#References:https://docs.scipy.org/doc/numpy-1.15.0/reference/arrays.datetime.html"
   ]
  },
  {
   "cell_type": "code",
   "execution_count": null,
   "metadata": {},
   "outputs": [],
   "source": []
  },
  {
   "cell_type": "code",
   "execution_count": null,
   "metadata": {},
   "outputs": [],
   "source": []
  },
  {
   "cell_type": "markdown",
   "metadata": {},
   "source": [
    "### Joining the dataframes together to make ecas dataframe\n",
    "\n",
    "We now have the following four dataframes for calls to each of the respective emergency service\n",
    "\n",
    "1. ecas_garda\n",
    "2. ecas_fire\n",
    "3. ecas_ambulance\n",
    "4. ecas_coast_guard\n",
    "\n",
    "Each of the dataframes above have the same **datetime** column. We will extract the calls column values from each dataframe and use them to define a new dataframe **ecas** and add a total_calls column to sum all calls to the ECAS call centre for the period defined. We can also still reference the individual dataframes to analyse each emergency calls category separately."
   ]
  },
  {
   "cell_type": "markdown",
   "metadata": {},
   "source": [
    "The first step in joining the pandas dataframes is to define a new dataframe ecas, then add the column values to the new dataframe. The ecas_garda dataframe is used to define the initial dataframe, note any of the four dataframe could have been used."
   ]
  },
  {
   "cell_type": "code",
   "execution_count": 16,
   "metadata": {},
   "outputs": [
    {
     "data": {
      "text/html": [
       "<div>\n",
       "<style scoped>\n",
       "    .dataframe tbody tr th:only-of-type {\n",
       "        vertical-align: middle;\n",
       "    }\n",
       "\n",
       "    .dataframe tbody tr th {\n",
       "        vertical-align: top;\n",
       "    }\n",
       "\n",
       "    .dataframe thead th {\n",
       "        text-align: right;\n",
       "    }\n",
       "</style>\n",
       "<table border=\"1\" class=\"dataframe\">\n",
       "  <thead>\n",
       "    <tr style=\"text-align: right;\">\n",
       "      <th></th>\n",
       "      <th>datetime</th>\n",
       "      <th>garda</th>\n",
       "    </tr>\n",
       "  </thead>\n",
       "  <tbody>\n",
       "    <tr>\n",
       "      <th>0</th>\n",
       "      <td>2017-01-01 00:00:00</td>\n",
       "      <td>94</td>\n",
       "    </tr>\n",
       "    <tr>\n",
       "      <th>1</th>\n",
       "      <td>2017-01-01 01:00:00</td>\n",
       "      <td>102</td>\n",
       "    </tr>\n",
       "    <tr>\n",
       "      <th>2</th>\n",
       "      <td>2017-01-01 02:00:00</td>\n",
       "      <td>100</td>\n",
       "    </tr>\n",
       "    <tr>\n",
       "      <th>3</th>\n",
       "      <td>2017-01-01 03:00:00</td>\n",
       "      <td>87</td>\n",
       "    </tr>\n",
       "    <tr>\n",
       "      <th>4</th>\n",
       "      <td>2017-01-01 04:00:00</td>\n",
       "      <td>89</td>\n",
       "    </tr>\n",
       "  </tbody>\n",
       "</table>\n",
       "</div>"
      ],
      "text/plain": [
       "             datetime  garda\n",
       "0 2017-01-01 00:00:00     94\n",
       "1 2017-01-01 01:00:00    102\n",
       "2 2017-01-01 02:00:00    100\n",
       "3 2017-01-01 03:00:00     87\n",
       "4 2017-01-01 04:00:00     89"
      ]
     },
     "execution_count": 16,
     "metadata": {},
     "output_type": "execute_result"
    }
   ],
   "source": [
    "#Define the new dataframe to equal ecas_garda dataframe\n",
    "\n",
    "ecas = ecas_garda\n",
    "\n",
    "#Print the first 5 rows of the new ecas dataframe\n",
    "ecas.head()\n"
   ]
  },
  {
   "cell_type": "markdown",
   "metadata": {},
   "source": [
    "The next few commands display the values in the columns that we want to add to the new pandas dataframe **ecas**."
   ]
  },
  {
   "cell_type": "code",
   "execution_count": 17,
   "metadata": {},
   "outputs": [
    {
     "data": {
      "text/plain": [
       "array([60, 59, 67, 53, 50, 50, 50, 62, 61, 63, 62, 70, 62, 51, 60, 53, 53,\n",
       "       60, 50, 70, 77, 43, 60, 51, 59, 58, 51, 49, 64, 57, 50, 63, 48, 52,\n",
       "       55, 61, 56, 62, 53, 50, 45, 56, 57, 57, 49, 64, 50, 63, 54, 45, 44,\n",
       "       69, 54, 62, 56, 61, 60, 54, 59, 55, 56, 63, 48, 59, 56, 43, 57, 56,\n",
       "       60, 66, 79, 61, 61, 45, 56, 57, 52, 60, 59, 59, 77, 58, 49, 47, 61,\n",
       "       58, 50, 54, 60, 59, 66, 61, 62, 61, 59, 48, 57, 77, 48, 62, 61, 49,\n",
       "       48, 55, 64, 43, 44, 53, 65, 59, 65, 63, 48, 55, 60, 64, 56, 60, 56,\n",
       "       63, 40, 63, 62, 64, 72, 58, 54, 63, 66, 59, 64, 77, 49, 54, 52, 54,\n",
       "       57, 58, 43, 54, 51, 49, 66, 45, 50])"
      ]
     },
     "execution_count": 17,
     "metadata": {},
     "output_type": "execute_result"
    }
   ],
   "source": [
    "# Creating an array of values from the Dataframe ecas_fire\n",
    "# Reference: https://stackoverflow.com/questions/46396257/adding-a-new-column-in-pandas-dataframe-from-another-dataframe-with-differing-in\n",
    "\n",
    "ecas_fire['fire'].values"
   ]
  },
  {
   "cell_type": "code",
   "execution_count": 18,
   "metadata": {},
   "outputs": [
    {
     "data": {
      "text/plain": [
       "array([105,  90, 117,  99, 101, 109, 108, 128, 114, 122,  98, 109, 108,\n",
       "       111, 111, 100, 128, 114, 127,  92, 109, 114, 111, 112, 115, 129,\n",
       "       101, 128, 128, 107, 109, 101, 107, 101, 106, 109, 113, 101, 122,\n",
       "        93, 117, 113, 115,  95, 116, 119,  77, 120, 113, 106,  96, 125,\n",
       "       108, 105, 121, 132, 117, 107, 102, 137, 110, 102, 120, 106, 123,\n",
       "       112, 100, 115, 107, 122,  97, 100, 114, 116, 110, 101, 130, 119,\n",
       "       108, 114, 122, 116, 137, 110, 104, 100, 120, 106, 114, 113, 136,\n",
       "       120, 115, 109, 107, 110, 109, 115, 114,  96, 116, 139, 122, 109,\n",
       "       117, 124, 120, 110, 122, 105, 119, 119, 112, 116, 127, 101,  98,\n",
       "       113, 104, 120, 110, 111, 116, 103, 113, 114, 116, 114, 112, 110,\n",
       "       102, 107, 106, 121, 114, 102, 126, 106,  96, 124, 105, 110, 122,\n",
       "        99,  91])"
      ]
     },
     "execution_count": 18,
     "metadata": {},
     "output_type": "execute_result"
    }
   ],
   "source": [
    "# Creating an array of values from the Dataframe ecas_ambulance\n",
    "# Reference: https://stackoverflow.com/questions/46396257/adding-a-new-column-in-pandas-dataframe-from-another-dataframe-with-differing-in\n",
    "\n",
    "ecas_ambulance['ambulance'].values"
   ]
  },
  {
   "cell_type": "code",
   "execution_count": 19,
   "metadata": {},
   "outputs": [
    {
     "data": {
      "text/plain": [
       "array([172, 186, 188, 167, 185, 182, 206, 182, 190, 167, 190, 180, 205,\n",
       "       174, 179, 188, 182, 207, 181, 171, 177, 179, 178, 200, 195, 172,\n",
       "       179, 181, 196, 200, 165, 189, 202, 165, 188, 183, 190, 174, 163,\n",
       "       172, 164, 190, 189, 169, 198, 179, 186, 193, 190, 176, 187, 204,\n",
       "       169, 179, 170, 186, 159, 188, 175, 167, 178, 170, 179, 184, 182,\n",
       "       172, 186, 175, 181, 175, 175, 200, 171, 183, 186, 166, 162, 174,\n",
       "       170, 165, 183, 183, 211, 186, 180, 167, 160, 171, 186, 190, 209,\n",
       "       150, 149, 185, 176, 185, 197, 160, 169, 174, 172, 159, 198, 189,\n",
       "       166, 138, 160, 191, 153, 161, 174, 189, 174, 165, 175, 176, 180,\n",
       "       173, 177, 183, 168, 172, 165, 152, 171, 187, 186, 185, 173, 177,\n",
       "       167, 180, 184, 160, 190, 172, 184, 174, 182, 189, 162, 168, 177,\n",
       "       196, 161])"
      ]
     },
     "execution_count": 19,
     "metadata": {},
     "output_type": "execute_result"
    }
   ],
   "source": [
    "# Creating an array of values from the Dataframe ecas_coast_guard\n",
    "# Reference: https://stackoverflow.com/questions/46396257/adding-a-new-column-in-pandas-dataframe-from-another-dataframe-with-differing-in\n",
    "ecas_coast_guard['coast_guard'].values"
   ]
  },
  {
   "cell_type": "markdown",
   "metadata": {},
   "source": [
    "The next few commands below add in the extracted column values as a new column to the new dataframe **ecas**"
   ]
  },
  {
   "cell_type": "code",
   "execution_count": 20,
   "metadata": {},
   "outputs": [
    {
     "data": {
      "text/html": [
       "<div>\n",
       "<style scoped>\n",
       "    .dataframe tbody tr th:only-of-type {\n",
       "        vertical-align: middle;\n",
       "    }\n",
       "\n",
       "    .dataframe tbody tr th {\n",
       "        vertical-align: top;\n",
       "    }\n",
       "\n",
       "    .dataframe thead th {\n",
       "        text-align: right;\n",
       "    }\n",
       "</style>\n",
       "<table border=\"1\" class=\"dataframe\">\n",
       "  <thead>\n",
       "    <tr style=\"text-align: right;\">\n",
       "      <th></th>\n",
       "      <th>datetime</th>\n",
       "      <th>garda</th>\n",
       "      <th>fire</th>\n",
       "    </tr>\n",
       "  </thead>\n",
       "  <tbody>\n",
       "    <tr>\n",
       "      <th>0</th>\n",
       "      <td>2017-01-01 00:00:00</td>\n",
       "      <td>94</td>\n",
       "      <td>60</td>\n",
       "    </tr>\n",
       "    <tr>\n",
       "      <th>1</th>\n",
       "      <td>2017-01-01 01:00:00</td>\n",
       "      <td>102</td>\n",
       "      <td>59</td>\n",
       "    </tr>\n",
       "    <tr>\n",
       "      <th>2</th>\n",
       "      <td>2017-01-01 02:00:00</td>\n",
       "      <td>100</td>\n",
       "      <td>67</td>\n",
       "    </tr>\n",
       "    <tr>\n",
       "      <th>3</th>\n",
       "      <td>2017-01-01 03:00:00</td>\n",
       "      <td>87</td>\n",
       "      <td>53</td>\n",
       "    </tr>\n",
       "    <tr>\n",
       "      <th>4</th>\n",
       "      <td>2017-01-01 04:00:00</td>\n",
       "      <td>89</td>\n",
       "      <td>50</td>\n",
       "    </tr>\n",
       "  </tbody>\n",
       "</table>\n",
       "</div>"
      ],
      "text/plain": [
       "             datetime  garda  fire\n",
       "0 2017-01-01 00:00:00     94    60\n",
       "1 2017-01-01 01:00:00    102    59\n",
       "2 2017-01-01 02:00:00    100    67\n",
       "3 2017-01-01 03:00:00     87    53\n",
       "4 2017-01-01 04:00:00     89    50"
      ]
     },
     "execution_count": 20,
     "metadata": {},
     "output_type": "execute_result"
    }
   ],
   "source": [
    "# The command below adds the fire column values from the ecas_fire dataframe to the ecas dataframe and labels it fire\n",
    "# Reference: https://stackoverflow.com/questions/46396257/adding-a-new-column-in-pandas-dataframe-from-another-dataframe-with-differing-in\n",
    "\n",
    "ecas['fire'] = ecas_fire['fire'].values\n",
    "\n",
    "#The new dataframe is printed\n",
    "ecas.head()"
   ]
  },
  {
   "cell_type": "code",
   "execution_count": 21,
   "metadata": {},
   "outputs": [
    {
     "data": {
      "text/html": [
       "<div>\n",
       "<style scoped>\n",
       "    .dataframe tbody tr th:only-of-type {\n",
       "        vertical-align: middle;\n",
       "    }\n",
       "\n",
       "    .dataframe tbody tr th {\n",
       "        vertical-align: top;\n",
       "    }\n",
       "\n",
       "    .dataframe thead th {\n",
       "        text-align: right;\n",
       "    }\n",
       "</style>\n",
       "<table border=\"1\" class=\"dataframe\">\n",
       "  <thead>\n",
       "    <tr style=\"text-align: right;\">\n",
       "      <th></th>\n",
       "      <th>datetime</th>\n",
       "      <th>garda</th>\n",
       "      <th>fire</th>\n",
       "      <th>ambulance</th>\n",
       "    </tr>\n",
       "  </thead>\n",
       "  <tbody>\n",
       "    <tr>\n",
       "      <th>0</th>\n",
       "      <td>2017-01-01 00:00:00</td>\n",
       "      <td>94</td>\n",
       "      <td>60</td>\n",
       "      <td>105</td>\n",
       "    </tr>\n",
       "    <tr>\n",
       "      <th>1</th>\n",
       "      <td>2017-01-01 01:00:00</td>\n",
       "      <td>102</td>\n",
       "      <td>59</td>\n",
       "      <td>90</td>\n",
       "    </tr>\n",
       "    <tr>\n",
       "      <th>2</th>\n",
       "      <td>2017-01-01 02:00:00</td>\n",
       "      <td>100</td>\n",
       "      <td>67</td>\n",
       "      <td>117</td>\n",
       "    </tr>\n",
       "    <tr>\n",
       "      <th>3</th>\n",
       "      <td>2017-01-01 03:00:00</td>\n",
       "      <td>87</td>\n",
       "      <td>53</td>\n",
       "      <td>99</td>\n",
       "    </tr>\n",
       "    <tr>\n",
       "      <th>4</th>\n",
       "      <td>2017-01-01 04:00:00</td>\n",
       "      <td>89</td>\n",
       "      <td>50</td>\n",
       "      <td>101</td>\n",
       "    </tr>\n",
       "  </tbody>\n",
       "</table>\n",
       "</div>"
      ],
      "text/plain": [
       "             datetime  garda  fire  ambulance\n",
       "0 2017-01-01 00:00:00     94    60        105\n",
       "1 2017-01-01 01:00:00    102    59         90\n",
       "2 2017-01-01 02:00:00    100    67        117\n",
       "3 2017-01-01 03:00:00     87    53         99\n",
       "4 2017-01-01 04:00:00     89    50        101"
      ]
     },
     "execution_count": 21,
     "metadata": {},
     "output_type": "execute_result"
    }
   ],
   "source": [
    "# The command below adds the ambulance column values from the ecas_ambulance dataframe to the ecas dataframe and labels it ambulance\n",
    "# Reference: https://stackoverflow.com/questions/46396257/adding-a-new-column-in-pandas-dataframe-from-another-dataframe-with-differing-in\n",
    "\n",
    "ecas['ambulance'] = ecas_ambulance['ambulance'].values\n",
    "\n",
    "#The new dataframe is printed\n",
    "ecas.head()"
   ]
  },
  {
   "cell_type": "code",
   "execution_count": 22,
   "metadata": {},
   "outputs": [
    {
     "data": {
      "text/html": [
       "<div>\n",
       "<style scoped>\n",
       "    .dataframe tbody tr th:only-of-type {\n",
       "        vertical-align: middle;\n",
       "    }\n",
       "\n",
       "    .dataframe tbody tr th {\n",
       "        vertical-align: top;\n",
       "    }\n",
       "\n",
       "    .dataframe thead th {\n",
       "        text-align: right;\n",
       "    }\n",
       "</style>\n",
       "<table border=\"1\" class=\"dataframe\">\n",
       "  <thead>\n",
       "    <tr style=\"text-align: right;\">\n",
       "      <th></th>\n",
       "      <th>datetime</th>\n",
       "      <th>garda</th>\n",
       "      <th>fire</th>\n",
       "      <th>ambulance</th>\n",
       "      <th>coast_guard</th>\n",
       "    </tr>\n",
       "  </thead>\n",
       "  <tbody>\n",
       "    <tr>\n",
       "      <th>0</th>\n",
       "      <td>2017-01-01 00:00:00</td>\n",
       "      <td>94</td>\n",
       "      <td>60</td>\n",
       "      <td>105</td>\n",
       "      <td>172</td>\n",
       "    </tr>\n",
       "    <tr>\n",
       "      <th>1</th>\n",
       "      <td>2017-01-01 01:00:00</td>\n",
       "      <td>102</td>\n",
       "      <td>59</td>\n",
       "      <td>90</td>\n",
       "      <td>186</td>\n",
       "    </tr>\n",
       "    <tr>\n",
       "      <th>2</th>\n",
       "      <td>2017-01-01 02:00:00</td>\n",
       "      <td>100</td>\n",
       "      <td>67</td>\n",
       "      <td>117</td>\n",
       "      <td>188</td>\n",
       "    </tr>\n",
       "    <tr>\n",
       "      <th>3</th>\n",
       "      <td>2017-01-01 03:00:00</td>\n",
       "      <td>87</td>\n",
       "      <td>53</td>\n",
       "      <td>99</td>\n",
       "      <td>167</td>\n",
       "    </tr>\n",
       "    <tr>\n",
       "      <th>4</th>\n",
       "      <td>2017-01-01 04:00:00</td>\n",
       "      <td>89</td>\n",
       "      <td>50</td>\n",
       "      <td>101</td>\n",
       "      <td>185</td>\n",
       "    </tr>\n",
       "  </tbody>\n",
       "</table>\n",
       "</div>"
      ],
      "text/plain": [
       "             datetime  garda  fire  ambulance  coast_guard\n",
       "0 2017-01-01 00:00:00     94    60        105          172\n",
       "1 2017-01-01 01:00:00    102    59         90          186\n",
       "2 2017-01-01 02:00:00    100    67        117          188\n",
       "3 2017-01-01 03:00:00     87    53         99          167\n",
       "4 2017-01-01 04:00:00     89    50        101          185"
      ]
     },
     "execution_count": 22,
     "metadata": {},
     "output_type": "execute_result"
    }
   ],
   "source": [
    "# The command below adds the coast_guard column values from the ecas_coast_guard dataframe to the ecas dataframe and labels it coiast_guard\n",
    "# Reference: https://stackoverflow.com/questions/46396257/adding-a-new-column-in-pandas-dataframe-from-another-dataframe-with-differing-in\n",
    "\n",
    "ecas['coast_guard'] = ecas_coast_guard['coast_guard'].values\n",
    "\n",
    "#The new dataframe is printed\n",
    "ecas.head()"
   ]
  },
  {
   "cell_type": "markdown",
   "metadata": {},
   "source": [
    "The column **total_calls** is defined as the sum of all the columns values for each hourly period. The columns summed to give **total_calls** are **garda**, **fire**, **ambulance**, and **coast_guard** "
   ]
  },
  {
   "cell_type": "code",
   "execution_count": 23,
   "metadata": {
    "scrolled": true
   },
   "outputs": [
    {
     "data": {
      "text/html": [
       "<div>\n",
       "<style scoped>\n",
       "    .dataframe tbody tr th:only-of-type {\n",
       "        vertical-align: middle;\n",
       "    }\n",
       "\n",
       "    .dataframe tbody tr th {\n",
       "        vertical-align: top;\n",
       "    }\n",
       "\n",
       "    .dataframe thead th {\n",
       "        text-align: right;\n",
       "    }\n",
       "</style>\n",
       "<table border=\"1\" class=\"dataframe\">\n",
       "  <thead>\n",
       "    <tr style=\"text-align: right;\">\n",
       "      <th></th>\n",
       "      <th>datetime</th>\n",
       "      <th>garda</th>\n",
       "      <th>fire</th>\n",
       "      <th>ambulance</th>\n",
       "      <th>coast_guard</th>\n",
       "      <th>total_calls</th>\n",
       "    </tr>\n",
       "  </thead>\n",
       "  <tbody>\n",
       "    <tr>\n",
       "      <th>0</th>\n",
       "      <td>2017-01-01 00:00:00</td>\n",
       "      <td>94</td>\n",
       "      <td>60</td>\n",
       "      <td>105</td>\n",
       "      <td>172</td>\n",
       "      <td>431</td>\n",
       "    </tr>\n",
       "    <tr>\n",
       "      <th>1</th>\n",
       "      <td>2017-01-01 01:00:00</td>\n",
       "      <td>102</td>\n",
       "      <td>59</td>\n",
       "      <td>90</td>\n",
       "      <td>186</td>\n",
       "      <td>437</td>\n",
       "    </tr>\n",
       "    <tr>\n",
       "      <th>2</th>\n",
       "      <td>2017-01-01 02:00:00</td>\n",
       "      <td>100</td>\n",
       "      <td>67</td>\n",
       "      <td>117</td>\n",
       "      <td>188</td>\n",
       "      <td>472</td>\n",
       "    </tr>\n",
       "    <tr>\n",
       "      <th>3</th>\n",
       "      <td>2017-01-01 03:00:00</td>\n",
       "      <td>87</td>\n",
       "      <td>53</td>\n",
       "      <td>99</td>\n",
       "      <td>167</td>\n",
       "      <td>406</td>\n",
       "    </tr>\n",
       "    <tr>\n",
       "      <th>4</th>\n",
       "      <td>2017-01-01 04:00:00</td>\n",
       "      <td>89</td>\n",
       "      <td>50</td>\n",
       "      <td>101</td>\n",
       "      <td>185</td>\n",
       "      <td>425</td>\n",
       "    </tr>\n",
       "  </tbody>\n",
       "</table>\n",
       "</div>"
      ],
      "text/plain": [
       "             datetime  garda  fire  ambulance  coast_guard  total_calls\n",
       "0 2017-01-01 00:00:00     94    60        105          172          431\n",
       "1 2017-01-01 01:00:00    102    59         90          186          437\n",
       "2 2017-01-01 02:00:00    100    67        117          188          472\n",
       "3 2017-01-01 03:00:00     87    53         99          167          406\n",
       "4 2017-01-01 04:00:00     89    50        101          185          425"
      ]
     },
     "execution_count": 23,
     "metadata": {},
     "output_type": "execute_result"
    }
   ],
   "source": [
    "# Sum columns garda, fire, ambulance, coast_guard to give a new column total_calls\n",
    "# Reference: https://stackoverflow.com/questions/34023918/make-new-column-in-panda-dataframe-by-adding-values-from-other-columns/34023971\n",
    "\n",
    "ecas['total_calls'] = ecas['garda'] + ecas['fire'] + ecas['ambulance'] + ecas['coast_guard']\n",
    "\n",
    "#The first 5 rows of the new dataframe ecas is printed\n",
    "ecas.head()"
   ]
  },
  {
   "cell_type": "code",
   "execution_count": 24,
   "metadata": {},
   "outputs": [
    {
     "data": {
      "text/plain": [
       "64695"
      ]
     },
     "execution_count": 24,
     "metadata": {},
     "output_type": "execute_result"
    }
   ],
   "source": [
    "ecas['total_calls'].sum()"
   ]
  },
  {
   "cell_type": "code",
   "execution_count": 25,
   "metadata": {},
   "outputs": [
    {
     "data": {
      "text/plain": [
       "datetime       datetime64[ns]\n",
       "garda                   int32\n",
       "fire                    int32\n",
       "ambulance               int32\n",
       "coast_guard             int32\n",
       "total_calls             int32\n",
       "dtype: object"
      ]
     },
     "execution_count": 25,
     "metadata": {},
     "output_type": "execute_result"
    }
   ],
   "source": [
    "ecas.dtypes"
   ]
  },
  {
   "cell_type": "markdown",
   "metadata": {},
   "source": [
    "### Average Call Duration\n",
    "\n",
    "The average ECAS call duration is 7.57 in 2017 according to the Department of environment website below.\n",
    "\n",
    "In this section we will build this in to out model to simulate how many agents need to be available so that no call is queued. \n",
    "\n",
    "There is another variables added to the ecas dataframe\n",
    "\n",
    "1. total_avg_talk_time\n",
    "2. agents_required\n",
    "\n",
    "Reference: \n",
    "https://www.dccae.gov.ie/en-ie/news-and-media/press-releases/Pages/Minister-Denis-Naughten-Publishes-New-Figures-on-Ireland%E2%80%99s-Emergency-Call-Answering-Service.aspx"
   ]
  },
  {
   "cell_type": "code",
   "execution_count": 26,
   "metadata": {},
   "outputs": [
    {
     "data": {
      "text/html": [
       "<div>\n",
       "<style scoped>\n",
       "    .dataframe tbody tr th:only-of-type {\n",
       "        vertical-align: middle;\n",
       "    }\n",
       "\n",
       "    .dataframe tbody tr th {\n",
       "        vertical-align: top;\n",
       "    }\n",
       "\n",
       "    .dataframe thead th {\n",
       "        text-align: right;\n",
       "    }\n",
       "</style>\n",
       "<table border=\"1\" class=\"dataframe\">\n",
       "  <thead>\n",
       "    <tr style=\"text-align: right;\">\n",
       "      <th></th>\n",
       "      <th>garda</th>\n",
       "      <th>fire</th>\n",
       "      <th>ambulance</th>\n",
       "      <th>coast_guard</th>\n",
       "      <th>total_calls</th>\n",
       "    </tr>\n",
       "  </thead>\n",
       "  <tbody>\n",
       "    <tr>\n",
       "      <th>count</th>\n",
       "      <td>145.000000</td>\n",
       "      <td>145.000000</td>\n",
       "      <td>145.000000</td>\n",
       "      <td>145.000000</td>\n",
       "      <td>145.000000</td>\n",
       "    </tr>\n",
       "    <tr>\n",
       "      <th>mean</th>\n",
       "      <td>98.731034</td>\n",
       "      <td>57.110345</td>\n",
       "      <td>111.793103</td>\n",
       "      <td>178.537931</td>\n",
       "      <td>446.172414</td>\n",
       "    </tr>\n",
       "    <tr>\n",
       "      <th>std</th>\n",
       "      <td>10.700633</td>\n",
       "      <td>7.544421</td>\n",
       "      <td>10.288813</td>\n",
       "      <td>12.883571</td>\n",
       "      <td>21.662610</td>\n",
       "    </tr>\n",
       "    <tr>\n",
       "      <th>min</th>\n",
       "      <td>70.000000</td>\n",
       "      <td>40.000000</td>\n",
       "      <td>77.000000</td>\n",
       "      <td>138.000000</td>\n",
       "      <td>381.000000</td>\n",
       "    </tr>\n",
       "    <tr>\n",
       "      <th>25%</th>\n",
       "      <td>92.000000</td>\n",
       "      <td>51.000000</td>\n",
       "      <td>106.000000</td>\n",
       "      <td>170.000000</td>\n",
       "      <td>432.000000</td>\n",
       "    </tr>\n",
       "    <tr>\n",
       "      <th>50%</th>\n",
       "      <td>98.000000</td>\n",
       "      <td>57.000000</td>\n",
       "      <td>112.000000</td>\n",
       "      <td>179.000000</td>\n",
       "      <td>445.000000</td>\n",
       "    </tr>\n",
       "    <tr>\n",
       "      <th>75%</th>\n",
       "      <td>106.000000</td>\n",
       "      <td>62.000000</td>\n",
       "      <td>119.000000</td>\n",
       "      <td>186.000000</td>\n",
       "      <td>460.000000</td>\n",
       "    </tr>\n",
       "    <tr>\n",
       "      <th>max</th>\n",
       "      <td>126.000000</td>\n",
       "      <td>79.000000</td>\n",
       "      <td>139.000000</td>\n",
       "      <td>211.000000</td>\n",
       "      <td>505.000000</td>\n",
       "    </tr>\n",
       "  </tbody>\n",
       "</table>\n",
       "</div>"
      ],
      "text/plain": [
       "            garda        fire   ambulance  coast_guard  total_calls\n",
       "count  145.000000  145.000000  145.000000   145.000000   145.000000\n",
       "mean    98.731034   57.110345  111.793103   178.537931   446.172414\n",
       "std     10.700633    7.544421   10.288813    12.883571    21.662610\n",
       "min     70.000000   40.000000   77.000000   138.000000   381.000000\n",
       "25%     92.000000   51.000000  106.000000   170.000000   432.000000\n",
       "50%     98.000000   57.000000  112.000000   179.000000   445.000000\n",
       "75%    106.000000   62.000000  119.000000   186.000000   460.000000\n",
       "max    126.000000   79.000000  139.000000   211.000000   505.000000"
      ]
     },
     "execution_count": 26,
     "metadata": {},
     "output_type": "execute_result"
    }
   ],
   "source": [
    "ecas.describe()"
   ]
  },
  {
   "cell_type": "code",
   "execution_count": 27,
   "metadata": {},
   "outputs": [
    {
     "name": "stderr",
     "output_type": "stream",
     "text": [
      "C:\\Users\\User\\Anaconda3\\lib\\site-packages\\scipy\\stats\\stats.py:1713: FutureWarning: Using a non-tuple sequence for multidimensional indexing is deprecated; use `arr[tuple(seq)]` instead of `arr[seq]`. In the future this will be interpreted as an array index, `arr[np.array(seq)]`, which will result either in an error or a different result.\n",
      "  return np.add.reduce(sorted[indexer] * weights, axis=axis) / sumval\n"
     ]
    },
    {
     "data": {
      "text/plain": [
       "<matplotlib.legend.Legend at 0x3b9e487c88>"
      ]
     },
     "execution_count": 27,
     "metadata": {},
     "output_type": "execute_result"
    },
    {
     "data": {
      "image/png": "[encoded data removed]",
      "text/plain": [
       "<Figure size 720x720 with 1 Axes>"
      ]
     },
     "metadata": {
      "needs_background": "light"
     },
     "output_type": "display_data"
    }
   ],
   "source": [
    "#sns.distplot(ecas['total_calls'], hist=True, kde=False, label = 'Total Calls', color='yellow')\n",
    "plt.rcParams['figure.figsize'] = (10, 10)\n",
    "sns.distplot(ecas['garda'], hist=True, kde=False, label = 'garda' , color='blue')\n",
    "sns.distplot(ecas['fire'], hist=True, kde=False, label = 'fire' , color='red')\n",
    "sns.distplot(ecas['ambulance'], hist=True, kde=False, label = 'ambulance' , color='pink')\n",
    "sns.distplot(ecas['coast_guard'], hist=True, kde=False, label = 'coast_guard' , color='green')\n",
    "plt.legend()"
   ]
  },
  {
   "cell_type": "code",
   "execution_count": 28,
   "metadata": {},
   "outputs": [
    {
     "data": {
      "text/plain": [
       "<matplotlib.axes._subplots.AxesSubplot at 0x3b9e7112e8>"
      ]
     },
     "execution_count": 28,
     "metadata": {},
     "output_type": "execute_result"
    },
    {
     "data": {
      "image/png": "[encoded data removed]",
      "text/plain": [
       "<Figure size 720x720 with 1 Axes>"
      ]
     },
     "metadata": {
      "needs_background": "light"
     },
     "output_type": "display_data"
    }
   ],
   "source": [
    "plt.rcParams['figure.figsize'] = (10, 10)\n",
    "sns.lineplot(x=\"datetime\", y=\"garda\", data=ecas)"
   ]
  },
  {
   "cell_type": "code",
   "execution_count": 29,
   "metadata": {},
   "outputs": [
    {
     "data": {
      "text/plain": [
       "<matplotlib.axes._subplots.AxesSubplot at 0x3b9e49ebe0>"
      ]
     },
     "execution_count": 29,
     "metadata": {},
     "output_type": "execute_result"
    },
    {
     "data": {
      "image/png": "[encoded data removed]",
      "text/plain": [
       "<Figure size 720x720 with 1 Axes>"
      ]
     },
     "metadata": {
      "needs_background": "light"
     },
     "output_type": "display_data"
    }
   ],
   "source": [
    "plt.rcParams['figure.figsize'] = (10, 10)\n",
    "sns.lineplot(x=\"datetime\", y=\"total_calls\", data=ecas)\n"
   ]
  },
  {
   "cell_type": "markdown",
   "metadata": {},
   "source": []
  },
  {
   "cell_type": "markdown",
   "metadata": {},
   "source": [
    "### Add talk_time and agent_required\n",
    "\n",
    "The next section of code will add in talk_time and agents_required to the ecas dataframe."
   ]
  },
  {
   "cell_type": "code",
   "execution_count": 30,
   "metadata": {},
   "outputs": [
    {
     "data": {
      "text/html": [
       "<div>\n",
       "<style scoped>\n",
       "    .dataframe tbody tr th:only-of-type {\n",
       "        vertical-align: middle;\n",
       "    }\n",
       "\n",
       "    .dataframe tbody tr th {\n",
       "        vertical-align: top;\n",
       "    }\n",
       "\n",
       "    .dataframe thead th {\n",
       "        text-align: right;\n",
       "    }\n",
       "</style>\n",
       "<table border=\"1\" class=\"dataframe\">\n",
       "  <thead>\n",
       "    <tr style=\"text-align: right;\">\n",
       "      <th></th>\n",
       "      <th>datetime</th>\n",
       "      <th>garda</th>\n",
       "      <th>fire</th>\n",
       "      <th>ambulance</th>\n",
       "      <th>coast_guard</th>\n",
       "      <th>total_calls</th>\n",
       "      <th>total_avg_talk_time</th>\n",
       "    </tr>\n",
       "  </thead>\n",
       "  <tbody>\n",
       "    <tr>\n",
       "      <th>0</th>\n",
       "      <td>2017-01-01 00:00:00</td>\n",
       "      <td>94</td>\n",
       "      <td>60</td>\n",
       "      <td>105</td>\n",
       "      <td>172</td>\n",
       "      <td>431</td>\n",
       "      <td>3448</td>\n",
       "    </tr>\n",
       "    <tr>\n",
       "      <th>1</th>\n",
       "      <td>2017-01-01 01:00:00</td>\n",
       "      <td>102</td>\n",
       "      <td>59</td>\n",
       "      <td>90</td>\n",
       "      <td>186</td>\n",
       "      <td>437</td>\n",
       "      <td>3496</td>\n",
       "    </tr>\n",
       "    <tr>\n",
       "      <th>2</th>\n",
       "      <td>2017-01-01 02:00:00</td>\n",
       "      <td>100</td>\n",
       "      <td>67</td>\n",
       "      <td>117</td>\n",
       "      <td>188</td>\n",
       "      <td>472</td>\n",
       "      <td>3776</td>\n",
       "    </tr>\n",
       "    <tr>\n",
       "      <th>3</th>\n",
       "      <td>2017-01-01 03:00:00</td>\n",
       "      <td>87</td>\n",
       "      <td>53</td>\n",
       "      <td>99</td>\n",
       "      <td>167</td>\n",
       "      <td>406</td>\n",
       "      <td>3248</td>\n",
       "    </tr>\n",
       "    <tr>\n",
       "      <th>4</th>\n",
       "      <td>2017-01-01 04:00:00</td>\n",
       "      <td>89</td>\n",
       "      <td>50</td>\n",
       "      <td>101</td>\n",
       "      <td>185</td>\n",
       "      <td>425</td>\n",
       "      <td>3400</td>\n",
       "    </tr>\n",
       "  </tbody>\n",
       "</table>\n",
       "</div>"
      ],
      "text/plain": [
       "             datetime  garda  fire  ambulance  coast_guard  total_calls  \\\n",
       "0 2017-01-01 00:00:00     94    60        105          172          431   \n",
       "1 2017-01-01 01:00:00    102    59         90          186          437   \n",
       "2 2017-01-01 02:00:00    100    67        117          188          472   \n",
       "3 2017-01-01 03:00:00     87    53         99          167          406   \n",
       "4 2017-01-01 04:00:00     89    50        101          185          425   \n",
       "\n",
       "   total_avg_talk_time  \n",
       "0                 3448  \n",
       "1                 3496  \n",
       "2                 3776  \n",
       "3                 3248  \n",
       "4                 3400  "
      ]
     },
     "execution_count": 30,
     "metadata": {},
     "output_type": "execute_result"
    }
   ],
   "source": [
    "ecas['total_avg_talk_time'] = ecas['total_calls'] * 8\n",
    "ecas.head()"
   ]
  },
  {
   "cell_type": "code",
   "execution_count": 31,
   "metadata": {},
   "outputs": [
    {
     "data": {
      "text/html": [
       "<div>\n",
       "<style scoped>\n",
       "    .dataframe tbody tr th:only-of-type {\n",
       "        vertical-align: middle;\n",
       "    }\n",
       "\n",
       "    .dataframe tbody tr th {\n",
       "        vertical-align: top;\n",
       "    }\n",
       "\n",
       "    .dataframe thead th {\n",
       "        text-align: right;\n",
       "    }\n",
       "</style>\n",
       "<table border=\"1\" class=\"dataframe\">\n",
       "  <thead>\n",
       "    <tr style=\"text-align: right;\">\n",
       "      <th></th>\n",
       "      <th>datetime</th>\n",
       "      <th>garda</th>\n",
       "      <th>fire</th>\n",
       "      <th>ambulance</th>\n",
       "      <th>coast_guard</th>\n",
       "      <th>total_calls</th>\n",
       "      <th>total_avg_talk_time</th>\n",
       "    </tr>\n",
       "  </thead>\n",
       "  <tbody>\n",
       "  </tbody>\n",
       "</table>\n",
       "</div>"
      ],
      "text/plain": [
       "Empty DataFrame\n",
       "Columns: [datetime, garda, fire, ambulance, coast_guard, total_calls, total_avg_talk_time]\n",
       "Index: []"
      ]
     },
     "execution_count": 31,
     "metadata": {},
     "output_type": "execute_result"
    }
   ],
   "source": [
    "ecas_jan = ecas.loc['2018-01-01':'2018-01-31']\n",
    "ecas_jan.head()"
   ]
  },
  {
   "cell_type": "code",
   "execution_count": 32,
   "metadata": {},
   "outputs": [
    {
     "data": {
      "text/plain": [
       "0"
      ]
     },
     "execution_count": 32,
     "metadata": {},
     "output_type": "execute_result"
    }
   ],
   "source": [
    "ecas_jan['total_calls'].sum()"
   ]
  },
  {
   "cell_type": "code",
   "execution_count": 33,
   "metadata": {},
   "outputs": [
    {
     "data": {
      "text/html": [
       "<div>\n",
       "<style scoped>\n",
       "    .dataframe tbody tr th:only-of-type {\n",
       "        vertical-align: middle;\n",
       "    }\n",
       "\n",
       "    .dataframe tbody tr th {\n",
       "        vertical-align: top;\n",
       "    }\n",
       "\n",
       "    .dataframe thead th {\n",
       "        text-align: right;\n",
       "    }\n",
       "</style>\n",
       "<table border=\"1\" class=\"dataframe\">\n",
       "  <thead>\n",
       "    <tr style=\"text-align: right;\">\n",
       "      <th></th>\n",
       "      <th>datetime</th>\n",
       "      <th>garda</th>\n",
       "      <th>fire</th>\n",
       "      <th>ambulance</th>\n",
       "      <th>coast_guard</th>\n",
       "      <th>total_calls</th>\n",
       "      <th>total_avg_talk_time</th>\n",
       "    </tr>\n",
       "  </thead>\n",
       "  <tbody>\n",
       "  </tbody>\n",
       "</table>\n",
       "</div>"
      ],
      "text/plain": [
       "Empty DataFrame\n",
       "Columns: [datetime, garda, fire, ambulance, coast_guard, total_calls, total_avg_talk_time]\n",
       "Index: []"
      ]
     },
     "execution_count": 33,
     "metadata": {},
     "output_type": "execute_result"
    }
   ],
   "source": [
    "ecas_jan.head()"
   ]
  },
  {
   "cell_type": "code",
   "execution_count": 34,
   "metadata": {},
   "outputs": [
    {
     "ename": "AttributeError",
     "evalue": "'RangeIndex' object has no attribute 'month'",
     "output_type": "error",
     "traceback": [
      "\u001b[1;31m---------------------------------------------------------------------------\u001b[0m",
      "\u001b[1;31mAttributeError\u001b[0m                            Traceback (most recent call last)",
      "\u001b[1;32m<ipython-input-34-2b0eda6f6384>\u001b[0m in \u001b[0;36m<module>\u001b[1;34m\u001b[0m\n\u001b[1;32m----> 1\u001b[1;33m \u001b[0mecas\u001b[0m\u001b[1;33m[\u001b[0m\u001b[0mecas\u001b[0m\u001b[1;33m.\u001b[0m\u001b[0mindex\u001b[0m\u001b[1;33m.\u001b[0m\u001b[0mmonth\u001b[0m \u001b[1;33m==\u001b[0m \u001b[1;36m1\u001b[0m\u001b[1;33m]\u001b[0m\u001b[1;33m[\u001b[0m\u001b[1;34m'total_calls'\u001b[0m\u001b[1;33m]\u001b[0m\u001b[1;33m.\u001b[0m\u001b[0msum\u001b[0m\u001b[1;33m(\u001b[0m\u001b[1;33m)\u001b[0m\u001b[1;33m\u001b[0m\u001b[1;33m\u001b[0m\u001b[0m\n\u001b[0m",
      "\u001b[1;31mAttributeError\u001b[0m: 'RangeIndex' object has no attribute 'month'"
     ]
    }
   ],
   "source": [
    "ecas[ecas.index.month == 1]['total_calls'].sum()"
   ]
  },
  {
   "cell_type": "code",
   "execution_count": null,
   "metadata": {},
   "outputs": [],
   "source": [
    "ecas[ecas.index == '2018-01-01 00:00:00']['total_calls'].values"
   ]
  },
  {
   "cell_type": "markdown",
   "metadata": {},
   "source": [
    "### Poisson Probability\n",
    "\n",
    "The poisson probability of a call arriving in a particular interval can be calculated as follows:\n"
   ]
  },
  {
   "cell_type": "code",
   "execution_count": null,
   "metadata": {},
   "outputs": [],
   "source": []
  },
  {
   "cell_type": "code",
   "execution_count": null,
   "metadata": {},
   "outputs": [],
   "source": [
    "\n",
    "from scipy.special import factorial\n",
    "\n",
    "time_p = '2018-01-01 00:00:00'\n",
    "\n",
    "calls_per_min = ecas[ecas.index == time_p]['total_calls'].values/60\n",
    "\n",
    "minutes = 5\n",
    "\n",
    "# Expected events\n",
    "#lam = calls_per_min[0] * minutes\n",
    "\n",
    "#k = 2\n",
    "#pk = np.exp(-lam) * np.power(lam, k) / factorial(k)\n",
    "#print(f'The probability of {k} calls in {minutes} minutes is {100*pk:.2f}% for the time period {time_p}')\n",
    "\n",
    "#Reference: https://github.com/WillKoehrsen/Data-Analysis/blob/master/poisson/poisson.ipynb"
   ]
  },
  {
   "cell_type": "code",
   "execution_count": null,
   "metadata": {},
   "outputs": [],
   "source": []
  }
 ],
 "metadata": {
  "kernelspec": {
   "display_name": "Python 3",
   "language": "python",
   "name": "python3"
  },
  "language_info": {
   "codemirror_mode": {
    "name": "ipython",
    "version": 3
   },
   "file_extension": ".py",
   "mimetype": "text/x-python",
   "name": "python",
   "nbconvert_exporter": "python",
   "pygments_lexer": "ipython3",
   "version": "3.7.1"
  }
 },
 "nbformat": 4,
 "nbformat_minor": 2
}
