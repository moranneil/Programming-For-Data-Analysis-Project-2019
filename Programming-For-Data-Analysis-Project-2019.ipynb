{
 "cells": [
  {
   "cell_type": "markdown",
   "metadata": {},
   "source": [
    "# Programming for Data Analysis Project 2019\n",
    "\n",
    "![Image](Images/pythonpandas.JPG \"Image\")\n"
   ]
  },
  {
   "cell_type": "markdown",
   "metadata": {},
   "source": [
    "## Problem Statement\n",
    "\n",
    "Create a dataset by simulating a real-word phenomenon. Rather than collect data associated with the choosen real-world phenomenon the data should be modeled and synthesise the data using Python **numpy.randon** package\n",
    "\n"
   ]
  },
  {
   "cell_type": "markdown",
   "metadata": {},
   "source": [
    "## Real World Phenomenon\n",
    "\n",
    "The real world phenomenon we will be simulating is the Irish Emergency Call Answering Service (ECAS). This is a 24hr 365 day a year call centre that answers emergency calls 112 or 999. \n",
    "\n",
    "When 112 or 999 is dialed from any PSTN phone in Ireland the call will be put through to an emergency front line operator in the ECAS call centre. The caller is then given the following options \n",
    "\n",
    "1. Garda \n",
    "2. Fire \n",
    "3. Ambulance\n",
    "4. Coast Guard \n",
    "\n",
    "Depending on the emergency the front line operator puts the call through to the appropiate emergency service, they continue to monitor the call until the emergency service takes responsibility for the call and responding to the emergency.\n",
    "\n",
    "They are also responsible for taking the location of the emergency call.\n",
    "\n",
    "From the call statistics published on the department of communications website the ECAS service answered over 1.8 million calls in 2017. This over 200 calls per hour. The average duration of calls were 7.57 secs \n",
    "\n",
    "References: \n",
    "https://www.dccae.gov.ie/en-ie/news-and-media/press-releases/Pages/Minister-Denis-Naughten-Publishes-New-Figures-on-Ireland%E2%80%99s-Emergency-Call-Answering-Service.aspx"
   ]
  },
  {
   "cell_type": "markdown",
   "metadata": {},
   "source": [
    "\n"
   ]
  },
  {
   "cell_type": "markdown",
   "metadata": {},
   "source": [
    "## Variables\n",
    "\n",
    "To simulate the ECAS call centre we will use Python **numpy.random** package The call centre will have the following variables and is open 24 hours 7 days a week and 365 days of the year.\n",
    "\n",
    "The first variable is a timeseries variable called **period** this will consist of a time period of one week in hourly intervals. This will give 145 rows in the Dataframe or dataset. \n",
    "\n",
    "1. period\n",
    "2. garda\n",
    "3. fire\n",
    "4. ambulance\n",
    "5. coast_guard\n",
    "6. total_calls\n",
    "\n",
    "To simulate the calls to the ECAS call center Numpy random.poisson distribution is used, garda, fire, ambulance and coast_guard calls all use Numpy random.poisson distrbution\n",
    "\n",
    "The total_calls variable is a sum total of calls for garda, fire, ambulance and coast_guard.\n",
    "\n",
    "References: \n",
    "https://en.wikipedia.org/wiki/Poisson_distribution\n"
   ]
  },
  {
   "cell_type": "markdown",
   "metadata": {},
   "source": [
    "## Building the Dataframe"
   ]
  },
  {
   "cell_type": "markdown",
   "metadata": {},
   "source": [
    "### Importing Python Packages"
   ]
  },
  {
   "cell_type": "markdown",
   "metadata": {},
   "source": [
    "The first step is to import the following Python packages. Numpy is imported to give the numpy random packages to simulate data for the dataset. Pandas constructs the actual dataframe consisting of rows and columns. Matplotlib.pyplot and seaborn are imported as graphic libraries to generate plots from the simulated data."
   ]
  },
  {
   "cell_type": "code",
   "execution_count": 1,
   "metadata": {},
   "outputs": [],
   "source": [
    "#The following Python packages are imported\n",
    "import numpy as np\n",
    "import pandas as pd\n",
    "import matplotlib.pyplot as plt\n",
    "import seaborn as sns"
   ]
  },
  {
   "cell_type": "markdown",
   "metadata": {},
   "source": [
    "### Defining the sampling start, end and frequency\n",
    "\n",
    "Once the packages Python packages are imported the first step is to define \n"
   ]
  },
  {
   "cell_type": "code",
   "execution_count": 2,
   "metadata": {},
   "outputs": [],
   "source": [
    "# The period of a week is choosen starting from the 1st January 2019, \n",
    "# the week is divided up in to hourly periods given 145 data points for the week.\n",
    "\n",
    "period =  pd.date_range('01-01-2017', '01-07-2017', freq='H')\n",
    "\n",
    "#Reference: \n",
    "#https://pandas.pydata.org/pandas-docs/stable/reference/api/pandas.date_range.html\n",
    "#https://jakevdp.github.io/PythonDataScienceHandbook/03.11-working-with-time-series.html"
   ]
  },
  {
   "cell_type": "code",
   "execution_count": 3,
   "metadata": {},
   "outputs": [
    {
     "data": {
      "text/plain": [
       "DatetimeIndex(['2017-01-01 00:00:00', '2017-01-01 01:00:00',\n",
       "               '2017-01-01 02:00:00', '2017-01-01 03:00:00',\n",
       "               '2017-01-01 04:00:00', '2017-01-01 05:00:00',\n",
       "               '2017-01-01 06:00:00', '2017-01-01 07:00:00',\n",
       "               '2017-01-01 08:00:00', '2017-01-01 09:00:00',\n",
       "               ...\n",
       "               '2017-01-06 15:00:00', '2017-01-06 16:00:00',\n",
       "               '2017-01-06 17:00:00', '2017-01-06 18:00:00',\n",
       "               '2017-01-06 19:00:00', '2017-01-06 20:00:00',\n",
       "               '2017-01-06 21:00:00', '2017-01-06 22:00:00',\n",
       "               '2017-01-06 23:00:00', '2017-01-07 00:00:00'],\n",
       "              dtype='datetime64[ns]', length=145, freq='H')"
      ]
     },
     "execution_count": 3,
     "metadata": {},
     "output_type": "execute_result"
    }
   ],
   "source": [
    "#period datetime index is printed out, the data type is datetime64 \n",
    "period"
   ]
  },
  {
   "cell_type": "markdown",
   "metadata": {},
   "source": [
    "### Defining ecas_garda dataframe\n",
    "\n",
    "The ecas_garda pandas dataframe is defined to capture garda emergency calls to the ECAS call centre for the period defined in the previous section, the ecas_garda dataframe consists of the datetime column and a Numpy random.poisson distribution for garda emergency calls, the poisson distrbution's $\\lambda$ is also a random integer.\n",
    "\n",
    "Defining the ecas_garda dataframe consists of two steps.\n",
    "\n",
    "1. Define the poisson distrbution's $\\lambda$ as a random integer\n",
    "2. Define the calls column as a Numpy **random.poisson** distrbution of the entire time period\n",
    "\n",
    "References:https://www.calvin.edu/~rpruim/courses/s341/S17/from-class/MathinRmd.html\n"
   ]
  },
  {
   "cell_type": "code",
   "execution_count": 4,
   "metadata": {},
   "outputs": [
    {
     "data": {
      "text/plain": [
       "170"
      ]
     },
     "execution_count": 4,
     "metadata": {},
     "output_type": "execute_result"
    }
   ],
   "source": [
    "#Define a random integer for the Poisson distrubution lamda value for calls for a garda emergency. \n",
    "#The random integer number is anywhere in the range of 45 to 185 calls per hour, this is a random range choosen.\n",
    "garda_randomint = np.random.randint(45, 185)\n",
    "\n",
    "#The random integer is printed out below\n",
    "garda_randomint\n",
    "\n",
    "#Reference: https://docs.scipy.org/doc/numpy-1.15.1/reference/generated/numpy.random.randint.html"
   ]
  },
  {
   "cell_type": "markdown",
   "metadata": {},
   "source": [
    "Construct the **ecas_garda** dataframe using the **period** variable and label this column datetime. This dataframe will have the same number of rows as the period variable. The next line of code adds the **garda** column on to the new dataframe **ecas_garda** using a Numpy **random.poisson** function in Python. The resulting pandas dataframe has two columns, **datetime** and **garda**."
   ]
  },
  {
   "cell_type": "code",
   "execution_count": 5,
   "metadata": {},
   "outputs": [
    {
     "data": {
      "text/html": [
       "<div>\n",
       "<style scoped>\n",
       "    .dataframe tbody tr th:only-of-type {\n",
       "        vertical-align: middle;\n",
       "    }\n",
       "\n",
       "    .dataframe tbody tr th {\n",
       "        vertical-align: top;\n",
       "    }\n",
       "\n",
       "    .dataframe thead th {\n",
       "        text-align: right;\n",
       "    }\n",
       "</style>\n",
       "<table border=\"1\" class=\"dataframe\">\n",
       "  <thead>\n",
       "    <tr style=\"text-align: right;\">\n",
       "      <th></th>\n",
       "      <th>datetime</th>\n",
       "      <th>garda</th>\n",
       "    </tr>\n",
       "  </thead>\n",
       "  <tbody>\n",
       "    <tr>\n",
       "      <th>0</th>\n",
       "      <td>2017-01-01 00:00:00</td>\n",
       "      <td>174</td>\n",
       "    </tr>\n",
       "    <tr>\n",
       "      <th>1</th>\n",
       "      <td>2017-01-01 01:00:00</td>\n",
       "      <td>177</td>\n",
       "    </tr>\n",
       "    <tr>\n",
       "      <th>2</th>\n",
       "      <td>2017-01-01 02:00:00</td>\n",
       "      <td>165</td>\n",
       "    </tr>\n",
       "    <tr>\n",
       "      <th>3</th>\n",
       "      <td>2017-01-01 03:00:00</td>\n",
       "      <td>152</td>\n",
       "    </tr>\n",
       "    <tr>\n",
       "      <th>4</th>\n",
       "      <td>2017-01-01 04:00:00</td>\n",
       "      <td>156</td>\n",
       "    </tr>\n",
       "  </tbody>\n",
       "</table>\n",
       "</div>"
      ],
      "text/plain": [
       "             datetime  garda\n",
       "0 2017-01-01 00:00:00    174\n",
       "1 2017-01-01 01:00:00    177\n",
       "2 2017-01-01 02:00:00    165\n",
       "3 2017-01-01 03:00:00    152\n",
       "4 2017-01-01 04:00:00    156"
      ]
     },
     "execution_count": 5,
     "metadata": {},
     "output_type": "execute_result"
    }
   ],
   "source": [
    "#ecas_garda pandas Dataframe is constructed first with the period to produce a timeseries column of type timeseries labeling it 'datetime'\n",
    "#The datetime column is not an index to the dataframe and therefore can be in either the x or y axis of the plots.\n",
    "#The column garda is added on to the new dataframe using Numpy random.poisson distrbution function.\n",
    "#THe first 5 rows of the new dataframe is printed out.\n",
    "\n",
    "ecas_garda = pd.DataFrame(period, columns=['datetime'])\n",
    "ecas_garda['garda'] = np.random.poisson(garda_randomint, len(period))\n",
    "ecas_garda.head()\n",
    "\n",
    "#Reference: \n",
    "#https://web.microsoftstream.com/video/db8801fe-9e42-4663-a508-5d6f38bb7327\n",
    "#https://docs.scipy.org/doc/numpy-1.15.1/reference/generated/numpy.random.poisson.html\n",
    "#https://www.dataquest.io/blog/tutorial-time-series-analysis-with-pandas/"
   ]
  },
  {
   "cell_type": "code",
   "execution_count": 6,
   "metadata": {},
   "outputs": [
    {
     "data": {
      "text/plain": [
       "datetime    datetime64[ns]\n",
       "garda                int32\n",
       "dtype: object"
      ]
     },
     "execution_count": 6,
     "metadata": {},
     "output_type": "execute_result"
    }
   ],
   "source": [
    "#This command verifies the data types in the ecas_garda dataframe. \n",
    "#The result is a datetime64 columns and an 32 bit integer column\n",
    "\n",
    "ecas_garda.dtypes\n",
    "\n",
    "#References:https://docs.scipy.org/doc/numpy-1.15.0/reference/arrays.datetime.html"
   ]
  },
  {
   "cell_type": "markdown",
   "metadata": {},
   "source": [
    "### Defining ecas_fire dataframe\n",
    "\n",
    "Again the ecas_fire pandas dataframe is defined to capture fire emergency calls to the ECAS call centre for the period defined in the previous section, the ecas_fire dataframe consists of the datetime column and a Numpy random.poisson distribution for emergency calls for the fire service, the poisson distrbution's $\\lambda$ is also a random integer.\n",
    "\n",
    "Defining the ecas_fire dataframe consists of two steps.\n",
    "\n",
    "1. Define the poisson distrbution's $\\lambda$ as a random integer\n",
    "2. Define the calls column as a Numpy **random.poisson** distrbution of the entire time period.\n",
    "\n",
    "References:https://www.calvin.edu/~rpruim/courses/s341/S17/from-class/MathinRmd.html"
   ]
  },
  {
   "cell_type": "code",
   "execution_count": 7,
   "metadata": {},
   "outputs": [
    {
     "data": {
      "text/plain": [
       "53"
      ]
     },
     "execution_count": 7,
     "metadata": {},
     "output_type": "execute_result"
    }
   ],
   "source": [
    "#Define a random integer for the Poisson distribution lamda value for calls for a fire emergency. \n",
    "#The random integer number is anywhere in the range of 50 to 160 calls per hour, this is a random range choosen.\n",
    "\n",
    "fire_randomint = np.random.randint(50,160)\n",
    "\n",
    "# The random integer is printed out.\n",
    "fire_randomint\n",
    "\n",
    "#Reference: https://docs.scipy.org/doc/numpy-1.15.1/reference/generated/numpy.random.randint.html"
   ]
  },
  {
   "cell_type": "markdown",
   "metadata": {},
   "source": [
    "Construct the **ecas_fire** dataframe using the **period** variable and label this column datetime. This dataframe will have the same number of rows as the period variable. The next line of code adds the **fire** column on to the new dataframe **ecas_fire** using a Numpy **random.poisson** function in Python. The resulting pandas dataframe has two columns, **datetime** and **fire**."
   ]
  },
  {
   "cell_type": "code",
   "execution_count": 8,
   "metadata": {},
   "outputs": [
    {
     "data": {
      "text/html": [
       "<div>\n",
       "<style scoped>\n",
       "    .dataframe tbody tr th:only-of-type {\n",
       "        vertical-align: middle;\n",
       "    }\n",
       "\n",
       "    .dataframe tbody tr th {\n",
       "        vertical-align: top;\n",
       "    }\n",
       "\n",
       "    .dataframe thead th {\n",
       "        text-align: right;\n",
       "    }\n",
       "</style>\n",
       "<table border=\"1\" class=\"dataframe\">\n",
       "  <thead>\n",
       "    <tr style=\"text-align: right;\">\n",
       "      <th></th>\n",
       "      <th>datetime</th>\n",
       "      <th>fire</th>\n",
       "    </tr>\n",
       "  </thead>\n",
       "  <tbody>\n",
       "    <tr>\n",
       "      <th>0</th>\n",
       "      <td>2017-01-01 00:00:00</td>\n",
       "      <td>51</td>\n",
       "    </tr>\n",
       "    <tr>\n",
       "      <th>1</th>\n",
       "      <td>2017-01-01 01:00:00</td>\n",
       "      <td>43</td>\n",
       "    </tr>\n",
       "    <tr>\n",
       "      <th>2</th>\n",
       "      <td>2017-01-01 02:00:00</td>\n",
       "      <td>54</td>\n",
       "    </tr>\n",
       "    <tr>\n",
       "      <th>3</th>\n",
       "      <td>2017-01-01 03:00:00</td>\n",
       "      <td>50</td>\n",
       "    </tr>\n",
       "    <tr>\n",
       "      <th>4</th>\n",
       "      <td>2017-01-01 04:00:00</td>\n",
       "      <td>42</td>\n",
       "    </tr>\n",
       "  </tbody>\n",
       "</table>\n",
       "</div>"
      ],
      "text/plain": [
       "             datetime  fire\n",
       "0 2017-01-01 00:00:00    51\n",
       "1 2017-01-01 01:00:00    43\n",
       "2 2017-01-01 02:00:00    54\n",
       "3 2017-01-01 03:00:00    50\n",
       "4 2017-01-01 04:00:00    42"
      ]
     },
     "execution_count": 8,
     "metadata": {},
     "output_type": "execute_result"
    }
   ],
   "source": [
    "#ecas_fire pandas Dataframe is constructed first with the period to produce a timeseries column of type timeseries labeling it 'datetime'\n",
    "#The datetime column is not an index to the dataframe and therefore can be in either the x or y axis of the plots.\n",
    "#The column fire is added on to the new dataframe using Numpy random.poisson distrbution function.\n",
    "#The first 5 rows of the new dataframe is printed out.\n",
    "\n",
    "ecas_fire = pd.DataFrame(period, columns=['datetime'])\n",
    "ecas_fire['fire'] = np.random.poisson(fire_randomint, len(period))\n",
    "ecas_fire.head()\n",
    "\n",
    "#Reference: \n",
    "#https://web.microsoftstream.com/video/db8801fe-9e42-4663-a508-5d6f38bb7327\n",
    "#https://docs.scipy.org/doc/numpy-1.15.1/reference/generated/numpy.random.poisson.html\n",
    "#https://www.dataquest.io/blog/tutorial-time-series-analysis-with-pandas/"
   ]
  },
  {
   "cell_type": "code",
   "execution_count": 9,
   "metadata": {},
   "outputs": [
    {
     "data": {
      "text/plain": [
       "datetime    datetime64[ns]\n",
       "fire                 int32\n",
       "dtype: object"
      ]
     },
     "execution_count": 9,
     "metadata": {},
     "output_type": "execute_result"
    }
   ],
   "source": [
    "#This command verifies the data types in the ecas_fire dataframe. \n",
    "#The result is a datetime64 columns and an 32 bit integer column\n",
    "\n",
    "ecas_fire.dtypes\n",
    "\n",
    "#References:https://docs.scipy.org/doc/numpy-1.15.0/reference/arrays.datetime.html"
   ]
  },
  {
   "cell_type": "markdown",
   "metadata": {},
   "source": [
    "### Defining ecas_ambulance dataframe\n",
    "\n",
    "The ecas_ambulance pandas dataframe is defined to capture ambulance emergency calls to the ECAS call centre for the period defined in the previous section, the ecas_ambulance dataframe consists of the datetime column and a Numpy random.poisson distribution for the ambulance calls, the poisson distrbution's $\\lambda$ is also a random integer.\n",
    "\n",
    "Defining the ecas_ambulance dataframe consists of two steps.\n",
    "\n",
    "1. Define the poisson distrbution's $\\lambda$ as a random integer\n",
    "2. Define the calls column as a Numpy **random.poisson** distrbution of the entire time period.\n",
    "\n",
    "References:https://www.calvin.edu/~rpruim/courses/s341/S17/from-class/MathinRmd.html"
   ]
  },
  {
   "cell_type": "code",
   "execution_count": 10,
   "metadata": {},
   "outputs": [
    {
     "data": {
      "text/plain": [
       "127"
      ]
     },
     "execution_count": 10,
     "metadata": {},
     "output_type": "execute_result"
    }
   ],
   "source": [
    "#Define a random integer for the Poisson distrubution lamda value for calls for a ambulance emergency call. \n",
    "#The random integer number is anywhere in the range of 35 to 270 calls per hour, this is a random range choosen.\n",
    "\n",
    "ambulance_randomint = np.random.randint(35,270)\n",
    "ambulance_randomint\n",
    "\n",
    "#Reference: https://docs.scipy.org/doc/numpy-1.15.1/reference/generated/numpy.random.randint.html"
   ]
  },
  {
   "cell_type": "markdown",
   "metadata": {},
   "source": [
    "Construct the **ecas_ambulance** dataframe using the **period** variable and label this column datetime. This dataframe will have the same number of rows as the period variable. The next line of code adds the **ambulance** column on to the new dataframe **ecas_ambulance** using a Numpy **random.poisson** function in Python. The resulting pandas dataframe has two columns, **datetime** and **ambulance**."
   ]
  },
  {
   "cell_type": "code",
   "execution_count": 11,
   "metadata": {},
   "outputs": [
    {
     "data": {
      "text/html": [
       "<div>\n",
       "<style scoped>\n",
       "    .dataframe tbody tr th:only-of-type {\n",
       "        vertical-align: middle;\n",
       "    }\n",
       "\n",
       "    .dataframe tbody tr th {\n",
       "        vertical-align: top;\n",
       "    }\n",
       "\n",
       "    .dataframe thead th {\n",
       "        text-align: right;\n",
       "    }\n",
       "</style>\n",
       "<table border=\"1\" class=\"dataframe\">\n",
       "  <thead>\n",
       "    <tr style=\"text-align: right;\">\n",
       "      <th></th>\n",
       "      <th>datetime</th>\n",
       "      <th>ambulance</th>\n",
       "    </tr>\n",
       "  </thead>\n",
       "  <tbody>\n",
       "    <tr>\n",
       "      <th>0</th>\n",
       "      <td>2017-01-01 00:00:00</td>\n",
       "      <td>128</td>\n",
       "    </tr>\n",
       "    <tr>\n",
       "      <th>1</th>\n",
       "      <td>2017-01-01 01:00:00</td>\n",
       "      <td>129</td>\n",
       "    </tr>\n",
       "    <tr>\n",
       "      <th>2</th>\n",
       "      <td>2017-01-01 02:00:00</td>\n",
       "      <td>113</td>\n",
       "    </tr>\n",
       "    <tr>\n",
       "      <th>3</th>\n",
       "      <td>2017-01-01 03:00:00</td>\n",
       "      <td>134</td>\n",
       "    </tr>\n",
       "    <tr>\n",
       "      <th>4</th>\n",
       "      <td>2017-01-01 04:00:00</td>\n",
       "      <td>114</td>\n",
       "    </tr>\n",
       "  </tbody>\n",
       "</table>\n",
       "</div>"
      ],
      "text/plain": [
       "             datetime  ambulance\n",
       "0 2017-01-01 00:00:00        128\n",
       "1 2017-01-01 01:00:00        129\n",
       "2 2017-01-01 02:00:00        113\n",
       "3 2017-01-01 03:00:00        134\n",
       "4 2017-01-01 04:00:00        114"
      ]
     },
     "execution_count": 11,
     "metadata": {},
     "output_type": "execute_result"
    }
   ],
   "source": [
    "#ecas_ambulance pandas Dataframe is constructed first with the period to produce a timeseries column of type timeseries labeling it 'datetime'\n",
    "#The datetime column is not an index to the dataframe and therefore can be in either the x or y axis of the plots.\n",
    "#The column fire is added on to the new dataframe using Numpy random.poisson distrbution function.\n",
    "#The first 5 rows of the new dataframe is printed out.\n",
    "\n",
    "ecas_ambulance = pd.DataFrame(period, columns=['datetime'])\n",
    "ecas_ambulance['ambulance'] = np.random.poisson(ambulance_randomint, len(period))\n",
    "ecas_ambulance.head()\n",
    "\n",
    "#Reference: \n",
    "#https://web.microsoftstream.com/video/db8801fe-9e42-4663-a508-5d6f38bb7327\n",
    "#https://docs.scipy.org/doc/numpy-1.15.1/reference/generated/numpy.random.poisson.html\n",
    "#https://www.dataquest.io/blog/tutorial-time-series-analysis-with-pandas/"
   ]
  },
  {
   "cell_type": "code",
   "execution_count": 12,
   "metadata": {},
   "outputs": [
    {
     "data": {
      "text/plain": [
       "datetime     datetime64[ns]\n",
       "ambulance             int32\n",
       "dtype: object"
      ]
     },
     "execution_count": 12,
     "metadata": {},
     "output_type": "execute_result"
    }
   ],
   "source": [
    "#This command verifies the data types in the ecas_ambulance dataframe. \n",
    "#The result is a datetime64 columns and a 32 bit integer column\n",
    "\n",
    "ecas_ambulance.dtypes\n",
    "\n",
    "#References:https://docs.scipy.org/doc/numpy-1.15.0/reference/arrays.datetime.html"
   ]
  },
  {
   "cell_type": "markdown",
   "metadata": {},
   "source": [
    "### Defining ecas_coast_guard dataframe\n",
    "\n",
    "The ecas_coast_guard pandas dataframe is defined to capture coast_guard emergency calls to the ECAS call centre for the period defined in the previous section, the ecas_coast_guard dataframe consists of the datetime column and a Numpy random.poisson distribution for emergency calls for the fire service, the poisson distrbution's $\\lambda$ is also a random integer.\n",
    "\n",
    "Defining the ecas_coast_guard dataframe consists of two steps.\n",
    "\n",
    "1. Define the poisson distrbution's $\\lambda$ as a random integer\n",
    "2. Define the calls column as a Numpy **random.poisson** distrbution of the entire time period.\n",
    "\n",
    "References:https://www.calvin.edu/~rpruim/courses/s341/S17/from-class/MathinRmd.html"
   ]
  },
  {
   "cell_type": "code",
   "execution_count": 13,
   "metadata": {},
   "outputs": [
    {
     "data": {
      "text/plain": [
       "113"
      ]
     },
     "execution_count": 13,
     "metadata": {},
     "output_type": "execute_result"
    }
   ],
   "source": [
    "#Define a random integer for the Poisson distribution lamda value for calls for a coast_guard emergency call.\n",
    "#The random integer number is anywhere in the range of 30 to 265 calls per hour, this is a random range choosen.\n",
    "\n",
    "coast_guard_randomint = np.random.randint(30, 265)\n",
    "coast_guard_randomint\n",
    "\n",
    "#Reference: https://docs.scipy.org/doc/numpy-1.15.1/reference/generated/numpy.random.randint.html"
   ]
  },
  {
   "cell_type": "markdown",
   "metadata": {},
   "source": [
    "Construct the **ecas_coast_guard** dataframe using the **period** variable and label this column datetime. This dataframe will have the same number of rows as the period variable. The next line of code adds the **coast_guard** column on to the new dataframe **ecas_coast_guard** using a Numpy **random.poisson** function in Python. The resulting pandas dataframe has two columns, **datetime** and **coast_guard**."
   ]
  },
  {
   "cell_type": "code",
   "execution_count": 14,
   "metadata": {},
   "outputs": [
    {
     "data": {
      "text/html": [
       "<div>\n",
       "<style scoped>\n",
       "    .dataframe tbody tr th:only-of-type {\n",
       "        vertical-align: middle;\n",
       "    }\n",
       "\n",
       "    .dataframe tbody tr th {\n",
       "        vertical-align: top;\n",
       "    }\n",
       "\n",
       "    .dataframe thead th {\n",
       "        text-align: right;\n",
       "    }\n",
       "</style>\n",
       "<table border=\"1\" class=\"dataframe\">\n",
       "  <thead>\n",
       "    <tr style=\"text-align: right;\">\n",
       "      <th></th>\n",
       "      <th>datetime</th>\n",
       "      <th>coast_guard</th>\n",
       "    </tr>\n",
       "  </thead>\n",
       "  <tbody>\n",
       "    <tr>\n",
       "      <th>0</th>\n",
       "      <td>2017-01-01 00:00:00</td>\n",
       "      <td>108</td>\n",
       "    </tr>\n",
       "    <tr>\n",
       "      <th>1</th>\n",
       "      <td>2017-01-01 01:00:00</td>\n",
       "      <td>107</td>\n",
       "    </tr>\n",
       "    <tr>\n",
       "      <th>2</th>\n",
       "      <td>2017-01-01 02:00:00</td>\n",
       "      <td>104</td>\n",
       "    </tr>\n",
       "    <tr>\n",
       "      <th>3</th>\n",
       "      <td>2017-01-01 03:00:00</td>\n",
       "      <td>112</td>\n",
       "    </tr>\n",
       "    <tr>\n",
       "      <th>4</th>\n",
       "      <td>2017-01-01 04:00:00</td>\n",
       "      <td>108</td>\n",
       "    </tr>\n",
       "  </tbody>\n",
       "</table>\n",
       "</div>"
      ],
      "text/plain": [
       "             datetime  coast_guard\n",
       "0 2017-01-01 00:00:00          108\n",
       "1 2017-01-01 01:00:00          107\n",
       "2 2017-01-01 02:00:00          104\n",
       "3 2017-01-01 03:00:00          112\n",
       "4 2017-01-01 04:00:00          108"
      ]
     },
     "execution_count": 14,
     "metadata": {},
     "output_type": "execute_result"
    }
   ],
   "source": [
    "#ecas_coast_guard pandas Dataframe is constructed first with the period to produce a timeseries column of type timeseries labeling it 'datetime'\n",
    "#The datetime column is not an index to the dataframe and therefore can be in either the x or y axis of the plots.\n",
    "#The column fire is added on to the new dataframe using Numpy random.poisson distrbution function.\n",
    "#The first 5 rows of the new dataframe is printed out.\n",
    "\n",
    "ecas_coast_guard = pd.DataFrame(period, columns=['datetime'])\n",
    "ecas_coast_guard['coast_guard'] = np.random.poisson(coast_guard_randomint, len(period))\n",
    "ecas_coast_guard.head()\n",
    "\n",
    "#Reference: \n",
    "#https://web.microsoftstream.com/video/db8801fe-9e42-4663-a508-5d6f38bb7327\n",
    "#https://docs.scipy.org/doc/numpy-1.15.1/reference/generated/numpy.random.poisson.html\n",
    "#https://www.dataquest.io/blog/tutorial-time-series-analysis-with-pandas/"
   ]
  },
  {
   "cell_type": "code",
   "execution_count": 15,
   "metadata": {},
   "outputs": [
    {
     "data": {
      "text/plain": [
       "datetime       datetime64[ns]\n",
       "coast_guard             int32\n",
       "dtype: object"
      ]
     },
     "execution_count": 15,
     "metadata": {},
     "output_type": "execute_result"
    }
   ],
   "source": [
    "#This command verifies the data types in the ecas_coast_guard dataframe. \n",
    "#The result is a datetime64 columns and a 32 bit integer column\n",
    "\n",
    "ecas_coast_guard.dtypes\n",
    "\n",
    "#References:https://docs.scipy.org/doc/numpy-1.15.0/reference/arrays.datetime.html"
   ]
  },
  {
   "cell_type": "code",
   "execution_count": null,
   "metadata": {},
   "outputs": [],
   "source": []
  },
  {
   "cell_type": "code",
   "execution_count": null,
   "metadata": {},
   "outputs": [],
   "source": []
  },
  {
   "cell_type": "markdown",
   "metadata": {},
   "source": [
    "### Joining the dataframes together\n",
    "\n",
    "We now have the following four dataframes for calls to each of the respective emergency service\n",
    "\n",
    "1. ecas_garda\n",
    "2. ecas_fire\n",
    "3. ecas_ambulance\n",
    "4. ecas_coast_guard\n",
    "\n",
    "Each of the dataframes above have the same datetime column. We will extract the calls column values from each datafram and use them to define a new dataframe **ecas** and add a total_calls column to sum all calls to the ECAS call centre for the period defined. We can also still reference the individual dataframes to analyse each emergency calls category separately."
   ]
  },
  {
   "cell_type": "markdown",
   "metadata": {},
   "source": [
    "The first step in joining the pandas dataframes is to define a new dataframe ecas, then add the column values to the new dataframe. The ecas_garda dataframe is used to define the initial dataframe, note any of the four dataframe could have been used."
   ]
  },
  {
   "cell_type": "code",
   "execution_count": 16,
   "metadata": {},
   "outputs": [
    {
     "data": {
      "text/html": [
       "<div>\n",
       "<style scoped>\n",
       "    .dataframe tbody tr th:only-of-type {\n",
       "        vertical-align: middle;\n",
       "    }\n",
       "\n",
       "    .dataframe tbody tr th {\n",
       "        vertical-align: top;\n",
       "    }\n",
       "\n",
       "    .dataframe thead th {\n",
       "        text-align: right;\n",
       "    }\n",
       "</style>\n",
       "<table border=\"1\" class=\"dataframe\">\n",
       "  <thead>\n",
       "    <tr style=\"text-align: right;\">\n",
       "      <th></th>\n",
       "      <th>datetime</th>\n",
       "      <th>garda</th>\n",
       "    </tr>\n",
       "  </thead>\n",
       "  <tbody>\n",
       "    <tr>\n",
       "      <th>0</th>\n",
       "      <td>2017-01-01 00:00:00</td>\n",
       "      <td>174</td>\n",
       "    </tr>\n",
       "    <tr>\n",
       "      <th>1</th>\n",
       "      <td>2017-01-01 01:00:00</td>\n",
       "      <td>177</td>\n",
       "    </tr>\n",
       "    <tr>\n",
       "      <th>2</th>\n",
       "      <td>2017-01-01 02:00:00</td>\n",
       "      <td>165</td>\n",
       "    </tr>\n",
       "    <tr>\n",
       "      <th>3</th>\n",
       "      <td>2017-01-01 03:00:00</td>\n",
       "      <td>152</td>\n",
       "    </tr>\n",
       "    <tr>\n",
       "      <th>4</th>\n",
       "      <td>2017-01-01 04:00:00</td>\n",
       "      <td>156</td>\n",
       "    </tr>\n",
       "  </tbody>\n",
       "</table>\n",
       "</div>"
      ],
      "text/plain": [
       "             datetime  garda\n",
       "0 2017-01-01 00:00:00    174\n",
       "1 2017-01-01 01:00:00    177\n",
       "2 2017-01-01 02:00:00    165\n",
       "3 2017-01-01 03:00:00    152\n",
       "4 2017-01-01 04:00:00    156"
      ]
     },
     "execution_count": 16,
     "metadata": {},
     "output_type": "execute_result"
    }
   ],
   "source": [
    "#Define the new dataframe to equal ecas_garda dataframe\n",
    "\n",
    "ecas = ecas_garda\n",
    "\n",
    "#Print the first 5 rows of the new ecas dataframe\n",
    "ecas.head()\n"
   ]
  },
  {
   "cell_type": "markdown",
   "metadata": {},
   "source": [
    "The next few commands display the values in the columns that we want to add to the new pandas dataframe **ecas**."
   ]
  },
  {
   "cell_type": "code",
   "execution_count": 17,
   "metadata": {},
   "outputs": [
    {
     "data": {
      "text/plain": [
       "array([51, 43, 54, 50, 42, 50, 55, 59, 44, 58, 40, 53, 61, 57, 49, 56, 50,\n",
       "       52, 44, 59, 53, 54, 41, 45, 47, 40, 62, 34, 62, 55, 49, 48, 55, 56,\n",
       "       59, 43, 40, 40, 53, 55, 48, 67, 62, 52, 54, 58, 54, 53, 51, 45, 52,\n",
       "       65, 57, 46, 49, 46, 61, 39, 55, 35, 50, 52, 48, 50, 55, 64, 54, 53,\n",
       "       61, 63, 49, 56, 59, 44, 42, 52, 51, 69, 51, 53, 55, 54, 51, 42, 60,\n",
       "       56, 48, 63, 53, 48, 56, 50, 53, 53, 57, 48, 61, 56, 63, 38, 55, 66,\n",
       "       60, 58, 54, 54, 45, 51, 52, 49, 55, 55, 46, 47, 62, 53, 54, 48, 35,\n",
       "       53, 61, 60, 50, 47, 55, 47, 60, 42, 56, 60, 55, 48, 57, 47, 46, 50,\n",
       "       46, 55, 61, 40, 42, 54, 56, 50, 57])"
      ]
     },
     "execution_count": 17,
     "metadata": {},
     "output_type": "execute_result"
    }
   ],
   "source": [
    "# Creating an array of values from the Dataframe ecas_fire\n",
    "# Reference: https://stackoverflow.com/questions/46396257/adding-a-new-column-in-pandas-dataframe-from-another-dataframe-with-differing-in\n",
    "\n",
    "ecas_fire['fire'].values"
   ]
  },
  {
   "cell_type": "code",
   "execution_count": 18,
   "metadata": {},
   "outputs": [
    {
     "data": {
      "text/plain": [
       "array([128, 129, 113, 134, 114, 116, 137, 104, 147, 149, 137, 144, 127,\n",
       "       104, 119, 124, 108, 132, 121, 128, 117, 142, 116, 122, 143, 121,\n",
       "       110, 139, 124, 126, 125, 147, 125, 119, 133, 118, 128, 121, 126,\n",
       "       138, 125, 147, 110, 136, 144, 122, 138, 135, 118, 123, 125, 119,\n",
       "       154, 106, 123, 109, 126, 122, 113, 113, 121, 132, 134, 137, 127,\n",
       "       125, 127, 117, 122, 121, 147, 127, 144, 124, 137, 128, 146, 137,\n",
       "       123, 134, 137, 132, 131, 120, 119, 126, 103, 117, 117, 131, 147,\n",
       "       129, 121, 131, 134, 147, 113, 149, 138, 163, 133, 135, 121, 160,\n",
       "       104, 123, 127, 119, 126, 128, 128, 126, 128, 119, 113, 107, 138,\n",
       "       128, 133, 122, 118, 116, 108, 119, 111, 136, 127, 123, 117, 135,\n",
       "       121, 134, 143, 119, 114, 112, 112, 138, 130, 126, 140, 139, 114,\n",
       "       137, 106])"
      ]
     },
     "execution_count": 18,
     "metadata": {},
     "output_type": "execute_result"
    }
   ],
   "source": [
    "# Creating an array of values from the Dataframe ecas_ambulance\n",
    "# Reference: https://stackoverflow.com/questions/46396257/adding-a-new-column-in-pandas-dataframe-from-another-dataframe-with-differing-in\n",
    "\n",
    "ecas_ambulance['ambulance'].values"
   ]
  },
  {
   "cell_type": "code",
   "execution_count": 19,
   "metadata": {},
   "outputs": [
    {
     "data": {
      "text/plain": [
       "array([108, 107, 104, 112, 108, 118, 119, 118, 133, 133, 111, 110, 114,\n",
       "       125,  99, 128, 110, 110, 108, 111, 119, 120, 106, 131, 111, 131,\n",
       "        91, 123, 111, 116, 100, 104, 109, 145, 116, 109, 114,  94,  92,\n",
       "       111, 123, 120, 129, 112, 144, 130, 117, 118, 121, 116, 124, 111,\n",
       "       110, 108, 113, 103, 117, 125, 116, 100, 108, 129,  85, 105, 108,\n",
       "       131,  96, 123, 126, 114, 125, 100, 113, 135, 108, 106, 109, 114,\n",
       "       109, 124, 114,  94, 135,  90, 112, 104, 104, 134, 115, 115, 135,\n",
       "       116, 126, 132, 101, 128,  93, 105, 117, 121, 116, 126, 112, 104,\n",
       "       104,  96, 120, 120, 112, 116, 122, 120, 119, 117, 117, 117, 112,\n",
       "        98, 124, 114,  93, 121, 126, 108, 120, 114, 106, 107, 105, 121,\n",
       "       130, 121, 102, 123, 118, 105, 109, 115, 115,  97, 123, 117, 114,\n",
       "       124, 116])"
      ]
     },
     "execution_count": 19,
     "metadata": {},
     "output_type": "execute_result"
    }
   ],
   "source": [
    "# Creating an array of values from the Dataframe ecas_coast_guard\n",
    "# Reference: https://stackoverflow.com/questions/46396257/adding-a-new-column-in-pandas-dataframe-from-another-dataframe-with-differing-in\n",
    "ecas_coast_guard['coast_guard'].values"
   ]
  },
  {
   "cell_type": "markdown",
   "metadata": {},
   "source": [
    "The next few commands below add in the extracted column values as a new column to the new dataframe **ecas**"
   ]
  },
  {
   "cell_type": "code",
   "execution_count": 20,
   "metadata": {},
   "outputs": [
    {
     "data": {
      "text/html": [
       "<div>\n",
       "<style scoped>\n",
       "    .dataframe tbody tr th:only-of-type {\n",
       "        vertical-align: middle;\n",
       "    }\n",
       "\n",
       "    .dataframe tbody tr th {\n",
       "        vertical-align: top;\n",
       "    }\n",
       "\n",
       "    .dataframe thead th {\n",
       "        text-align: right;\n",
       "    }\n",
       "</style>\n",
       "<table border=\"1\" class=\"dataframe\">\n",
       "  <thead>\n",
       "    <tr style=\"text-align: right;\">\n",
       "      <th></th>\n",
       "      <th>datetime</th>\n",
       "      <th>garda</th>\n",
       "      <th>fire</th>\n",
       "    </tr>\n",
       "  </thead>\n",
       "  <tbody>\n",
       "    <tr>\n",
       "      <th>0</th>\n",
       "      <td>2017-01-01 00:00:00</td>\n",
       "      <td>174</td>\n",
       "      <td>51</td>\n",
       "    </tr>\n",
       "    <tr>\n",
       "      <th>1</th>\n",
       "      <td>2017-01-01 01:00:00</td>\n",
       "      <td>177</td>\n",
       "      <td>43</td>\n",
       "    </tr>\n",
       "    <tr>\n",
       "      <th>2</th>\n",
       "      <td>2017-01-01 02:00:00</td>\n",
       "      <td>165</td>\n",
       "      <td>54</td>\n",
       "    </tr>\n",
       "    <tr>\n",
       "      <th>3</th>\n",
       "      <td>2017-01-01 03:00:00</td>\n",
       "      <td>152</td>\n",
       "      <td>50</td>\n",
       "    </tr>\n",
       "    <tr>\n",
       "      <th>4</th>\n",
       "      <td>2017-01-01 04:00:00</td>\n",
       "      <td>156</td>\n",
       "      <td>42</td>\n",
       "    </tr>\n",
       "  </tbody>\n",
       "</table>\n",
       "</div>"
      ],
      "text/plain": [
       "             datetime  garda  fire\n",
       "0 2017-01-01 00:00:00    174    51\n",
       "1 2017-01-01 01:00:00    177    43\n",
       "2 2017-01-01 02:00:00    165    54\n",
       "3 2017-01-01 03:00:00    152    50\n",
       "4 2017-01-01 04:00:00    156    42"
      ]
     },
     "execution_count": 20,
     "metadata": {},
     "output_type": "execute_result"
    }
   ],
   "source": [
    "# The command below adds the fire column values from the ecas_fire dataframe to the ecas dataframe and labels it fire\n",
    "# Reference: https://stackoverflow.com/questions/46396257/adding-a-new-column-in-pandas-dataframe-from-another-dataframe-with-differing-in\n",
    "\n",
    "ecas['fire'] = ecas_fire['fire'].values\n",
    "\n",
    "#The new dataframe is printed\n",
    "ecas.head()"
   ]
  },
  {
   "cell_type": "code",
   "execution_count": 21,
   "metadata": {},
   "outputs": [
    {
     "data": {
      "text/html": [
       "<div>\n",
       "<style scoped>\n",
       "    .dataframe tbody tr th:only-of-type {\n",
       "        vertical-align: middle;\n",
       "    }\n",
       "\n",
       "    .dataframe tbody tr th {\n",
       "        vertical-align: top;\n",
       "    }\n",
       "\n",
       "    .dataframe thead th {\n",
       "        text-align: right;\n",
       "    }\n",
       "</style>\n",
       "<table border=\"1\" class=\"dataframe\">\n",
       "  <thead>\n",
       "    <tr style=\"text-align: right;\">\n",
       "      <th></th>\n",
       "      <th>datetime</th>\n",
       "      <th>garda</th>\n",
       "      <th>fire</th>\n",
       "      <th>ambulance</th>\n",
       "    </tr>\n",
       "  </thead>\n",
       "  <tbody>\n",
       "    <tr>\n",
       "      <th>0</th>\n",
       "      <td>2017-01-01 00:00:00</td>\n",
       "      <td>174</td>\n",
       "      <td>51</td>\n",
       "      <td>128</td>\n",
       "    </tr>\n",
       "    <tr>\n",
       "      <th>1</th>\n",
       "      <td>2017-01-01 01:00:00</td>\n",
       "      <td>177</td>\n",
       "      <td>43</td>\n",
       "      <td>129</td>\n",
       "    </tr>\n",
       "    <tr>\n",
       "      <th>2</th>\n",
       "      <td>2017-01-01 02:00:00</td>\n",
       "      <td>165</td>\n",
       "      <td>54</td>\n",
       "      <td>113</td>\n",
       "    </tr>\n",
       "    <tr>\n",
       "      <th>3</th>\n",
       "      <td>2017-01-01 03:00:00</td>\n",
       "      <td>152</td>\n",
       "      <td>50</td>\n",
       "      <td>134</td>\n",
       "    </tr>\n",
       "    <tr>\n",
       "      <th>4</th>\n",
       "      <td>2017-01-01 04:00:00</td>\n",
       "      <td>156</td>\n",
       "      <td>42</td>\n",
       "      <td>114</td>\n",
       "    </tr>\n",
       "  </tbody>\n",
       "</table>\n",
       "</div>"
      ],
      "text/plain": [
       "             datetime  garda  fire  ambulance\n",
       "0 2017-01-01 00:00:00    174    51        128\n",
       "1 2017-01-01 01:00:00    177    43        129\n",
       "2 2017-01-01 02:00:00    165    54        113\n",
       "3 2017-01-01 03:00:00    152    50        134\n",
       "4 2017-01-01 04:00:00    156    42        114"
      ]
     },
     "execution_count": 21,
     "metadata": {},
     "output_type": "execute_result"
    }
   ],
   "source": [
    "# The command below adds the ambulance column values from the ecas_ambulance dataframe to the ecas dataframe and labels it ambulance\n",
    "# Reference: https://stackoverflow.com/questions/46396257/adding-a-new-column-in-pandas-dataframe-from-another-dataframe-with-differing-in\n",
    "\n",
    "ecas['ambulance'] = ecas_ambulance['ambulance'].values\n",
    "\n",
    "#The new dataframe is printed\n",
    "ecas.head()"
   ]
  },
  {
   "cell_type": "code",
   "execution_count": 22,
   "metadata": {},
   "outputs": [
    {
     "data": {
      "text/html": [
       "<div>\n",
       "<style scoped>\n",
       "    .dataframe tbody tr th:only-of-type {\n",
       "        vertical-align: middle;\n",
       "    }\n",
       "\n",
       "    .dataframe tbody tr th {\n",
       "        vertical-align: top;\n",
       "    }\n",
       "\n",
       "    .dataframe thead th {\n",
       "        text-align: right;\n",
       "    }\n",
       "</style>\n",
       "<table border=\"1\" class=\"dataframe\">\n",
       "  <thead>\n",
       "    <tr style=\"text-align: right;\">\n",
       "      <th></th>\n",
       "      <th>datetime</th>\n",
       "      <th>garda</th>\n",
       "      <th>fire</th>\n",
       "      <th>ambulance</th>\n",
       "      <th>coast_guard</th>\n",
       "    </tr>\n",
       "  </thead>\n",
       "  <tbody>\n",
       "    <tr>\n",
       "      <th>0</th>\n",
       "      <td>2017-01-01 00:00:00</td>\n",
       "      <td>174</td>\n",
       "      <td>51</td>\n",
       "      <td>128</td>\n",
       "      <td>108</td>\n",
       "    </tr>\n",
       "    <tr>\n",
       "      <th>1</th>\n",
       "      <td>2017-01-01 01:00:00</td>\n",
       "      <td>177</td>\n",
       "      <td>43</td>\n",
       "      <td>129</td>\n",
       "      <td>107</td>\n",
       "    </tr>\n",
       "    <tr>\n",
       "      <th>2</th>\n",
       "      <td>2017-01-01 02:00:00</td>\n",
       "      <td>165</td>\n",
       "      <td>54</td>\n",
       "      <td>113</td>\n",
       "      <td>104</td>\n",
       "    </tr>\n",
       "    <tr>\n",
       "      <th>3</th>\n",
       "      <td>2017-01-01 03:00:00</td>\n",
       "      <td>152</td>\n",
       "      <td>50</td>\n",
       "      <td>134</td>\n",
       "      <td>112</td>\n",
       "    </tr>\n",
       "    <tr>\n",
       "      <th>4</th>\n",
       "      <td>2017-01-01 04:00:00</td>\n",
       "      <td>156</td>\n",
       "      <td>42</td>\n",
       "      <td>114</td>\n",
       "      <td>108</td>\n",
       "    </tr>\n",
       "  </tbody>\n",
       "</table>\n",
       "</div>"
      ],
      "text/plain": [
       "             datetime  garda  fire  ambulance  coast_guard\n",
       "0 2017-01-01 00:00:00    174    51        128          108\n",
       "1 2017-01-01 01:00:00    177    43        129          107\n",
       "2 2017-01-01 02:00:00    165    54        113          104\n",
       "3 2017-01-01 03:00:00    152    50        134          112\n",
       "4 2017-01-01 04:00:00    156    42        114          108"
      ]
     },
     "execution_count": 22,
     "metadata": {},
     "output_type": "execute_result"
    }
   ],
   "source": [
    "# The command below adds the coast_guard column values from the ecas_coast_guard dataframe to the ecas dataframe and labels it coiast_guard\n",
    "# Reference: https://stackoverflow.com/questions/46396257/adding-a-new-column-in-pandas-dataframe-from-another-dataframe-with-differing-in\n",
    "\n",
    "ecas['coast_guard'] = ecas_coast_guard['coast_guard'].values\n",
    "\n",
    "#The new dataframe is printed\n",
    "ecas.head()"
   ]
  },
  {
   "cell_type": "code",
   "execution_count": 23,
   "metadata": {
    "scrolled": true
   },
   "outputs": [
    {
     "data": {
      "text/html": [
       "<div>\n",
       "<style scoped>\n",
       "    .dataframe tbody tr th:only-of-type {\n",
       "        vertical-align: middle;\n",
       "    }\n",
       "\n",
       "    .dataframe tbody tr th {\n",
       "        vertical-align: top;\n",
       "    }\n",
       "\n",
       "    .dataframe thead th {\n",
       "        text-align: right;\n",
       "    }\n",
       "</style>\n",
       "<table border=\"1\" class=\"dataframe\">\n",
       "  <thead>\n",
       "    <tr style=\"text-align: right;\">\n",
       "      <th></th>\n",
       "      <th>datetime</th>\n",
       "      <th>garda</th>\n",
       "      <th>fire</th>\n",
       "      <th>ambulance</th>\n",
       "      <th>coast_guard</th>\n",
       "      <th>total_calls</th>\n",
       "    </tr>\n",
       "  </thead>\n",
       "  <tbody>\n",
       "    <tr>\n",
       "      <th>0</th>\n",
       "      <td>2017-01-01 00:00:00</td>\n",
       "      <td>174</td>\n",
       "      <td>51</td>\n",
       "      <td>128</td>\n",
       "      <td>108</td>\n",
       "      <td>461</td>\n",
       "    </tr>\n",
       "    <tr>\n",
       "      <th>1</th>\n",
       "      <td>2017-01-01 01:00:00</td>\n",
       "      <td>177</td>\n",
       "      <td>43</td>\n",
       "      <td>129</td>\n",
       "      <td>107</td>\n",
       "      <td>456</td>\n",
       "    </tr>\n",
       "    <tr>\n",
       "      <th>2</th>\n",
       "      <td>2017-01-01 02:00:00</td>\n",
       "      <td>165</td>\n",
       "      <td>54</td>\n",
       "      <td>113</td>\n",
       "      <td>104</td>\n",
       "      <td>436</td>\n",
       "    </tr>\n",
       "    <tr>\n",
       "      <th>3</th>\n",
       "      <td>2017-01-01 03:00:00</td>\n",
       "      <td>152</td>\n",
       "      <td>50</td>\n",
       "      <td>134</td>\n",
       "      <td>112</td>\n",
       "      <td>448</td>\n",
       "    </tr>\n",
       "    <tr>\n",
       "      <th>4</th>\n",
       "      <td>2017-01-01 04:00:00</td>\n",
       "      <td>156</td>\n",
       "      <td>42</td>\n",
       "      <td>114</td>\n",
       "      <td>108</td>\n",
       "      <td>420</td>\n",
       "    </tr>\n",
       "  </tbody>\n",
       "</table>\n",
       "</div>"
      ],
      "text/plain": [
       "             datetime  garda  fire  ambulance  coast_guard  total_calls\n",
       "0 2017-01-01 00:00:00    174    51        128          108          461\n",
       "1 2017-01-01 01:00:00    177    43        129          107          456\n",
       "2 2017-01-01 02:00:00    165    54        113          104          436\n",
       "3 2017-01-01 03:00:00    152    50        134          112          448\n",
       "4 2017-01-01 04:00:00    156    42        114          108          420"
      ]
     },
     "execution_count": 23,
     "metadata": {},
     "output_type": "execute_result"
    }
   ],
   "source": [
    "# Sum columns garda, fire, ambulance, coast_guard to give a new column total_calls\n",
    "# Reference: https://stackoverflow.com/questions/34023918/make-new-column-in-panda-dataframe-by-adding-values-from-other-columns/34023971\n",
    "\n",
    "ecas['total_calls'] = ecas['garda'] + ecas['fire'] + ecas['ambulance'] + ecas['coast_guard']\n",
    "\n",
    "#The new dataframe is printed\n",
    "ecas.head()"
   ]
  },
  {
   "cell_type": "code",
   "execution_count": 24,
   "metadata": {},
   "outputs": [
    {
     "data": {
      "text/plain": [
       "67244"
      ]
     },
     "execution_count": 24,
     "metadata": {},
     "output_type": "execute_result"
    }
   ],
   "source": [
    "ecas['total_calls'].sum()"
   ]
  },
  {
   "cell_type": "code",
   "execution_count": 25,
   "metadata": {},
   "outputs": [
    {
     "data": {
      "text/plain": [
       "datetime       datetime64[ns]\n",
       "garda                   int32\n",
       "fire                    int32\n",
       "ambulance               int32\n",
       "coast_guard             int32\n",
       "total_calls             int32\n",
       "dtype: object"
      ]
     },
     "execution_count": 25,
     "metadata": {},
     "output_type": "execute_result"
    }
   ],
   "source": [
    "ecas.dtypes"
   ]
  },
  {
   "cell_type": "code",
   "execution_count": 26,
   "metadata": {},
   "outputs": [
    {
     "data": {
      "text/html": [
       "<div>\n",
       "<style scoped>\n",
       "    .dataframe tbody tr th:only-of-type {\n",
       "        vertical-align: middle;\n",
       "    }\n",
       "\n",
       "    .dataframe tbody tr th {\n",
       "        vertical-align: top;\n",
       "    }\n",
       "\n",
       "    .dataframe thead th {\n",
       "        text-align: right;\n",
       "    }\n",
       "</style>\n",
       "<table border=\"1\" class=\"dataframe\">\n",
       "  <thead>\n",
       "    <tr style=\"text-align: right;\">\n",
       "      <th></th>\n",
       "      <th>garda</th>\n",
       "      <th>fire</th>\n",
       "      <th>ambulance</th>\n",
       "      <th>coast_guard</th>\n",
       "      <th>total_calls</th>\n",
       "    </tr>\n",
       "  </thead>\n",
       "  <tbody>\n",
       "    <tr>\n",
       "      <th>count</th>\n",
       "      <td>145.000000</td>\n",
       "      <td>145.000000</td>\n",
       "      <td>145.000000</td>\n",
       "      <td>145.000000</td>\n",
       "      <td>145.000000</td>\n",
       "    </tr>\n",
       "    <tr>\n",
       "      <th>mean</th>\n",
       "      <td>170.344828</td>\n",
       "      <td>52.151724</td>\n",
       "      <td>126.834483</td>\n",
       "      <td>114.420690</td>\n",
       "      <td>463.751724</td>\n",
       "    </tr>\n",
       "    <tr>\n",
       "      <th>std</th>\n",
       "      <td>11.925917</td>\n",
       "      <td>6.943553</td>\n",
       "      <td>11.941997</td>\n",
       "      <td>11.072783</td>\n",
       "      <td>22.919403</td>\n",
       "    </tr>\n",
       "    <tr>\n",
       "      <th>min</th>\n",
       "      <td>141.000000</td>\n",
       "      <td>34.000000</td>\n",
       "      <td>103.000000</td>\n",
       "      <td>85.000000</td>\n",
       "      <td>409.000000</td>\n",
       "    </tr>\n",
       "    <tr>\n",
       "      <th>25%</th>\n",
       "      <td>163.000000</td>\n",
       "      <td>48.000000</td>\n",
       "      <td>119.000000</td>\n",
       "      <td>108.000000</td>\n",
       "      <td>448.000000</td>\n",
       "    </tr>\n",
       "    <tr>\n",
       "      <th>50%</th>\n",
       "      <td>170.000000</td>\n",
       "      <td>53.000000</td>\n",
       "      <td>126.000000</td>\n",
       "      <td>114.000000</td>\n",
       "      <td>462.000000</td>\n",
       "    </tr>\n",
       "    <tr>\n",
       "      <th>75%</th>\n",
       "      <td>178.000000</td>\n",
       "      <td>56.000000</td>\n",
       "      <td>135.000000</td>\n",
       "      <td>121.000000</td>\n",
       "      <td>478.000000</td>\n",
       "    </tr>\n",
       "    <tr>\n",
       "      <th>max</th>\n",
       "      <td>206.000000</td>\n",
       "      <td>69.000000</td>\n",
       "      <td>163.000000</td>\n",
       "      <td>145.000000</td>\n",
       "      <td>518.000000</td>\n",
       "    </tr>\n",
       "  </tbody>\n",
       "</table>\n",
       "</div>"
      ],
      "text/plain": [
       "            garda        fire   ambulance  coast_guard  total_calls\n",
       "count  145.000000  145.000000  145.000000   145.000000   145.000000\n",
       "mean   170.344828   52.151724  126.834483   114.420690   463.751724\n",
       "std     11.925917    6.943553   11.941997    11.072783    22.919403\n",
       "min    141.000000   34.000000  103.000000    85.000000   409.000000\n",
       "25%    163.000000   48.000000  119.000000   108.000000   448.000000\n",
       "50%    170.000000   53.000000  126.000000   114.000000   462.000000\n",
       "75%    178.000000   56.000000  135.000000   121.000000   478.000000\n",
       "max    206.000000   69.000000  163.000000   145.000000   518.000000"
      ]
     },
     "execution_count": 26,
     "metadata": {},
     "output_type": "execute_result"
    }
   ],
   "source": [
    "ecas.describe()"
   ]
  },
  {
   "cell_type": "code",
   "execution_count": 27,
   "metadata": {},
   "outputs": [
    {
     "name": "stderr",
     "output_type": "stream",
     "text": [
      "C:\\Users\\User\\Anaconda3\\lib\\site-packages\\scipy\\stats\\stats.py:1713: FutureWarning: Using a non-tuple sequence for multidimensional indexing is deprecated; use `arr[tuple(seq)]` instead of `arr[seq]`. In the future this will be interpreted as an array index, `arr[np.array(seq)]`, which will result either in an error or a different result.\n",
      "  return np.add.reduce(sorted[indexer] * weights, axis=axis) / sumval\n"
     ]
    },
    {
     "data": {
      "text/plain": [
       "<matplotlib.legend.Legend at 0xe126560f60>"
      ]
     },
     "execution_count": 27,
     "metadata": {},
     "output_type": "execute_result"
    },
    {
     "data": {
      "image/png": "[encoded data removed]",
      "text/plain": [
       "<Figure size 720x720 with 1 Axes>"
      ]
     },
     "metadata": {
      "needs_background": "light"
     },
     "output_type": "display_data"
    }
   ],
   "source": [
    "#sns.distplot(ecas['total_calls'], hist=True, kde=False, label = 'Total Calls', color='yellow')\n",
    "plt.rcParams['figure.figsize'] = (10, 10)\n",
    "sns.distplot(ecas['garda'], hist=True, kde=False, label = 'garda' , color='blue')\n",
    "sns.distplot(ecas['fire'], hist=True, kde=False, label = 'fire' , color='red')\n",
    "sns.distplot(ecas['ambulance'], hist=True, kde=False, label = 'ambulance' , color='pink')\n",
    "sns.distplot(ecas['coast_guard'], hist=True, kde=False, label = 'coast_guard' , color='green')\n",
    "plt.legend()"
   ]
  },
  {
   "cell_type": "code",
   "execution_count": 28,
   "metadata": {},
   "outputs": [
    {
     "data": {
      "text/plain": [
       "<matplotlib.axes._subplots.AxesSubplot at 0xe126b485f8>"
      ]
     },
     "execution_count": 28,
     "metadata": {},
     "output_type": "execute_result"
    },
    {
     "data": {
      "image/png": "[encoded data removed]",
      "text/plain": [
       "<Figure size 720x720 with 1 Axes>"
      ]
     },
     "metadata": {
      "needs_background": "light"
     },
     "output_type": "display_data"
    }
   ],
   "source": [
    "plt.rcParams['figure.figsize'] = (10, 10)\n",
    "sns.lineplot(x=\"datetime\", y=\"garda\", data=ecas)"
   ]
  },
  {
   "cell_type": "code",
   "execution_count": 29,
   "metadata": {},
   "outputs": [
    {
     "data": {
      "text/plain": [
       "<matplotlib.axes._subplots.AxesSubplot at 0xe12697b358>"
      ]
     },
     "execution_count": 29,
     "metadata": {},
     "output_type": "execute_result"
    },
    {
     "data": {
      "image/png": "[encoded data removed]",
      "text/plain": [
       "<Figure size 720x720 with 1 Axes>"
      ]
     },
     "metadata": {
      "needs_background": "light"
     },
     "output_type": "display_data"
    }
   ],
   "source": [
    "plt.rcParams['figure.figsize'] = (10, 10)\n",
    "sns.lineplot(x=\"datetime\", y=\"total_calls\", data=ecas)\n"
   ]
  },
  {
   "cell_type": "markdown",
   "metadata": {},
   "source": [
    "## Average Call Duration\n",
    "\n",
    "The average ECAS call duration is 7.57 in 2017 according to the Department of environment website below.\n",
    "\n",
    "In this section we will build this in to out model to simulate how many agents need to be available so that no call is queued. \n",
    "\n",
    "There will be two more variables added to the ecas dataframe\n",
    "\n",
    "1. total_avg_talk_time\n",
    "2. agents_required\n",
    "\n",
    "Reference: \n",
    "https://www.dccae.gov.ie/en-ie/news-and-media/press-releases/Pages/Minister-Denis-Naughten-Publishes-New-Figures-on-Ireland%E2%80%99s-Emergency-Call-Answering-Service.aspx"
   ]
  },
  {
   "cell_type": "markdown",
   "metadata": {},
   "source": [
    "### Add talk_time and agent_required\n",
    "\n",
    "The next section of code will add in talk_time and agents_required to the ecas dataframe."
   ]
  },
  {
   "cell_type": "code",
   "execution_count": 30,
   "metadata": {},
   "outputs": [
    {
     "data": {
      "text/html": [
       "<div>\n",
       "<style scoped>\n",
       "    .dataframe tbody tr th:only-of-type {\n",
       "        vertical-align: middle;\n",
       "    }\n",
       "\n",
       "    .dataframe tbody tr th {\n",
       "        vertical-align: top;\n",
       "    }\n",
       "\n",
       "    .dataframe thead th {\n",
       "        text-align: right;\n",
       "    }\n",
       "</style>\n",
       "<table border=\"1\" class=\"dataframe\">\n",
       "  <thead>\n",
       "    <tr style=\"text-align: right;\">\n",
       "      <th></th>\n",
       "      <th>datetime</th>\n",
       "      <th>garda</th>\n",
       "      <th>fire</th>\n",
       "      <th>ambulance</th>\n",
       "      <th>coast_guard</th>\n",
       "      <th>total_calls</th>\n",
       "      <th>total_avg_talk_time</th>\n",
       "    </tr>\n",
       "  </thead>\n",
       "  <tbody>\n",
       "    <tr>\n",
       "      <th>0</th>\n",
       "      <td>2017-01-01 00:00:00</td>\n",
       "      <td>174</td>\n",
       "      <td>51</td>\n",
       "      <td>128</td>\n",
       "      <td>108</td>\n",
       "      <td>461</td>\n",
       "      <td>3688</td>\n",
       "    </tr>\n",
       "    <tr>\n",
       "      <th>1</th>\n",
       "      <td>2017-01-01 01:00:00</td>\n",
       "      <td>177</td>\n",
       "      <td>43</td>\n",
       "      <td>129</td>\n",
       "      <td>107</td>\n",
       "      <td>456</td>\n",
       "      <td>3648</td>\n",
       "    </tr>\n",
       "    <tr>\n",
       "      <th>2</th>\n",
       "      <td>2017-01-01 02:00:00</td>\n",
       "      <td>165</td>\n",
       "      <td>54</td>\n",
       "      <td>113</td>\n",
       "      <td>104</td>\n",
       "      <td>436</td>\n",
       "      <td>3488</td>\n",
       "    </tr>\n",
       "    <tr>\n",
       "      <th>3</th>\n",
       "      <td>2017-01-01 03:00:00</td>\n",
       "      <td>152</td>\n",
       "      <td>50</td>\n",
       "      <td>134</td>\n",
       "      <td>112</td>\n",
       "      <td>448</td>\n",
       "      <td>3584</td>\n",
       "    </tr>\n",
       "    <tr>\n",
       "      <th>4</th>\n",
       "      <td>2017-01-01 04:00:00</td>\n",
       "      <td>156</td>\n",
       "      <td>42</td>\n",
       "      <td>114</td>\n",
       "      <td>108</td>\n",
       "      <td>420</td>\n",
       "      <td>3360</td>\n",
       "    </tr>\n",
       "  </tbody>\n",
       "</table>\n",
       "</div>"
      ],
      "text/plain": [
       "             datetime  garda  fire  ambulance  coast_guard  total_calls  \\\n",
       "0 2017-01-01 00:00:00    174    51        128          108          461   \n",
       "1 2017-01-01 01:00:00    177    43        129          107          456   \n",
       "2 2017-01-01 02:00:00    165    54        113          104          436   \n",
       "3 2017-01-01 03:00:00    152    50        134          112          448   \n",
       "4 2017-01-01 04:00:00    156    42        114          108          420   \n",
       "\n",
       "   total_avg_talk_time  \n",
       "0                 3688  \n",
       "1                 3648  \n",
       "2                 3488  \n",
       "3                 3584  \n",
       "4                 3360  "
      ]
     },
     "execution_count": 30,
     "metadata": {},
     "output_type": "execute_result"
    }
   ],
   "source": [
    "ecas['total_avg_talk_time'] = ecas['total_calls'] * 8\n",
    "ecas.head()"
   ]
  },
  {
   "cell_type": "code",
   "execution_count": 31,
   "metadata": {},
   "outputs": [
    {
     "data": {
      "text/html": [
       "<div>\n",
       "<style scoped>\n",
       "    .dataframe tbody tr th:only-of-type {\n",
       "        vertical-align: middle;\n",
       "    }\n",
       "\n",
       "    .dataframe tbody tr th {\n",
       "        vertical-align: top;\n",
       "    }\n",
       "\n",
       "    .dataframe thead th {\n",
       "        text-align: right;\n",
       "    }\n",
       "</style>\n",
       "<table border=\"1\" class=\"dataframe\">\n",
       "  <thead>\n",
       "    <tr style=\"text-align: right;\">\n",
       "      <th></th>\n",
       "      <th>datetime</th>\n",
       "      <th>garda</th>\n",
       "      <th>fire</th>\n",
       "      <th>ambulance</th>\n",
       "      <th>coast_guard</th>\n",
       "      <th>total_calls</th>\n",
       "      <th>total_avg_talk_time</th>\n",
       "    </tr>\n",
       "  </thead>\n",
       "  <tbody>\n",
       "  </tbody>\n",
       "</table>\n",
       "</div>"
      ],
      "text/plain": [
       "Empty DataFrame\n",
       "Columns: [datetime, garda, fire, ambulance, coast_guard, total_calls, total_avg_talk_time]\n",
       "Index: []"
      ]
     },
     "execution_count": 31,
     "metadata": {},
     "output_type": "execute_result"
    }
   ],
   "source": [
    "ecas_jan = ecas.loc['2018-01-01':'2018-01-31']\n",
    "ecas_jan.head()"
   ]
  },
  {
   "cell_type": "code",
   "execution_count": 32,
   "metadata": {},
   "outputs": [
    {
     "data": {
      "text/plain": [
       "0"
      ]
     },
     "execution_count": 32,
     "metadata": {},
     "output_type": "execute_result"
    }
   ],
   "source": [
    "ecas_jan['total_calls'].sum()"
   ]
  },
  {
   "cell_type": "code",
   "execution_count": 33,
   "metadata": {},
   "outputs": [
    {
     "data": {
      "text/html": [
       "<div>\n",
       "<style scoped>\n",
       "    .dataframe tbody tr th:only-of-type {\n",
       "        vertical-align: middle;\n",
       "    }\n",
       "\n",
       "    .dataframe tbody tr th {\n",
       "        vertical-align: top;\n",
       "    }\n",
       "\n",
       "    .dataframe thead th {\n",
       "        text-align: right;\n",
       "    }\n",
       "</style>\n",
       "<table border=\"1\" class=\"dataframe\">\n",
       "  <thead>\n",
       "    <tr style=\"text-align: right;\">\n",
       "      <th></th>\n",
       "      <th>datetime</th>\n",
       "      <th>garda</th>\n",
       "      <th>fire</th>\n",
       "      <th>ambulance</th>\n",
       "      <th>coast_guard</th>\n",
       "      <th>total_calls</th>\n",
       "      <th>total_avg_talk_time</th>\n",
       "    </tr>\n",
       "  </thead>\n",
       "  <tbody>\n",
       "  </tbody>\n",
       "</table>\n",
       "</div>"
      ],
      "text/plain": [
       "Empty DataFrame\n",
       "Columns: [datetime, garda, fire, ambulance, coast_guard, total_calls, total_avg_talk_time]\n",
       "Index: []"
      ]
     },
     "execution_count": 33,
     "metadata": {},
     "output_type": "execute_result"
    }
   ],
   "source": [
    "ecas_jan.head()"
   ]
  },
  {
   "cell_type": "code",
   "execution_count": 34,
   "metadata": {},
   "outputs": [
    {
     "ename": "AttributeError",
     "evalue": "'RangeIndex' object has no attribute 'month'",
     "output_type": "error",
     "traceback": [
      "\u001b[1;31m---------------------------------------------------------------------------\u001b[0m",
      "\u001b[1;31mAttributeError\u001b[0m                            Traceback (most recent call last)",
      "\u001b[1;32m<ipython-input-34-2b0eda6f6384>\u001b[0m in \u001b[0;36m<module>\u001b[1;34m\u001b[0m\n\u001b[1;32m----> 1\u001b[1;33m \u001b[0mecas\u001b[0m\u001b[1;33m[\u001b[0m\u001b[0mecas\u001b[0m\u001b[1;33m.\u001b[0m\u001b[0mindex\u001b[0m\u001b[1;33m.\u001b[0m\u001b[0mmonth\u001b[0m \u001b[1;33m==\u001b[0m \u001b[1;36m1\u001b[0m\u001b[1;33m]\u001b[0m\u001b[1;33m[\u001b[0m\u001b[1;34m'total_calls'\u001b[0m\u001b[1;33m]\u001b[0m\u001b[1;33m.\u001b[0m\u001b[0msum\u001b[0m\u001b[1;33m(\u001b[0m\u001b[1;33m)\u001b[0m\u001b[1;33m\u001b[0m\u001b[1;33m\u001b[0m\u001b[0m\n\u001b[0m",
      "\u001b[1;31mAttributeError\u001b[0m: 'RangeIndex' object has no attribute 'month'"
     ]
    }
   ],
   "source": [
    "ecas[ecas.index.month == 1]['total_calls'].sum()"
   ]
  },
  {
   "cell_type": "code",
   "execution_count": null,
   "metadata": {},
   "outputs": [],
   "source": [
    "ecas[ecas.index == '2018-01-01 00:00:00']['total_calls'].values"
   ]
  },
  {
   "cell_type": "markdown",
   "metadata": {},
   "source": [
    "### Poisson Probability\n",
    "\n",
    "The poisson probability of a call arriving in a particular interval can be calculated as follows:\n"
   ]
  },
  {
   "cell_type": "code",
   "execution_count": null,
   "metadata": {},
   "outputs": [],
   "source": []
  },
  {
   "cell_type": "code",
   "execution_count": null,
   "metadata": {},
   "outputs": [],
   "source": [
    "\n",
    "from scipy.special import factorial\n",
    "\n",
    "time_p = '2018-01-01 00:00:00'\n",
    "\n",
    "calls_per_min = ecas[ecas.index == time_p]['total_calls'].values/60\n",
    "\n",
    "minutes = 5\n",
    "\n",
    "# Expected events\n",
    "#lam = calls_per_min[0] * minutes\n",
    "\n",
    "#k = 2\n",
    "#pk = np.exp(-lam) * np.power(lam, k) / factorial(k)\n",
    "#print(f'The probability of {k} calls in {minutes} minutes is {100*pk:.2f}% for the time period {time_p}')\n",
    "\n",
    "#Reference: https://github.com/WillKoehrsen/Data-Analysis/blob/master/poisson/poisson.ipynb"
   ]
  },
  {
   "cell_type": "code",
   "execution_count": null,
   "metadata": {},
   "outputs": [],
   "source": []
  }
 ],
 "metadata": {
  "kernelspec": {
   "display_name": "Python 3",
   "language": "python",
   "name": "python3"
  },
  "language_info": {
   "codemirror_mode": {
    "name": "ipython",
    "version": 3
   },
   "file_extension": ".py",
   "mimetype": "text/x-python",
   "name": "python",
   "nbconvert_exporter": "python",
   "pygments_lexer": "ipython3",
   "version": "3.7.1"
  }
 },
 "nbformat": 4,
 "nbformat_minor": 2
}
